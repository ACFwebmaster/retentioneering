{
 "cells": [
  {
   "cell_type": "markdown",
   "metadata": {},
   "source": [
    "# 📊 Supporter Retention Analysis with Retentioneering\n",
    "\n",
    "Simple demonstration of calculating 6-month retention using native retentioneering data processors.\n",
    "\n",
    "---"
   ]
  },
  {
   "cell_type": "markdown",
   "metadata": {},
   "source": [
    "## Setup"
   ]
  },
  {
   "cell_type": "code",
   "execution_count": 1,
   "metadata": {},
   "outputs": [
    {
     "name": "stdout",
     "output_type": "stream",
     "text": [
      "Retentioneering version: 3.3.0\n"
     ]
    }
   ],
   "source": [
    "import pandas as pd\n",
    "import numpy as np\n",
    "from datetime import datetime, timedelta\n",
    "import warnings\n",
    "warnings.filterwarnings('ignore')\n",
    "\n",
    "import retentioneering\n",
    "from retentioneering.eventstream import Eventstream, EventstreamSchema\n",
    "\n",
    "print(f\"Retentioneering version: {retentioneering.__version__}\")"
   ]
  },
  {
   "cell_type": "code",
   "execution_count": 2,
   "metadata": {},
   "outputs": [
    {
     "name": "stdout",
     "output_type": "stream",
     "text": [
      "SixMonthRetentionProcessor imported successfully!\n"
     ]
    }
   ],
   "source": [
    "# Import our retention processor\n",
    "import sys\n",
    "sys.path.append('../')\n",
    "\n",
    "from src.retention_metrics.six_month_retention_processor import SixMonthRetentionProcessor\n",
    "\n",
    "print(\"SixMonthRetentionProcessor imported successfully!\")"
   ]
  },
  {
   "cell_type": "markdown",
   "metadata": {},
   "source": [
    "## Generate Demo Data"
   ]
  },
  {
   "cell_type": "code",
   "execution_count": 3,
   "metadata": {},
   "outputs": [
    {
     "name": "stderr",
     "output_type": "stream",
     "text": [
      "2025-07-14 13:25:44,473 - src.config.settings - INFO - __init__:130 - Configuration loaded for environment: development\n",
      "2025-07-14 13:25:44,474 - src.config.settings - INFO - __init__:131 - Debug mode: True\n",
      "2025-07-14 13:25:44,474 - src.config.settings - INFO - __init__:132 - Development mode: True\n",
      "2025-07-14 13:25:44,476 - src.data.extraction - INFO - __init__:43 - DataExtractor initialized\n",
      "2025-07-14 13:25:44,571 - src.data.extraction - DEBUG - _load_from_cache:508 - Loaded data from cache: data/raw/actions_2023-01-01_2024-12-31_none_none.pkl\n",
      "2025-07-14 13:25:44,571 - src.data.extraction - INFO - extract_supporter_actions:77 - Loaded supporter actions from cache: actions_2023-01-01_2024-12-31_none_none\n"
     ]
    },
    {
     "name": "stdout",
     "output_type": "stream",
     "text": [
      "Generated 630628 actions for 347613 supporters\n"
     ]
    },
    {
     "data": {
      "text/html": [
       "<div>\n",
       "<style scoped>\n",
       "    .dataframe tbody tr th:only-of-type {\n",
       "        vertical-align: middle;\n",
       "    }\n",
       "\n",
       "    .dataframe tbody tr th {\n",
       "        vertical-align: top;\n",
       "    }\n",
       "\n",
       "    .dataframe thead th {\n",
       "        text-align: right;\n",
       "    }\n",
       "</style>\n",
       "<table border=\"1\" class=\"dataframe\">\n",
       "  <thead>\n",
       "    <tr style=\"text-align: right;\">\n",
       "      <th></th>\n",
       "      <th>supporter_id</th>\n",
       "      <th>action_date</th>\n",
       "      <th>action_type</th>\n",
       "      <th>tags</th>\n",
       "      <th>supporter_level</th>\n",
       "    </tr>\n",
       "  </thead>\n",
       "  <tbody>\n",
       "    <tr>\n",
       "      <th>0</th>\n",
       "      <td>1140218</td>\n",
       "      <td>2023-01-27 03:48:06</td>\n",
       "      <td>VOL</td>\n",
       "      <td>A-VOL_EOI-Z-Z-</td>\n",
       "      <td>1</td>\n",
       "    </tr>\n",
       "    <tr>\n",
       "      <th>1</th>\n",
       "      <td>1553597</td>\n",
       "      <td>2023-03-16 03:39:47</td>\n",
       "      <td>VOL</td>\n",
       "      <td>A-VOL_EOI-Z-Z-</td>\n",
       "      <td>1</td>\n",
       "    </tr>\n",
       "    <tr>\n",
       "      <th>2</th>\n",
       "      <td>1561805</td>\n",
       "      <td>2023-04-10 23:08:41</td>\n",
       "      <td>VOL</td>\n",
       "      <td>A-VOL_EOI-Z-Z-</td>\n",
       "      <td>1</td>\n",
       "    </tr>\n",
       "    <tr>\n",
       "      <th>3</th>\n",
       "      <td>1578338</td>\n",
       "      <td>2023-07-05 06:48:11</td>\n",
       "      <td>VOL</td>\n",
       "      <td>A-VOL_EOI-Z-Z-</td>\n",
       "      <td>1</td>\n",
       "    </tr>\n",
       "    <tr>\n",
       "      <th>4</th>\n",
       "      <td>1590656</td>\n",
       "      <td>2023-07-05 07:01:42</td>\n",
       "      <td>VOL</td>\n",
       "      <td>A-VOL_EOI-Z-Z-</td>\n",
       "      <td>1</td>\n",
       "    </tr>\n",
       "  </tbody>\n",
       "</table>\n",
       "</div>"
      ],
      "text/plain": [
       "   supporter_id         action_date action_type            tags  \\\n",
       "0       1140218 2023-01-27 03:48:06         VOL  A-VOL_EOI-Z-Z-   \n",
       "1       1553597 2023-03-16 03:39:47         VOL  A-VOL_EOI-Z-Z-   \n",
       "2       1561805 2023-04-10 23:08:41         VOL  A-VOL_EOI-Z-Z-   \n",
       "3       1578338 2023-07-05 06:48:11         VOL  A-VOL_EOI-Z-Z-   \n",
       "4       1590656 2023-07-05 07:01:42         VOL  A-VOL_EOI-Z-Z-   \n",
       "\n",
       "   supporter_level  \n",
       "0                1  \n",
       "1                1  \n",
       "2                1  \n",
       "3                1  \n",
       "4                1  "
      ]
     },
     "execution_count": 3,
     "metadata": {},
     "output_type": "execute_result"
    }
   ],
   "source": [
    "USE_SQL_DATA = True\n",
    "\n",
    "if USE_SQL_DATA:\n",
    "    # Load data from SQL database\n",
    "    from src.data.extraction import DataExtractor\n",
    "    extractor = DataExtractor()\n",
    "    supporter_data = extractor.extract_supporter_actions(\n",
    "        start_date='2023-01-01',\n",
    "        end_date='2024-12-31',\n",
    "        use_cache=True\n",
    "    )\n",
    "\n",
    "else:\n",
    "    # Generate synthetic supporter data\n",
    "    np.random.seed(42)\n",
    "\n",
    "    action_types = ['donation', 'petition_signed', 'event_attended', 'newsletter_signup', 'volunteer_signup']\n",
    "    excluded_statuses = ['is_regular_giver', 'is_mid_value_donor']  # Status attributes to filter out\n",
    "\n",
    "    data = []\n",
    "    start_date = datetime(2023, 1, 1)\n",
    "\n",
    "    for supporter_id in range(1, 201):  # 200 supporters\n",
    "        n_actions = np.random.poisson(4) + 1\n",
    "        supporter_start = start_date + timedelta(days=np.random.randint(0, 365))\n",
    "        \n",
    "        for action_num in range(n_actions):\n",
    "            days_offset = np.random.exponential(30) * action_num\n",
    "            action_date = supporter_start + timedelta(days=int(days_offset))\n",
    "            \n",
    "            # Mix of real actions and status attributes\n",
    "            if np.random.random() < 0.1:\n",
    "                action_type = np.random.choice(excluded_statuses)\n",
    "            else:\n",
    "                action_type = np.random.choice(action_types)\n",
    "            \n",
    "            data.append({\n",
    "                'supporter_id': f'supporter_{supporter_id:03d}',\n",
    "                'action_type': action_type,\n",
    "                'action_date': action_date\n",
    "            })\n",
    "\n",
    "    supporter_data = pd.DataFrame(data)\n",
    "\n",
    "print(f\"Generated {len(supporter_data)} actions for {supporter_data['supporter_id'].nunique()} supporters\")\n",
    "supporter_data.head()"
   ]
  },
  {
   "cell_type": "markdown",
   "metadata": {},
   "source": [
    "## Create Eventstream"
   ]
  },
  {
   "cell_type": "code",
   "execution_count": 4,
   "metadata": {},
   "outputs": [
    {
     "name": "stderr",
     "output_type": "stream",
     "text": [
      "2025-07-14 13:25:44,683 - urllib3.connectionpool - DEBUG - _new_conn:1049 - Starting new HTTPS connection (2): ftrack-1.server.retentioneering.com:443\n",
      "2025-07-14 13:25:44,854 - urllib3.connectionpool - DEBUG - _make_request:544 - https://ftrack-1.server.retentioneering.com:443 \"POST /endpoint/event HTTP/1.1\" 204 0\n",
      "2025-07-14 13:25:45,609 - urllib3.connectionpool - DEBUG - _make_request:544 - https://ftrack-1.server.retentioneering.com:443 \"POST /endpoint/event HTTP/1.1\" 204 0\n",
      "2025-07-14 13:25:47,269 - urllib3.connectionpool - DEBUG - _make_request:544 - https://ftrack-1.server.retentioneering.com:443 \"POST /endpoint/event HTTP/1.1\" 204 0\n",
      "2025-07-14 13:25:47,270 - urllib3.connectionpool - DEBUG - _make_request:544 - https://ftrack-1.server.retentioneering.com:443 \"POST /endpoint/event HTTP/1.1\" 204 0\n",
      "2025-07-14 13:25:47,424 - urllib3.connectionpool - DEBUG - _new_conn:1049 - Starting new HTTPS connection (3): ftrack-1.server.retentioneering.com:443\n",
      "2025-07-14 13:25:47,425 - urllib3.connectionpool - DEBUG - _new_conn:1049 - Starting new HTTPS connection (4): ftrack-1.server.retentioneering.com:443\n",
      "2025-07-14 13:25:47,512 - urllib3.connectionpool - DEBUG - _new_conn:1049 - Starting new HTTPS connection (5): ftrack-1.server.retentioneering.com:443\n",
      "2025-07-14 13:25:47,512 - urllib3.connectionpool - DEBUG - _new_conn:1049 - Starting new HTTPS connection (6): ftrack-1.server.retentioneering.com:443\n",
      "2025-07-14 13:25:47,528 - urllib3.connectionpool - DEBUG - _new_conn:1049 - Starting new HTTPS connection (7): ftrack-1.server.retentioneering.com:443\n",
      "2025-07-14 13:25:47,529 - urllib3.connectionpool - DEBUG - _new_conn:1049 - Starting new HTTPS connection (8): ftrack-1.server.retentioneering.com:443\n",
      "2025-07-14 13:25:47,531 - urllib3.connectionpool - DEBUG - _new_conn:1049 - Starting new HTTPS connection (9): ftrack-1.server.retentioneering.com:443\n",
      "2025-07-14 13:25:47,621 - urllib3.connectionpool - DEBUG - _make_request:544 - https://ftrack-1.server.retentioneering.com:443 \"POST /endpoint/event HTTP/1.1\" 204 0\n",
      "2025-07-14 13:25:47,663 - urllib3.connectionpool - DEBUG - _new_conn:1049 - Starting new HTTPS connection (10): ftrack-1.server.retentioneering.com:443\n",
      "2025-07-14 13:25:47,691 - urllib3.connectionpool - DEBUG - _make_request:544 - https://ftrack-1.server.retentioneering.com:443 \"POST /endpoint/event HTTP/1.1\" 204 0\n"
     ]
    },
    {
     "name": "stdout",
     "output_type": "stream",
     "text": [
      "Eventstream created: 630628 events\n"
     ]
    },
    {
     "data": {
      "text/html": [
       "<div>\n",
       "<style scoped>\n",
       "    .dataframe tbody tr th:only-of-type {\n",
       "        vertical-align: middle;\n",
       "    }\n",
       "\n",
       "    .dataframe tbody tr th {\n",
       "        vertical-align: top;\n",
       "    }\n",
       "\n",
       "    .dataframe thead th {\n",
       "        text-align: right;\n",
       "    }\n",
       "</style>\n",
       "<table border=\"1\" class=\"dataframe\">\n",
       "  <thead>\n",
       "    <tr style=\"text-align: right;\">\n",
       "      <th></th>\n",
       "      <th></th>\n",
       "      <th>value</th>\n",
       "    </tr>\n",
       "    <tr>\n",
       "      <th>category</th>\n",
       "      <th>metric</th>\n",
       "      <th></th>\n",
       "    </tr>\n",
       "  </thead>\n",
       "  <tbody>\n",
       "    <tr>\n",
       "      <th rowspan=\"5\" valign=\"top\">overall</th>\n",
       "      <th>unique_users</th>\n",
       "      <td>347613</td>\n",
       "    </tr>\n",
       "    <tr>\n",
       "      <th>unique_events</th>\n",
       "      <td>15</td>\n",
       "    </tr>\n",
       "    <tr>\n",
       "      <th>eventstream_start</th>\n",
       "      <td>2023-01-01 00:01:02</td>\n",
       "    </tr>\n",
       "    <tr>\n",
       "      <th>eventstream_end</th>\n",
       "      <td>2024-12-30 23:42:11</td>\n",
       "    </tr>\n",
       "    <tr>\n",
       "      <th>eventstream_length</th>\n",
       "      <td>729 days 23:41:09</td>\n",
       "    </tr>\n",
       "    <tr>\n",
       "      <th rowspan=\"5\" valign=\"top\">path_length_time</th>\n",
       "      <th>mean</th>\n",
       "      <td>46 days 13:35:13</td>\n",
       "    </tr>\n",
       "    <tr>\n",
       "      <th>std</th>\n",
       "      <td>133 days 04:48:31</td>\n",
       "    </tr>\n",
       "    <tr>\n",
       "      <th>median</th>\n",
       "      <td>0 days 00:00:00</td>\n",
       "    </tr>\n",
       "    <tr>\n",
       "      <th>min</th>\n",
       "      <td>0 days 00:00:00</td>\n",
       "    </tr>\n",
       "    <tr>\n",
       "      <th>max</th>\n",
       "      <td>728 days 03:41:54</td>\n",
       "    </tr>\n",
       "    <tr>\n",
       "      <th rowspan=\"5\" valign=\"top\">path_length_steps</th>\n",
       "      <th>mean</th>\n",
       "      <td>1.81</td>\n",
       "    </tr>\n",
       "    <tr>\n",
       "      <th>std</th>\n",
       "      <td>3.05</td>\n",
       "    </tr>\n",
       "    <tr>\n",
       "      <th>median</th>\n",
       "      <td>1.0</td>\n",
       "    </tr>\n",
       "    <tr>\n",
       "      <th>min</th>\n",
       "      <td>1</td>\n",
       "    </tr>\n",
       "    <tr>\n",
       "      <th>max</th>\n",
       "      <td>109</td>\n",
       "    </tr>\n",
       "  </tbody>\n",
       "</table>\n",
       "</div>"
      ],
      "text/plain": [
       "                                                    value\n",
       "category          metric                                 \n",
       "overall           unique_users                     347613\n",
       "                  unique_events                        15\n",
       "                  eventstream_start   2023-01-01 00:01:02\n",
       "                  eventstream_end     2024-12-30 23:42:11\n",
       "                  eventstream_length    729 days 23:41:09\n",
       "path_length_time  mean                   46 days 13:35:13\n",
       "                  std                   133 days 04:48:31\n",
       "                  median                  0 days 00:00:00\n",
       "                  min                     0 days 00:00:00\n",
       "                  max                   728 days 03:41:54\n",
       "path_length_steps mean                               1.81\n",
       "                  std                                3.05\n",
       "                  median                              1.0\n",
       "                  min                                   1\n",
       "                  max                                 109"
      ]
     },
     "execution_count": 4,
     "metadata": {},
     "output_type": "execute_result"
    }
   ],
   "source": [
    "# Create retentioneering Eventstream\n",
    "raw_data_schema = {\n",
    "    'user_id': 'supporter_id',\n",
    "    'event_name': 'action_type',\n",
    "    'event_timestamp': 'action_date'\n",
    "}\n",
    "\n",
    "# schema = EventstreamSchema(\n",
    "#     user_id='supporter_id',\n",
    "#     event_type='action_type',\n",
    "#     event_timestamp='action_date'\n",
    "# )\n",
    "\n",
    "eventstream = Eventstream(supporter_data, raw_data_schema=raw_data_schema, add_start_end_events=False)\n",
    "print(f\"Eventstream created: {len(eventstream.to_dataframe())} events\")\n",
    "\n",
    "# Quick description\n",
    "eventstream.describe()"
   ]
  },
  {
   "cell_type": "markdown",
   "metadata": {},
   "source": [
    "## Calculate 6-Month Retention"
   ]
  },
  {
   "cell_type": "code",
   "execution_count": 5,
   "metadata": {},
   "outputs": [
    {
     "name": "stderr",
     "output_type": "stream",
     "text": [
      "2025-07-14 13:25:47,822 - src.retention_metrics.six_month_retention_processor - INFO - calculate_metric_1:62 - Starting 6-month retention calculation\n",
      "2025-07-14 13:25:47,823 - src.retention_metrics.six_month_retention_processor - DEBUG - _filter_eventstream_for_analysis:134 - Filtering eventstream for analysis period\n",
      "2025-07-14 13:25:47,825 - urllib3.connectionpool - DEBUG - _new_conn:1049 - Starting new HTTPS connection (11): ftrack-1.server.retentioneering.com:443\n",
      "2025-07-14 13:25:47,914 - urllib3.connectionpool - DEBUG - _new_conn:1049 - Starting new HTTPS connection (12): ftrack-1.server.retentioneering.com:443\n",
      "2025-07-14 13:25:47,915 - urllib3.connectionpool - DEBUG - _new_conn:1049 - Starting new HTTPS connection (13): ftrack-1.server.retentioneering.com:443\n",
      "2025-07-14 13:25:47,933 - urllib3.connectionpool - DEBUG - _make_request:544 - https://ftrack-1.server.retentioneering.com:443 \"POST /endpoint/event HTTP/1.1\" 204 0\n"
     ]
    },
    {
     "name": "stdout",
     "output_type": "stream",
     "text": [
      "Last period: 2023-07-05 to 2024-01-01\n",
      "Following period: 2024-01-01 to 2024-06-29\n"
     ]
    },
    {
     "name": "stderr",
     "output_type": "stream",
     "text": [
      "2025-07-14 13:25:48,067 - urllib3.connectionpool - DEBUG - _make_request:544 - https://ftrack-1.server.retentioneering.com:443 \"POST /endpoint/event HTTP/1.1\" 204 0\n",
      "2025-07-14 13:25:48,201 - src.retention_metrics.six_month_retention_processor - DEBUG - _filter_eventstream_for_analysis:159 - Filtered to 399475 events from 257614 supporters\n",
      "2025-07-14 13:25:48,220 - urllib3.connectionpool - DEBUG - _make_request:544 - https://ftrack-1.server.retentioneering.com:443 \"POST /endpoint/event HTTP/1.1\" 204 0\n",
      "2025-07-14 13:25:48,227 - urllib3.connectionpool - DEBUG - _make_request:544 - https://ftrack-1.server.retentioneering.com:443 \"POST /endpoint/event HTTP/1.1\" 204 0\n",
      "2025-07-14 13:25:48,312 - urllib3.connectionpool - DEBUG - _make_request:544 - https://ftrack-1.server.retentioneering.com:443 \"POST /endpoint/event HTTP/1.1\" 204 0\n",
      "2025-07-14 13:25:48,314 - urllib3.connectionpool - DEBUG - _make_request:544 - https://ftrack-1.server.retentioneering.com:443 \"POST /endpoint/event HTTP/1.1\" 204 0\n",
      "2025-07-14 13:25:48,328 - urllib3.connectionpool - DEBUG - _make_request:544 - https://ftrack-1.server.retentioneering.com:443 \"POST /endpoint/event HTTP/1.1\" 204 0\n",
      "2025-07-14 13:25:48,330 - urllib3.connectionpool - DEBUG - _make_request:544 - https://ftrack-1.server.retentioneering.com:443 \"POST /endpoint/event HTTP/1.1\" 204 0\n",
      "2025-07-14 13:25:48,386 - urllib3.connectionpool - DEBUG - _make_request:544 - https://ftrack-1.server.retentioneering.com:443 \"POST /endpoint/event HTTP/1.1\" 204 0\n",
      "2025-07-14 13:25:48,447 - urllib3.connectionpool - DEBUG - _make_request:544 - https://ftrack-1.server.retentioneering.com:443 \"POST /endpoint/event HTTP/1.1\" 204 0\n",
      "2025-07-14 13:25:48,469 - urllib3.connectionpool - DEBUG - _make_request:544 - https://ftrack-1.server.retentioneering.com:443 \"POST /endpoint/event HTTP/1.1\" 204 0\n",
      "2025-07-14 13:25:48,545 - urllib3.connectionpool - DEBUG - _make_request:544 - https://ftrack-1.server.retentioneering.com:443 \"POST /endpoint/event HTTP/1.1\" 204 0\n",
      "2025-07-14 13:25:48,712 - urllib3.connectionpool - DEBUG - _make_request:544 - https://ftrack-1.server.retentioneering.com:443 \"POST /endpoint/event HTTP/1.1\" 204 0\n",
      "2025-07-14 13:25:48,726 - urllib3.connectionpool - DEBUG - _make_request:544 - https://ftrack-1.server.retentioneering.com:443 \"POST /endpoint/event HTTP/1.1\" 204 0\n",
      "2025-07-14 13:25:48,736 - urllib3.connectionpool - DEBUG - _make_request:544 - https://ftrack-1.server.retentioneering.com:443 \"POST /endpoint/event HTTP/1.1\" 204 0\n",
      "2025-07-14 13:25:49,715 - urllib3.connectionpool - DEBUG - _make_request:544 - https://ftrack-1.server.retentioneering.com:443 \"POST /endpoint/event HTTP/1.1\" 204 0\n",
      "2025-07-14 13:25:49,722 - urllib3.connectionpool - DEBUG - _make_request:544 - https://ftrack-1.server.retentioneering.com:443 \"POST /endpoint/event HTTP/1.1\" 204 0\n",
      "2025-07-14 13:25:49,783 - src.retention_metrics.six_month_retention_processor - DEBUG - _get_supporters_in_period:244 - Found 194196 supporters active between 2023-07-05 and 2024-01-01\n",
      "2025-07-14 13:25:49,855 - src.retention_metrics.six_month_retention_processor - DEBUG - _get_supporters_in_period:244 - Found 85127 supporters active between 2024-01-01 and 2024-06-29\n",
      "2025-07-14 13:25:49,889 - src.retention_metrics.six_month_retention_processor - DEBUG - _create_simple_labeled_eventstream:267 - Creating simple labeled eventstream\n",
      "2025-07-14 13:25:49,906 - urllib3.connectionpool - DEBUG - _make_request:544 - https://ftrack-1.server.retentioneering.com:443 \"POST /endpoint/event HTTP/1.1\" 204 0\n",
      "2025-07-14 13:25:49,949 - urllib3.connectionpool - DEBUG - _make_request:544 - https://ftrack-1.server.retentioneering.com:443 \"POST /endpoint/event HTTP/1.1\" 204 0\n",
      "2025-07-14 13:25:49,965 - urllib3.connectionpool - DEBUG - _make_request:544 - https://ftrack-1.server.retentioneering.com:443 \"POST /endpoint/event HTTP/1.1\" 204 0\n",
      "2025-07-14 13:25:49,967 - urllib3.connectionpool - DEBUG - _make_request:544 - https://ftrack-1.server.retentioneering.com:443 \"POST /endpoint/event HTTP/1.1\" 204 0\n",
      "2025-07-14 13:25:50,029 - urllib3.connectionpool - DEBUG - _make_request:544 - https://ftrack-1.server.retentioneering.com:443 \"POST /endpoint/event HTTP/1.1\" 204 0\n",
      "2025-07-14 13:25:50,042 - urllib3.connectionpool - DEBUG - _make_request:544 - https://ftrack-1.server.retentioneering.com:443 \"POST /endpoint/event HTTP/1.1\" 204 0\n",
      "2025-07-14 13:25:50,053 - urllib3.connectionpool - DEBUG - _make_request:544 - https://ftrack-1.server.retentioneering.com:443 \"POST /endpoint/event HTTP/1.1\" 204 0\n",
      "2025-07-14 13:25:50,104 - urllib3.connectionpool - DEBUG - _make_request:544 - https://ftrack-1.server.retentioneering.com:443 \"POST /endpoint/event HTTP/1.1\" 204 0\n",
      "2025-07-14 13:25:50,104 - urllib3.connectionpool - DEBUG - _make_request:544 - https://ftrack-1.server.retentioneering.com:443 \"POST /endpoint/event HTTP/1.1\" 204 0\n",
      "2025-07-14 13:25:50,158 - urllib3.connectionpool - DEBUG - _make_request:544 - https://ftrack-1.server.retentioneering.com:443 \"POST /endpoint/event HTTP/1.1\" 204 0\n",
      "2025-07-14 13:25:50,201 - urllib3.connectionpool - DEBUG - _make_request:544 - https://ftrack-1.server.retentioneering.com:443 \"POST /endpoint/event HTTP/1.1\" 204 0\n",
      "2025-07-14 13:25:50,208 - urllib3.connectionpool - DEBUG - _make_request:544 - https://ftrack-1.server.retentioneering.com:443 \"POST /endpoint/event HTTP/1.1\" 204 0\n",
      "2025-07-14 13:25:51,529 - src.retention_metrics.six_month_retention_processor - DEBUG - _create_simple_labeled_eventstream:310 - Created labeled eventstream with 194196 retention events\n",
      "2025-07-14 13:25:51,934 - urllib3.connectionpool - DEBUG - _make_request:544 - https://ftrack-1.server.retentioneering.com:443 \"POST /endpoint/event HTTP/1.1\" 204 0\n",
      "2025-07-14 13:25:51,935 - urllib3.connectionpool - DEBUG - _make_request:544 - https://ftrack-1.server.retentioneering.com:443 \"POST /endpoint/event HTTP/1.1\" 204 0\n",
      "2025-07-14 13:25:53,543 - urllib3.connectionpool - DEBUG - _make_request:544 - https://ftrack-1.server.retentioneering.com:443 \"POST /endpoint/event HTTP/1.1\" 204 0\n",
      "2025-07-14 13:25:53,543 - urllib3.connectionpool - DEBUG - _make_request:544 - https://ftrack-1.server.retentioneering.com:443 \"POST /endpoint/event HTTP/1.1\" 204 0\n",
      "2025-07-14 13:25:53,658 - src.retention_metrics.six_month_retention_processor - INFO - calculate_metric_1:112 - Retention calculation completed: 11.2% retention rate\n"
     ]
    },
    {
     "name": "stdout",
     "output_type": "stream",
     "text": [
      "\n",
      "========================================\n",
      "6-MONTH RETENTION RESULTS\n",
      "========================================\n",
      "Retention Rate: 11.2%\n",
      "Supporters Retained: 21709\n",
      "Supporters Not Retained: 172487\n",
      "Total Supporters: 194196\n"
     ]
    }
   ],
   "source": [
    "# Initialize processor\n",
    "processor = SixMonthRetentionProcessor(eventstream)\n",
    "\n",
    "# Define analysis periods\n",
    "analysis_date = datetime(2024, 1, 1)\n",
    "last_period_start = analysis_date - timedelta(days=180)\n",
    "last_period_end = analysis_date\n",
    "following_period_start = analysis_date\n",
    "following_period_end = analysis_date + timedelta(days=180)\n",
    "\n",
    "print(f\"Last period: {last_period_start.date()} to {last_period_end.date()}\")\n",
    "print(f\"Following period: {following_period_start.date()} to {following_period_end.date()}\")\n",
    "\n",
    "# Calculate retention\n",
    "result = processor.calculate_metric_1(\n",
    "    last_period_start=last_period_start,\n",
    "    last_period_end=last_period_end,\n",
    "    following_period_start=following_period_start,\n",
    "    following_period_end=following_period_end\n",
    ")\n",
    "\n",
    "print(\"\\n\" + \"=\"*40)\n",
    "print(\"6-MONTH RETENTION RESULTS\")\n",
    "print(\"=\"*40)\n",
    "print(f\"Retention Rate: {result['retention_rate']:.1f}%\")\n",
    "print(f\"Supporters Retained: {result['supporters_retained']}\")\n",
    "print(f\"Supporters Not Retained: {result['supporters_not_retained']}\")\n",
    "print(f\"Total Supporters: {result['total_supporters_last_period']}\")"
   ]
  },
  {
   "cell_type": "markdown",
   "metadata": {},
   "source": [
    "## Visualize with Retentioneering"
   ]
  },
  {
   "cell_type": "code",
   "execution_count": 6,
   "metadata": {},
   "outputs": [
    {
     "name": "stderr",
     "output_type": "stream",
     "text": [
      "2025-07-14 13:25:53,845 - urllib3.connectionpool - DEBUG - _make_request:544 - https://ftrack-1.server.retentioneering.com:443 \"POST /endpoint/event HTTP/1.1\" 204 0\n"
     ]
    },
    {
     "name": "stdout",
     "output_type": "stream",
     "text": [
      "Creating transition graph with retention labels...\n"
     ]
    },
    {
     "name": "stderr",
     "output_type": "stream",
     "text": [
      "2025-07-14 13:25:53,891 - urllib3.connectionpool - DEBUG - _make_request:544 - https://ftrack-1.server.retentioneering.com:443 \"POST /endpoint/event HTTP/1.1\" 204 0\n",
      "2025-07-14 13:25:53,923 - urllib3.connectionpool - DEBUG - _make_request:544 - https://ftrack-1.server.retentioneering.com:443 \"POST /endpoint/event HTTP/1.1\" 204 0\n",
      "2025-07-14 13:25:53,945 - urllib3.connectionpool - DEBUG - _make_request:544 - https://ftrack-1.server.retentioneering.com:443 \"POST /endpoint/event HTTP/1.1\" 204 0\n",
      "2025-07-14 13:25:53,946 - urllib3.connectionpool - DEBUG - _make_request:544 - https://ftrack-1.server.retentioneering.com:443 \"POST /endpoint/event HTTP/1.1\" 204 0\n",
      "2025-07-14 13:25:53,956 - urllib3.connectionpool - DEBUG - _make_request:544 - https://ftrack-1.server.retentioneering.com:443 \"POST /endpoint/event HTTP/1.1\" 204 0\n",
      "2025-07-14 13:25:53,956 - urllib3.connectionpool - DEBUG - _make_request:544 - https://ftrack-1.server.retentioneering.com:443 \"POST /endpoint/event HTTP/1.1\" 204 0\n",
      "2025-07-14 13:25:53,956 - urllib3.connectionpool - DEBUG - _make_request:544 - https://ftrack-1.server.retentioneering.com:443 \"POST /endpoint/event HTTP/1.1\" 204 0\n",
      "2025-07-14 13:25:53,957 - urllib3.connectionpool - DEBUG - _make_request:544 - https://ftrack-1.server.retentioneering.com:443 \"POST /endpoint/event HTTP/1.1\" 204 0\n",
      "2025-07-14 13:25:54,021 - urllib3.connectionpool - DEBUG - _make_request:544 - https://ftrack-1.server.retentioneering.com:443 \"POST /endpoint/event HTTP/1.1\" 204 0\n",
      "2025-07-14 13:25:54,023 - urllib3.connectionpool - DEBUG - _make_request:544 - https://ftrack-1.server.retentioneering.com:443 \"POST /endpoint/event HTTP/1.1\" 204 0\n",
      "2025-07-14 13:25:54,367 - urllib3.connectionpool - DEBUG - _make_request:544 - https://ftrack-1.server.retentioneering.com:443 \"POST /endpoint/event HTTP/1.1\" 204 0\n",
      "2025-07-14 13:25:54,420 - urllib3.connectionpool - DEBUG - _make_request:544 - https://ftrack-1.server.retentioneering.com:443 \"POST /endpoint/event HTTP/1.1\" 204 0\n",
      "2025-07-14 13:25:54,423 - urllib3.connectionpool - DEBUG - _make_request:544 - https://ftrack-1.server.retentioneering.com:443 \"POST /endpoint/event HTTP/1.1\" 204 0\n"
     ]
    },
    {
     "data": {
      "text/html": [
       "<iframe\n",
       "    id=\"iframe-elV3L60D\"\n",
       "    allow=\"fullscreen\"\n",
       "    src=\"about:blank\"\n",
       "    style=\"width: 100%; width: 1000px; height: 60vh; height: 600px; min-height: 600px; box-sizing: border-box;\"\n",
       "    title=\"Loading ...\"\n",
       "></iframe>\n",
       "<script>\n",
       "  window.__RETE_HELPERS__ = window.__RETE_HELPERS__ || {\n",
       "    /**\n",
       "     * We render our widgets inside of iframes (to isolate javascript).\n",
       "     * The @jupyterlab/services library we use reads the basic URL parameters\n",
       "     * for the Jupyter Kernel Gateway and ws connections) from the DOM.\n",
       "     * These parameters are not present in the nested iframe.\n",
       "     * This function copies this configuration to the DOM of the current\n",
       "     * iframe so that PageConfig\n",
       "     * (https://github.com/jupyterlab/jupyterlab/blob/master/packages/coreutils/src/pageconfig.ts#L36)\n",
       "     * can retrieve them\n",
       "     *\n",
       "     * @param {Document} iframeDocument\n",
       "     * @param {Document} parentDocument\n",
       "     */\n",
       "    proxyNotebookEnv(iframeDocument, parentDocument) {\n",
       "      // For Jupyter Notebook\n",
       "      for (const [name, val] of Object.entries(parentDocument.body.dataset)) {\n",
       "        iframeDocument.body.dataset[name] = val\n",
       "      }\n",
       "\n",
       "      const id = 'jupyter-config-data'\n",
       "\n",
       "      // For Jupyter Lab\n",
       "      if (!iframeDocument.getElementById(id)) {\n",
       "        const currentConfigScript = parentDocument.getElementById(id)\n",
       "\n",
       "        if (currentConfigScript) {\n",
       "          const newConfigScript = iframeDocument.createElement('script')\n",
       "\n",
       "          newConfigScript.id = id\n",
       "          newConfigScript.text = currentConfigScript.text\n",
       "          if (currentConfigScript.type) {\n",
       "            newConfigScript.type = currentConfigScript.type\n",
       "          }\n",
       "\n",
       "          iframeDocument.body.appendChild(newConfigScript)\n",
       "        }\n",
       "      }\n",
       "    }\n",
       "  }\n",
       "</script><script>\n",
       "  (() => {\n",
       "    const TITLE = 'Retentioneering Transition Graph Application'\n",
       "\n",
       "    const iframeDocument = document.implementation.createHTMLDocument(TITLE)\n",
       "\n",
       "    const h = tag => iframeDocument.createElement(tag)\n",
       "    const toHead = element => iframeDocument.head.appendChild(element)\n",
       "    const toBody = element => iframeDocument.body.appendChild(element)\n",
       "\n",
       "    iframeDocument.documentElement.lang = 'en'\n",
       "\n",
       "    try {\n",
       "      window.__RETE_HELPERS__.proxyNotebookEnv(iframeDocument, window.top.document)\n",
       "    } catch (error) {\n",
       "      console.warn('Can not proxy environment', error)\n",
       "    }\n",
       "\n",
       "    const metaCharset = h('meta')\n",
       "    metaCharset.setAttribute('charset', 'UTF-8')\n",
       "    toHead(metaCharset)\n",
       "\n",
       "    const metaViewport = h('meta')\n",
       "    metaViewport.name = 'viewport'\n",
       "    metaViewport.content = 'width=device-width, initial-scale=1.0, maximum-scale=1.0, user-scalable=no'\n",
       "    toHead(metaViewport)\n",
       "\n",
       "    const metaThemeColor = h('meta')\n",
       "    metaThemeColor.name = 'theme-color'\n",
       "    metaThemeColor.content = '#000000'\n",
       "    toHead(metaThemeColor)\n",
       "\n",
       "    const stateScript = h('script')\n",
       "    stateScript.id = 'rete-state-script'\n",
       "    stateScript.type = 'application/json'\n",
       "    stateScript.text = `{\"env\": {\"id\": \"classic\", \"serverId\": \"ee113161-cce2-4a76-9bbe-1b0fa19d8a6c\", \"kernelId\": \"v3da05f636f53772c39cb8d001ab139a5edd2c036e\", \"kernelName\": \"\", \"libVersion\": \"3.3.0\"}, \"tracker\": {\"eventstreamIndex\": 3, \"scope\": \"transition_graph\", \"hwid\": \"73bff793-afb2-439d-97dd-2957ccb479c5\"}, \"nodes\": {\"normalizations\": [{\"id\": \"none\", \"name\": \"none\", \"type\": \"absolute\"}, {\"id\": \"full\", \"name\": \"full\", \"type\": \"relative\"}, {\"id\": \"node\", \"name\": \"node\", \"type\": \"relative\"}], \"selectedNormalizationId\": \"none\", \"items\": [{\"id\": \"negative_target_not_retained\", \"name\": \"negative_target_not_retained\", \"size\": {\"event_id\": 30.454520357456904, \"user_id\": 31.61618350268978}, \"weight\": {\"event_id\": 172487, \"user_id\": 172487}, \"children\": [], \"targetId\": \"suit_node\"}, {\"id\": \"SUR\", \"name\": \"SUR\", \"size\": {\"event_id\": 4.664710333122022, \"user_id\": 4.689095721970797}, \"weight\": {\"event_id\": 4334, \"user_id\": 4304}, \"children\": [], \"targetId\": \"suit_node\"}, {\"id\": \"CC\", \"name\": \"CC\", \"size\": {\"event_id\": 4.0788327437066725, \"user_id\": 4.081493894628982}, \"weight\": {\"event_id\": 514, \"user_id\": 509}, \"children\": [], \"targetId\": \"suit_node\"}, {\"id\": \"EV\", \"name\": \"EV\", \"size\": {\"event_id\": 5.804410952741253, \"user_id\": 5.190707454529929}, \"weight\": {\"event_id\": 11765, \"user_id\": 7437}, \"children\": [], \"targetId\": \"suit_node\"}, {\"id\": \"PLE\", \"name\": \"PLE\", \"size\": {\"event_id\": 4.0127298010265635, \"user_id\": 4.0132887883186745}, \"weight\": {\"event_id\": 83, \"user_id\": 83}, \"children\": [], \"targetId\": \"suit_node\"}, {\"id\": \"SMP\", \"name\": \"SMP\", \"size\": {\"event_id\": 4.004754503997873, \"user_id\": 4.004963282384083}, \"weight\": {\"event_id\": 31, \"user_id\": 31}, \"children\": [], \"targetId\": \"suit_node\"}, {\"id\": \"VOL\", \"name\": \"VOL\", \"size\": {\"event_id\": 4.305515224637533, \"user_id\": 4.286429425326616}, \"weight\": {\"event_id\": 1992, \"user_id\": 1789}, \"children\": [], \"targetId\": \"suit_node\"}, {\"id\": \"NOM\", \"name\": \"NOM\", \"size\": {\"event_id\": 4.000153371096705, \"user_id\": 4.000160105883357}, \"weight\": {\"event_id\": 1, \"user_id\": 1}, \"children\": [], \"targetId\": \"suit_node\"}, {\"id\": \"ADV\", \"name\": \"ADV\", \"size\": {\"event_id\": 19.387875503568434, \"user_id\": 10.28095380411579}, \"weight\": {\"event_id\": 100331, \"user_id\": 39230}, \"children\": [], \"targetId\": \"suit_node\"}, {\"id\": \"CMP\", \"name\": \"CMP\", \"size\": {\"event_id\": 4.4943150446821125, \"user_id\": 4.4308449321151055}, \"weight\": {\"event_id\": 3223, \"user_id\": 2691}, \"children\": [], \"targetId\": \"suit_node\"}, {\"id\": \"SU\", \"name\": \"SU\", \"size\": {\"event_id\": 34.0, \"user_id\": 34.0}, \"weight\": {\"event_id\": 195604, \"user_id\": 187376}, \"children\": [], \"targetId\": \"suit_node\"}, {\"id\": \"TND\", \"name\": \"TND\", \"size\": {\"event_id\": 4.006134843868224, \"user_id\": 4.00448296473401}, \"weight\": {\"event_id\": 40, \"user_id\": 28}, \"children\": [], \"targetId\": \"suit_node\"}, {\"id\": \"PET\", \"name\": \"PET\", \"size\": {\"event_id\": 16.33824461667451, \"user_id\": 13.220818034326701}, \"weight\": {\"event_id\": 80447, \"user_id\": 57592}, \"children\": [], \"targetId\": \"suit_node\"}, {\"id\": \"positive_target_retained\", \"name\": \"positive_target_retained\", \"size\": {\"event_id\": 7.329533138381628, \"user_id\": 7.475738621808556}, \"weight\": {\"event_id\": 21709, \"user_id\": 21709}, \"children\": [], \"targetId\": \"suit_node\"}, {\"id\": \"adv\", \"name\": \"adv\", \"size\": {\"event_id\": 4.170241917343204, \"user_id\": 4.177717530526855}, \"weight\": {\"event_id\": 1110, \"user_id\": 1110}, \"children\": [], \"targetId\": \"suit_node\"}], \"columns\": [{\"id\": \"event_id\", \"name\": \"event_id\"}, {\"id\": \"user_id\", \"name\": \"user_id\"}], \"threshold\": {\"user_id\": 0.0, \"event_id\": 0.0}, \"selectedThresholdColumnId\": \"user_id\", \"selectedWeightsColumnId\": \"user_id\", \"targets\": [{\"id\": \"nice_node\", \"name\": \"Positive\", \"ignoreThreshold\": true, \"edgeDirection\": \"in\", \"position\": \"top-right\"}, {\"id\": \"bad_node\", \"name\": \"Negative\", \"ignoreThreshold\": true, \"edgeDirection\": \"in\", \"position\": \"bottom-right\"}, {\"id\": \"source_node\", \"name\": \"Source\", \"ignoreThreshold\": false, \"edgeDirection\": \"both\", \"position\": \"top-left\"}], \"defaultColumnId\": \"event_id\", \"sortField\": \"name\", \"sortOrder\": \"asc\"}, \"edges\": {\"items\": [{\"id\": \"2J4zf2u8m6_xDLkm3D6e6\", \"sourceNodeId\": \"ADV\", \"targetNodeId\": \"ADV\", \"weight\": {\"event_id\": 45145, \"user_id\": 16846}, \"size\": {\"event_id\": 0.32, \"user_id\": 0.12}, \"aggregatedEdges\": []}, {\"id\": \"IL9rUlctQ9EJeP8G9jSJ_\", \"sourceNodeId\": \"ADV\", \"targetNodeId\": \"CC\", \"weight\": {\"event_id\": 101, \"user_id\": 100}, \"size\": {\"event_id\": 0.0, \"user_id\": 0.0}, \"aggregatedEdges\": []}, {\"id\": \"VJ-i3-LKFW100-ZvdQGG9\", \"sourceNodeId\": \"ADV\", \"targetNodeId\": \"CMP\", \"weight\": {\"event_id\": 23, \"user_id\": 23}, \"size\": {\"event_id\": 0.0, \"user_id\": 0.0}, \"aggregatedEdges\": []}, {\"id\": \"gQZxjtKIJAShjOfd4UYRz\", \"sourceNodeId\": \"ADV\", \"targetNodeId\": \"EV\", \"weight\": {\"event_id\": 1569, \"user_id\": 1244}, \"size\": {\"event_id\": 0.01, \"user_id\": 0.01}, \"aggregatedEdges\": []}, {\"id\": \"wBop-bB7EuOwm71_uD3oY\", \"sourceNodeId\": \"ADV\", \"targetNodeId\": \"PET\", \"weight\": {\"event_id\": 16543, \"user_id\": 11925}, \"size\": {\"event_id\": 0.12, \"user_id\": 0.08}, \"aggregatedEdges\": []}, {\"id\": \"aUwf7nrN3gGWE4rrgdOLe\", \"sourceNodeId\": \"ADV\", \"targetNodeId\": \"PLE\", \"weight\": {\"event_id\": 22, \"user_id\": 22}, \"size\": {\"event_id\": 0.0, \"user_id\": 0.0}, \"aggregatedEdges\": []}, {\"id\": \"E2XT8vCr_1rrYjGgkNh-V\", \"sourceNodeId\": \"ADV\", \"targetNodeId\": \"SMP\", \"weight\": {\"event_id\": 15, \"user_id\": 15}, \"size\": {\"event_id\": 0.0, \"user_id\": 0.0}, \"aggregatedEdges\": []}, {\"id\": \"CgkuFrUGQNV6noF3QyHVa\", \"sourceNodeId\": \"ADV\", \"targetNodeId\": \"SU\", \"weight\": {\"event_id\": 3474, \"user_id\": 3155}, \"size\": {\"event_id\": 0.02, \"user_id\": 0.02}, \"aggregatedEdges\": []}, {\"id\": \"K-BAkeDoADtczZL5BxhUP\", \"sourceNodeId\": \"ADV\", \"targetNodeId\": \"SUR\", \"weight\": {\"event_id\": 230, \"user_id\": 226}, \"size\": {\"event_id\": 0.0, \"user_id\": 0.0}, \"aggregatedEdges\": []}, {\"id\": \"kct_bLYdR4eDUTNpRtMft\", \"sourceNodeId\": \"ADV\", \"targetNodeId\": \"TND\", \"weight\": {\"event_id\": 1, \"user_id\": 1}, \"size\": {\"event_id\": 0.0, \"user_id\": 0.0}, \"aggregatedEdges\": []}, {\"id\": \"RyzsyFWsEopM-JJiQG_Xf\", \"sourceNodeId\": \"ADV\", \"targetNodeId\": \"VOL\", \"weight\": {\"event_id\": 279, \"user_id\": 272}, \"size\": {\"event_id\": 0.0, \"user_id\": 0.0}, \"aggregatedEdges\": []}, {\"id\": \"dJKZjrnJT_mO_plKoBOH_\", \"sourceNodeId\": \"ADV\", \"targetNodeId\": \"adv\", \"weight\": {\"event_id\": 496, \"user_id\": 496}, \"size\": {\"event_id\": 0.0, \"user_id\": 0.0}, \"aggregatedEdges\": []}, {\"id\": \"LOaL0j56N5tV-HP6TW71v\", \"sourceNodeId\": \"ADV\", \"targetNodeId\": \"negative_target_not_retained\", \"weight\": {\"event_id\": 7709, \"user_id\": 7709}, \"size\": {\"event_id\": 0.05, \"user_id\": 0.05}, \"aggregatedEdges\": []}, {\"id\": \"NhJj4Ih4wwp78tLXr4OhG\", \"sourceNodeId\": \"ADV\", \"targetNodeId\": \"positive_target_retained\", \"weight\": {\"event_id\": 11755, \"user_id\": 11755}, \"size\": {\"event_id\": 0.08, \"user_id\": 0.08}, \"aggregatedEdges\": []}, {\"id\": \"aHkKDA8T4tSzmETr01wd_\", \"sourceNodeId\": \"CC\", \"targetNodeId\": \"ADV\", \"weight\": {\"event_id\": 339, \"user_id\": 336}, \"size\": {\"event_id\": 0.0, \"user_id\": 0.0}, \"aggregatedEdges\": []}, {\"id\": \"QeXORJU3oa0i1qo1Gz3gP\", \"sourceNodeId\": \"CC\", \"targetNodeId\": \"EV\", \"weight\": {\"event_id\": 20, \"user_id\": 20}, \"size\": {\"event_id\": 0.0, \"user_id\": 0.0}, \"aggregatedEdges\": []}, {\"id\": \"r069ViO9Ym-KKQ6PpFSCw\", \"sourceNodeId\": \"CC\", \"targetNodeId\": \"PET\", \"weight\": {\"event_id\": 49, \"user_id\": 49}, \"size\": {\"event_id\": 0.0, \"user_id\": 0.0}, \"aggregatedEdges\": []}, {\"id\": \"n0LgnW1sbNPVzn_fe-8-v\", \"sourceNodeId\": \"CC\", \"targetNodeId\": \"SU\", \"weight\": {\"event_id\": 35, \"user_id\": 35}, \"size\": {\"event_id\": 0.0, \"user_id\": 0.0}, \"aggregatedEdges\": []}, {\"id\": \"tcPMRG735sgrls2mYwjPY\", \"sourceNodeId\": \"CC\", \"targetNodeId\": \"SUR\", \"weight\": {\"event_id\": 2, \"user_id\": 2}, \"size\": {\"event_id\": 0.0, \"user_id\": 0.0}, \"aggregatedEdges\": []}, {\"id\": \"A5qd_0BnDUmfdvbt0EEdF\", \"sourceNodeId\": \"CC\", \"targetNodeId\": \"VOL\", \"weight\": {\"event_id\": 6, \"user_id\": 6}, \"size\": {\"event_id\": 0.0, \"user_id\": 0.0}, \"aggregatedEdges\": []}, {\"id\": \"-OxD0gWrpCCkGsfR9R4bD\", \"sourceNodeId\": \"CC\", \"targetNodeId\": \"negative_target_not_retained\", \"weight\": {\"event_id\": 28, \"user_id\": 28}, \"size\": {\"event_id\": 0.0, \"user_id\": 0.0}, \"aggregatedEdges\": []}, {\"id\": \"SQ4Ebk8byjiRrTlEMgDXu\", \"sourceNodeId\": \"CC\", \"targetNodeId\": \"positive_target_retained\", \"weight\": {\"event_id\": 14, \"user_id\": 14}, \"size\": {\"event_id\": 0.0, \"user_id\": 0.0}, \"aggregatedEdges\": []}, {\"id\": \"4fHw04bEcymjp1nMHQXOQ\", \"sourceNodeId\": \"CMP\", \"targetNodeId\": \"ADV\", \"weight\": {\"event_id\": 14, \"user_id\": 14}, \"size\": {\"event_id\": 0.0, \"user_id\": 0.0}, \"aggregatedEdges\": []}, {\"id\": \"o8q-9uh4xggCZg3Ww0E5m\", \"sourceNodeId\": \"CMP\", \"targetNodeId\": \"CMP\", \"weight\": {\"event_id\": 514, \"user_id\": 502}, \"size\": {\"event_id\": 0.0, \"user_id\": 0.0}, \"aggregatedEdges\": []}, {\"id\": \"-v4qTuHfOnT8RUCVyYB6v\", \"sourceNodeId\": \"CMP\", \"targetNodeId\": \"EV\", \"weight\": {\"event_id\": 159, \"user_id\": 157}, \"size\": {\"event_id\": 0.0, \"user_id\": 0.0}, \"aggregatedEdges\": []}, {\"id\": \"1LOueid6xxUy15wyAz5_m\", \"sourceNodeId\": \"CMP\", \"targetNodeId\": \"PET\", \"weight\": {\"event_id\": 8, \"user_id\": 8}, \"size\": {\"event_id\": 0.0, \"user_id\": 0.0}, \"aggregatedEdges\": []}, {\"id\": \"WT9bXGJ1b2TwBti6-uNhw\", \"sourceNodeId\": \"CMP\", \"targetNodeId\": \"SU\", \"weight\": {\"event_id\": 40, \"user_id\": 40}, \"size\": {\"event_id\": 0.0, \"user_id\": 0.0}, \"aggregatedEdges\": []}, {\"id\": \"b34VMjZzDtFzJe4uPaIeb\", \"sourceNodeId\": \"CMP\", \"targetNodeId\": \"VOL\", \"weight\": {\"event_id\": 2, \"user_id\": 2}, \"size\": {\"event_id\": 0.0, \"user_id\": 0.0}, \"aggregatedEdges\": []}, {\"id\": \"0HttAfrOFNmZjHlzJlpXO\", \"sourceNodeId\": \"CMP\", \"targetNodeId\": \"adv\", \"weight\": {\"event_id\": 1, \"user_id\": 1}, \"size\": {\"event_id\": 0.0, \"user_id\": 0.0}, \"aggregatedEdges\": []}, {\"id\": \"q3v_oKWvRSn99WOh6JCjZ\", \"sourceNodeId\": \"CMP\", \"targetNodeId\": \"negative_target_not_retained\", \"weight\": {\"event_id\": 1748, \"user_id\": 1748}, \"size\": {\"event_id\": 0.01, \"user_id\": 0.01}, \"aggregatedEdges\": []}, {\"id\": \"ASRhmB58RIGsPDIH3Tp2u\", \"sourceNodeId\": \"CMP\", \"targetNodeId\": \"positive_target_retained\", \"weight\": {\"event_id\": 77, \"user_id\": 77}, \"size\": {\"event_id\": 0.0, \"user_id\": 0.0}, \"aggregatedEdges\": []}, {\"id\": \"xPAW1TbN9yp7KmlK5y4j_\", \"sourceNodeId\": \"EV\", \"targetNodeId\": \"ADV\", \"weight\": {\"event_id\": 1933, \"user_id\": 1548}, \"size\": {\"event_id\": 0.01, \"user_id\": 0.01}, \"aggregatedEdges\": []}, {\"id\": \"cF3wGaU2PIOQl6-w84KrH\", \"sourceNodeId\": \"EV\", \"targetNodeId\": \"CC\", \"weight\": {\"event_id\": 37, \"user_id\": 37}, \"size\": {\"event_id\": 0.0, \"user_id\": 0.0}, \"aggregatedEdges\": []}, {\"id\": \"H1jyGJwMsxTboOKxBValT\", \"sourceNodeId\": \"EV\", \"targetNodeId\": \"CMP\", \"weight\": {\"event_id\": 40, \"user_id\": 40}, \"size\": {\"event_id\": 0.0, \"user_id\": 0.0}, \"aggregatedEdges\": []}, {\"id\": \"k2FMhYfm-wXTaTtEGGKxs\", \"sourceNodeId\": \"EV\", \"targetNodeId\": \"EV\", \"weight\": {\"event_id\": 2801, \"user_id\": 1907}, \"size\": {\"event_id\": 0.02, \"user_id\": 0.01}, \"aggregatedEdges\": []}, {\"id\": \"H_Ct-d4SyPD2oaAY24mDS\", \"sourceNodeId\": \"EV\", \"targetNodeId\": \"PET\", \"weight\": {\"event_id\": 1084, \"user_id\": 1019}, \"size\": {\"event_id\": 0.01, \"user_id\": 0.01}, \"aggregatedEdges\": []}, {\"id\": \"p-p6uC_wfMUZipeA3pioe\", \"sourceNodeId\": \"EV\", \"targetNodeId\": \"PLE\", \"weight\": {\"event_id\": 17, \"user_id\": 17}, \"size\": {\"event_id\": 0.0, \"user_id\": 0.0}, \"aggregatedEdges\": []}, {\"id\": \"pGoI6U3JDNxWAgCPQc8M6\", \"sourceNodeId\": \"EV\", \"targetNodeId\": \"SMP\", \"weight\": {\"event_id\": 2, \"user_id\": 2}, \"size\": {\"event_id\": 0.0, \"user_id\": 0.0}, \"aggregatedEdges\": []}, {\"id\": \"3PBf_Tycg6uTb_Cb_Eaqq\", \"sourceNodeId\": \"EV\", \"targetNodeId\": \"SU\", \"weight\": {\"event_id\": 1040, \"user_id\": 986}, \"size\": {\"event_id\": 0.01, \"user_id\": 0.01}, \"aggregatedEdges\": []}, {\"id\": \"D3KgTByp3wePhnkkvfhvI\", \"sourceNodeId\": \"EV\", \"targetNodeId\": \"SUR\", \"weight\": {\"event_id\": 148, \"user_id\": 145}, \"size\": {\"event_id\": 0.0, \"user_id\": 0.0}, \"aggregatedEdges\": []}, {\"id\": \"4QUY40jj45WQWX-ZYzrty\", \"sourceNodeId\": \"EV\", \"targetNodeId\": \"TND\", \"weight\": {\"event_id\": 25, \"user_id\": 25}, \"size\": {\"event_id\": 0.0, \"user_id\": 0.0}, \"aggregatedEdges\": []}, {\"id\": \"V2zXwz3b4rYxkCL5rU4Om\", \"sourceNodeId\": \"EV\", \"targetNodeId\": \"VOL\", \"weight\": {\"event_id\": 258, \"user_id\": 234}, \"size\": {\"event_id\": 0.0, \"user_id\": 0.0}, \"aggregatedEdges\": []}, {\"id\": \"YLC1z2U3mQaLsw2rLZG5T\", \"sourceNodeId\": \"EV\", \"targetNodeId\": \"adv\", \"weight\": {\"event_id\": 33, \"user_id\": 33}, \"size\": {\"event_id\": 0.0, \"user_id\": 0.0}, \"aggregatedEdges\": []}, {\"id\": \"b40TNlpknEQHbllHGst8E\", \"sourceNodeId\": \"EV\", \"targetNodeId\": \"negative_target_not_retained\", \"weight\": {\"event_id\": 2790, \"user_id\": 2790}, \"size\": {\"event_id\": 0.02, \"user_id\": 0.02}, \"aggregatedEdges\": []}, {\"id\": \"-IKanVsng_b6v-Y-u9oW_\", \"sourceNodeId\": \"EV\", \"targetNodeId\": \"positive_target_retained\", \"weight\": {\"event_id\": 578, \"user_id\": 578}, \"size\": {\"event_id\": 0.0, \"user_id\": 0.0}, \"aggregatedEdges\": []}, {\"id\": \"PrUDHqBJfN0Pni6CSJRIv\", \"sourceNodeId\": \"NOM\", \"targetNodeId\": \"negative_target_not_retained\", \"weight\": {\"event_id\": 1, \"user_id\": 1}, \"size\": {\"event_id\": 0.0, \"user_id\": 0.0}, \"aggregatedEdges\": []}, {\"id\": \"Jsd3k9UmSqvfyBYZ_NCPJ\", \"sourceNodeId\": \"PET\", \"targetNodeId\": \"ADV\", \"weight\": {\"event_id\": 24925, \"user_id\": 17211}, \"size\": {\"event_id\": 0.18, \"user_id\": 0.12}, \"aggregatedEdges\": []}, {\"id\": \"s8fdQ0C3DFOTwGWMcP_-h\", \"sourceNodeId\": \"PET\", \"targetNodeId\": \"CC\", \"weight\": {\"event_id\": 172, \"user_id\": 172}, \"size\": {\"event_id\": 0.0, \"user_id\": 0.0}, \"aggregatedEdges\": []}, {\"id\": \"g9o4ft56B6lGBJl_mTMyc\", \"sourceNodeId\": \"PET\", \"targetNodeId\": \"CMP\", \"weight\": {\"event_id\": 17, \"user_id\": 17}, \"size\": {\"event_id\": 0.0, \"user_id\": 0.0}, \"aggregatedEdges\": []}, {\"id\": \"I015m9QJJjRFjiGWzHa_v\", \"sourceNodeId\": \"PET\", \"targetNodeId\": \"EV\", \"weight\": {\"event_id\": 973, \"user_id\": 894}, \"size\": {\"event_id\": 0.01, \"user_id\": 0.01}, \"aggregatedEdges\": []}, {\"id\": \"u2VxtBQFNLsj10wHm16q8\", \"sourceNodeId\": \"PET\", \"targetNodeId\": \"PET\", \"weight\": {\"event_id\": 9890, \"user_id\": 7863}, \"size\": {\"event_id\": 0.07, \"user_id\": 0.06}, \"aggregatedEdges\": []}, {\"id\": \"lg6eU5StPXSe1v5qgBIU3\", \"sourceNodeId\": \"PET\", \"targetNodeId\": \"PLE\", \"weight\": {\"event_id\": 4, \"user_id\": 4}, \"size\": {\"event_id\": 0.0, \"user_id\": 0.0}, \"aggregatedEdges\": []}, {\"id\": \"N9UieP5mLMltu8qB0QKDP\", \"sourceNodeId\": \"PET\", \"targetNodeId\": \"SMP\", \"weight\": {\"event_id\": 5, \"user_id\": 5}, \"size\": {\"event_id\": 0.0, \"user_id\": 0.0}, \"aggregatedEdges\": []}, {\"id\": \"gHmT7dDcDACGBniGo7iiT\", \"sourceNodeId\": \"PET\", \"targetNodeId\": \"SU\", \"weight\": {\"event_id\": 3181, \"user_id\": 3088}, \"size\": {\"event_id\": 0.02, \"user_id\": 0.02}, \"aggregatedEdges\": []}, {\"id\": \"facbsnANzfYKNgQVT1aN4\", \"sourceNodeId\": \"PET\", \"targetNodeId\": \"SUR\", \"weight\": {\"event_id\": 181, \"user_id\": 180}, \"size\": {\"event_id\": 0.0, \"user_id\": 0.0}, \"aggregatedEdges\": []}, {\"id\": \"pJZoF44rEbmjW5Kdf_-Gl\", \"sourceNodeId\": \"PET\", \"targetNodeId\": \"VOL\", \"weight\": {\"event_id\": 172, \"user_id\": 172}, \"size\": {\"event_id\": 0.0, \"user_id\": 0.0}, \"aggregatedEdges\": []}, {\"id\": \"jcbfX6LPHjnrRtGKruycK\", \"sourceNodeId\": \"PET\", \"targetNodeId\": \"adv\", \"weight\": {\"event_id\": 348, \"user_id\": 348}, \"size\": {\"event_id\": 0.0, \"user_id\": 0.0}, \"aggregatedEdges\": []}, {\"id\": \"oq_ftsb9pjxCgEvJwrrHs\", \"sourceNodeId\": \"PET\", \"targetNodeId\": \"negative_target_not_retained\", \"weight\": {\"event_id\": 14374, \"user_id\": 14374}, \"size\": {\"event_id\": 0.1, \"user_id\": 0.1}, \"aggregatedEdges\": []}, {\"id\": \"pvVq6x1fYjbiO9L1BMkgt\", \"sourceNodeId\": \"PET\", \"targetNodeId\": \"positive_target_retained\", \"weight\": {\"event_id\": 6155, \"user_id\": 6155}, \"size\": {\"event_id\": 0.04, \"user_id\": 0.04}, \"aggregatedEdges\": []}, {\"id\": \"2B78275sg1NKdpvqzLQAQ\", \"sourceNodeId\": \"PLE\", \"targetNodeId\": \"ADV\", \"weight\": {\"event_id\": 6, \"user_id\": 6}, \"size\": {\"event_id\": 0.0, \"user_id\": 0.0}, \"aggregatedEdges\": []}, {\"id\": \"rxA8pzylM6QJb-5yivDPc\", \"sourceNodeId\": \"PLE\", \"targetNodeId\": \"EV\", \"weight\": {\"event_id\": 38, \"user_id\": 38}, \"size\": {\"event_id\": 0.0, \"user_id\": 0.0}, \"aggregatedEdges\": []}, {\"id\": \"usyWtAchAgPdMZ5GZx8ij\", \"sourceNodeId\": \"PLE\", \"targetNodeId\": \"PET\", \"weight\": {\"event_id\": 1, \"user_id\": 1}, \"size\": {\"event_id\": 0.0, \"user_id\": 0.0}, \"aggregatedEdges\": []}, {\"id\": \"aWtq9GjRFFPUON2ORbmDH\", \"sourceNodeId\": \"PLE\", \"targetNodeId\": \"SU\", \"weight\": {\"event_id\": 4, \"user_id\": 4}, \"size\": {\"event_id\": 0.0, \"user_id\": 0.0}, \"aggregatedEdges\": []}, {\"id\": \"lPXam0-BAiDelr22Zhq8s\", \"sourceNodeId\": \"PLE\", \"targetNodeId\": \"SUR\", \"weight\": {\"event_id\": 18, \"user_id\": 18}, \"size\": {\"event_id\": 0.0, \"user_id\": 0.0}, \"aggregatedEdges\": []}, {\"id\": \"XnuUXcuxy3N3jKk7jaVCU\", \"sourceNodeId\": \"PLE\", \"targetNodeId\": \"VOL\", \"weight\": {\"event_id\": 9, \"user_id\": 9}, \"size\": {\"event_id\": 0.0, \"user_id\": 0.0}, \"aggregatedEdges\": []}, {\"id\": \"-39ZzGouS8jdHM9UKfJWy\", \"sourceNodeId\": \"PLE\", \"targetNodeId\": \"negative_target_not_retained\", \"weight\": {\"event_id\": 5, \"user_id\": 5}, \"size\": {\"event_id\": 0.0, \"user_id\": 0.0}, \"aggregatedEdges\": []}, {\"id\": \"AzGR4HjaNnyD9h74uSrv1\", \"sourceNodeId\": \"PLE\", \"targetNodeId\": \"positive_target_retained\", \"weight\": {\"event_id\": 1, \"user_id\": 1}, \"size\": {\"event_id\": 0.0, \"user_id\": 0.0}, \"aggregatedEdges\": []}, {\"id\": \"j0S-1mWtSvRfS7tSZKFAj\", \"sourceNodeId\": \"SMP\", \"targetNodeId\": \"ADV\", \"weight\": {\"event_id\": 12, \"user_id\": 12}, \"size\": {\"event_id\": 0.0, \"user_id\": 0.0}, \"aggregatedEdges\": []}, {\"id\": \"pX6H6u4LaeWZ97SPUYsf-\", \"sourceNodeId\": \"SMP\", \"targetNodeId\": \"EV\", \"weight\": {\"event_id\": 3, \"user_id\": 3}, \"size\": {\"event_id\": 0.0, \"user_id\": 0.0}, \"aggregatedEdges\": []}, {\"id\": \"HARgj06_zY-T4nGE0II6o\", \"sourceNodeId\": \"SMP\", \"targetNodeId\": \"PET\", \"weight\": {\"event_id\": 6, \"user_id\": 6}, \"size\": {\"event_id\": 0.0, \"user_id\": 0.0}, \"aggregatedEdges\": []}, {\"id\": \"kkmbGyhBSFE1_R8Q2LVmC\", \"sourceNodeId\": \"SMP\", \"targetNodeId\": \"SU\", \"weight\": {\"event_id\": 2, \"user_id\": 2}, \"size\": {\"event_id\": 0.0, \"user_id\": 0.0}, \"aggregatedEdges\": []}, {\"id\": \"eO2wB4ZEwM6lUA66NPmK3\", \"sourceNodeId\": \"SMP\", \"targetNodeId\": \"VOL\", \"weight\": {\"event_id\": 1, \"user_id\": 1}, \"size\": {\"event_id\": 0.0, \"user_id\": 0.0}, \"aggregatedEdges\": []}, {\"id\": \"dggsbn1oLUktG5NQsyB3a\", \"sourceNodeId\": \"SMP\", \"targetNodeId\": \"negative_target_not_retained\", \"weight\": {\"event_id\": 1, \"user_id\": 1}, \"size\": {\"event_id\": 0.0, \"user_id\": 0.0}, \"aggregatedEdges\": []}, {\"id\": \"yYodQzCMgBNHpZdSZHER0\", \"sourceNodeId\": \"SMP\", \"targetNodeId\": \"positive_target_retained\", \"weight\": {\"event_id\": 3, \"user_id\": 3}, \"size\": {\"event_id\": 0.0, \"user_id\": 0.0}, \"aggregatedEdges\": []}, {\"id\": \"2uF6Fl-DRtS6jZA9DIEqo\", \"sourceNodeId\": \"SU\", \"targetNodeId\": \"ADV\", \"weight\": {\"event_id\": 4940, \"user_id\": 4603}, \"size\": {\"event_id\": 0.03, \"user_id\": 0.03}, \"aggregatedEdges\": []}, {\"id\": \"HcLehjT8Ip3ug-4tCqpUY\", \"sourceNodeId\": \"SU\", \"targetNodeId\": \"CC\", \"weight\": {\"event_id\": 46, \"user_id\": 46}, \"size\": {\"event_id\": 0.0, \"user_id\": 0.0}, \"aggregatedEdges\": []}, {\"id\": \"Juinwm92csxLWvpyMaWl8\", \"sourceNodeId\": \"SU\", \"targetNodeId\": \"CMP\", \"weight\": {\"event_id\": 117, \"user_id\": 116}, \"size\": {\"event_id\": 0.0, \"user_id\": 0.0}, \"aggregatedEdges\": []}, {\"id\": \"aEkUksWmvJnkCWBv6VDZ-\", \"sourceNodeId\": \"SU\", \"targetNodeId\": \"EV\", \"weight\": {\"event_id\": 1805, \"user_id\": 1714}, \"size\": {\"event_id\": 0.01, \"user_id\": 0.01}, \"aggregatedEdges\": []}, {\"id\": \"OGM6_ZdbqHJxDmhR5iOmK\", \"sourceNodeId\": \"SU\", \"targetNodeId\": \"PET\", \"weight\": {\"event_id\": 8244, \"user_id\": 8069}, \"size\": {\"event_id\": 0.06, \"user_id\": 0.06}, \"aggregatedEdges\": []}, {\"id\": \"C6mnprVY4rHRe6ePFx3Dc\", \"sourceNodeId\": \"SU\", \"targetNodeId\": \"PLE\", \"weight\": {\"event_id\": 6, \"user_id\": 6}, \"size\": {\"event_id\": 0.0, \"user_id\": 0.0}, \"aggregatedEdges\": []}, {\"id\": \"M_fc_dITjOPdrnQQ0Daua\", \"sourceNodeId\": \"SU\", \"targetNodeId\": \"SMP\", \"weight\": {\"event_id\": 1, \"user_id\": 1}, \"size\": {\"event_id\": 0.0, \"user_id\": 0.0}, \"aggregatedEdges\": []}, {\"id\": \"xhhnt4cDiqEq8fJmttBHh\", \"sourceNodeId\": \"SU\", \"targetNodeId\": \"SU\", \"weight\": {\"event_id\": 6400, \"user_id\": 5917}, \"size\": {\"event_id\": 0.05, \"user_id\": 0.04}, \"aggregatedEdges\": []}, {\"id\": \"gtxZX449aL814the6wptE\", \"sourceNodeId\": \"SU\", \"targetNodeId\": \"SUR\", \"weight\": {\"event_id\": 396, \"user_id\": 396}, \"size\": {\"event_id\": 0.0, \"user_id\": 0.0}, \"aggregatedEdges\": []}, {\"id\": \"XOfHCYgkUR_dBx5U8ujwA\", \"sourceNodeId\": \"SU\", \"targetNodeId\": \"TND\", \"weight\": {\"event_id\": 1, \"user_id\": 1}, \"size\": {\"event_id\": 0.0, \"user_id\": 0.0}, \"aggregatedEdges\": []}, {\"id\": \"KYcPIrZlaLt4ug6YoZgiT\", \"sourceNodeId\": \"SU\", \"targetNodeId\": \"VOL\", \"weight\": {\"event_id\": 449, \"user_id\": 449}, \"size\": {\"event_id\": 0.0, \"user_id\": 0.0}, \"aggregatedEdges\": []}, {\"id\": \"AhgiqmB4Yvx6qo8mjfo0t\", \"sourceNodeId\": \"SU\", \"targetNodeId\": \"adv\", \"weight\": {\"event_id\": 87, \"user_id\": 87}, \"size\": {\"event_id\": 0.0, \"user_id\": 0.0}, \"aggregatedEdges\": []}, {\"id\": \"YJ6V3cAk9Mip4LpkCNEkN\", \"sourceNodeId\": \"SU\", \"targetNodeId\": \"negative_target_not_retained\", \"weight\": {\"event_id\": 141925, \"user_id\": 141925}, \"size\": {\"event_id\": 1.0, \"user_id\": 1.0}, \"aggregatedEdges\": []}, {\"id\": \"CXIxESb69IU3ylWbAZXOl\", \"sourceNodeId\": \"SU\", \"targetNodeId\": \"positive_target_retained\", \"weight\": {\"event_id\": 2850, \"user_id\": 2850}, \"size\": {\"event_id\": 0.02, \"user_id\": 0.02}, \"aggregatedEdges\": []}, {\"id\": \"wYkCVW2d7_DqCNNEFE59O\", \"sourceNodeId\": \"SUR\", \"targetNodeId\": \"ADV\", \"weight\": {\"event_id\": 418, \"user_id\": 416}, \"size\": {\"event_id\": 0.0, \"user_id\": 0.0}, \"aggregatedEdges\": []}, {\"id\": \"MshpthXNlPwW61M3xbmZ-\", \"sourceNodeId\": \"SUR\", \"targetNodeId\": \"CC\", \"weight\": {\"event_id\": 1, \"user_id\": 1}, \"size\": {\"event_id\": 0.0, \"user_id\": 0.0}, \"aggregatedEdges\": []}, {\"id\": \"kHPNWFI_jnoFPrNUjsRbe\", \"sourceNodeId\": \"SUR\", \"targetNodeId\": \"CMP\", \"weight\": {\"event_id\": 3, \"user_id\": 3}, \"size\": {\"event_id\": 0.0, \"user_id\": 0.0}, \"aggregatedEdges\": []}, {\"id\": \"KVDSBt2PZtCOAywwsSlv7\", \"sourceNodeId\": \"SUR\", \"targetNodeId\": \"EV\", \"weight\": {\"event_id\": 55, \"user_id\": 53}, \"size\": {\"event_id\": 0.0, \"user_id\": 0.0}, \"aggregatedEdges\": []}, {\"id\": \"u3rJ8gB3FNim1gvK4CitT\", \"sourceNodeId\": \"SUR\", \"targetNodeId\": \"PET\", \"weight\": {\"event_id\": 300, \"user_id\": 299}, \"size\": {\"event_id\": 0.0, \"user_id\": 0.0}, \"aggregatedEdges\": []}, {\"id\": \"WO_8X5wraJU8Itzkt2EPf\", \"sourceNodeId\": \"SUR\", \"targetNodeId\": \"PLE\", \"weight\": {\"event_id\": 22, \"user_id\": 22}, \"size\": {\"event_id\": 0.0, \"user_id\": 0.0}, \"aggregatedEdges\": []}, {\"id\": \"ij_CF4J_4b67soLN5D-ln\", \"sourceNodeId\": \"SUR\", \"targetNodeId\": \"SU\", \"weight\": {\"event_id\": 54, \"user_id\": 53}, \"size\": {\"event_id\": 0.0, \"user_id\": 0.0}, \"aggregatedEdges\": []}, {\"id\": \"ZItocfcab_td39xNvwIg7\", \"sourceNodeId\": \"SUR\", \"targetNodeId\": \"SUR\", \"weight\": {\"event_id\": 10, \"user_id\": 10}, \"size\": {\"event_id\": 0.0, \"user_id\": 0.0}, \"aggregatedEdges\": []}, {\"id\": \"6KprEav9xjKL74fL_WDy-\", \"sourceNodeId\": \"SUR\", \"targetNodeId\": \"VOL\", \"weight\": {\"event_id\": 52, \"user_id\": 52}, \"size\": {\"event_id\": 0.0, \"user_id\": 0.0}, \"aggregatedEdges\": []}, {\"id\": \"F42AqFMY1J-vujL3MTK3F\", \"sourceNodeId\": \"SUR\", \"targetNodeId\": \"adv\", \"weight\": {\"event_id\": 8, \"user_id\": 8}, \"size\": {\"event_id\": 0.0, \"user_id\": 0.0}, \"aggregatedEdges\": []}, {\"id\": \"ED_H3QQUuHyN_svHDK0We\", \"sourceNodeId\": \"SUR\", \"targetNodeId\": \"negative_target_not_retained\", \"weight\": {\"event_id\": 3262, \"user_id\": 3262}, \"size\": {\"event_id\": 0.02, \"user_id\": 0.02}, \"aggregatedEdges\": []}, {\"id\": \"-o6zyWhj5vkQHc4uyPHTp\", \"sourceNodeId\": \"SUR\", \"targetNodeId\": \"positive_target_retained\", \"weight\": {\"event_id\": 74, \"user_id\": 74}, \"size\": {\"event_id\": 0.0, \"user_id\": 0.0}, \"aggregatedEdges\": []}, {\"id\": \"YC0_qorPXKI8nsmJs3AxO\", \"sourceNodeId\": \"TND\", \"targetNodeId\": \"ADV\", \"weight\": {\"event_id\": 3, \"user_id\": 3}, \"size\": {\"event_id\": 0.0, \"user_id\": 0.0}, \"aggregatedEdges\": []}, {\"id\": \"VMc-nUSESZx2QHW4BHBTG\", \"sourceNodeId\": \"TND\", \"targetNodeId\": \"EV\", \"weight\": {\"event_id\": 1, \"user_id\": 1}, \"size\": {\"event_id\": 0.0, \"user_id\": 0.0}, \"aggregatedEdges\": []}, {\"id\": \"Yo1I35g0brrXsrPcLpYDr\", \"sourceNodeId\": \"TND\", \"targetNodeId\": \"PET\", \"weight\": {\"event_id\": 4, \"user_id\": 4}, \"size\": {\"event_id\": 0.0, \"user_id\": 0.0}, \"aggregatedEdges\": []}, {\"id\": \"RS5WuYlLxyDC-yAwQAyR8\", \"sourceNodeId\": \"TND\", \"targetNodeId\": \"TND\", \"weight\": {\"event_id\": 12, \"user_id\": 11}, \"size\": {\"event_id\": 0.0, \"user_id\": 0.0}, \"aggregatedEdges\": []}, {\"id\": \"Uj151C3fGg1XdFwZbvSTe\", \"sourceNodeId\": \"TND\", \"targetNodeId\": \"positive_target_retained\", \"weight\": {\"event_id\": 1, \"user_id\": 1}, \"size\": {\"event_id\": 0.0, \"user_id\": 0.0}, \"aggregatedEdges\": []}, {\"id\": \"7l-fuTvZqXAnlQxJinJVf\", \"sourceNodeId\": \"VOL\", \"targetNodeId\": \"ADV\", \"weight\": {\"event_id\": 379, \"user_id\": 369}, \"size\": {\"event_id\": 0.0, \"user_id\": 0.0}, \"aggregatedEdges\": []}, {\"id\": \"f2svuBoMkiWXf7BqpJ53n\", \"sourceNodeId\": \"VOL\", \"targetNodeId\": \"EV\", \"weight\": {\"event_id\": 253, \"user_id\": 237}, \"size\": {\"event_id\": 0.0, \"user_id\": 0.0}, \"aggregatedEdges\": []}, {\"id\": \"7fdyARXlujem6w1tOJzZf\", \"sourceNodeId\": \"VOL\", \"targetNodeId\": \"PET\", \"weight\": {\"event_id\": 186, \"user_id\": 184}, \"size\": {\"event_id\": 0.0, \"user_id\": 0.0}, \"aggregatedEdges\": []}, {\"id\": \"lpHL43OVTNwwaZgTlvXdq\", \"sourceNodeId\": \"VOL\", \"targetNodeId\": \"PLE\", \"weight\": {\"event_id\": 3, \"user_id\": 3}, \"size\": {\"event_id\": 0.0, \"user_id\": 0.0}, \"aggregatedEdges\": []}, {\"id\": \"Zlb4fQBMZL2KaC3O-MnC9\", \"sourceNodeId\": \"VOL\", \"targetNodeId\": \"SMP\", \"weight\": {\"event_id\": 1, \"user_id\": 1}, \"size\": {\"event_id\": 0.0, \"user_id\": 0.0}, \"aggregatedEdges\": []}, {\"id\": \"yn0RYV6jiVmkyWn0r7qrR\", \"sourceNodeId\": \"VOL\", \"targetNodeId\": \"SU\", \"weight\": {\"event_id\": 129, \"user_id\": 128}, \"size\": {\"event_id\": 0.0, \"user_id\": 0.0}, \"aggregatedEdges\": []}, {\"id\": \"MkllKWqWYcenjwGyj6FVP\", \"sourceNodeId\": \"VOL\", \"targetNodeId\": \"SUR\", \"weight\": {\"event_id\": 28, \"user_id\": 28}, \"size\": {\"event_id\": 0.0, \"user_id\": 0.0}, \"aggregatedEdges\": []}, {\"id\": \"8H-730TN1hqDqtuLt-c78\", \"sourceNodeId\": \"VOL\", \"targetNodeId\": \"VOL\", \"weight\": {\"event_id\": 100, \"user_id\": 66}, \"size\": {\"event_id\": 0.0, \"user_id\": 0.0}, \"aggregatedEdges\": []}, {\"id\": \"kgDj1Uq-VVLlqyGmPc6rL\", \"sourceNodeId\": \"VOL\", \"targetNodeId\": \"adv\", \"weight\": {\"event_id\": 2, \"user_id\": 2}, \"size\": {\"event_id\": 0.0, \"user_id\": 0.0}, \"aggregatedEdges\": []}, {\"id\": \"Tp5Uqcybce3yNHPYCmzFF\", \"sourceNodeId\": \"VOL\", \"targetNodeId\": \"negative_target_not_retained\", \"weight\": {\"event_id\": 644, \"user_id\": 644}, \"size\": {\"event_id\": 0.0, \"user_id\": 0.0}, \"aggregatedEdges\": []}, {\"id\": \"CLXMPu3BPS4vwNSJkV1tr\", \"sourceNodeId\": \"VOL\", \"targetNodeId\": \"positive_target_retained\", \"weight\": {\"event_id\": 82, \"user_id\": 82}, \"size\": {\"event_id\": 0.0, \"user_id\": 0.0}, \"aggregatedEdges\": []}, {\"id\": \"zOtAs_UOef_ruTvr859fV\", \"sourceNodeId\": \"adv\", \"targetNodeId\": \"ADV\", \"weight\": {\"event_id\": 493, \"user_id\": 493}, \"size\": {\"event_id\": 0.0, \"user_id\": 0.0}, \"aggregatedEdges\": []}, {\"id\": \"agNoXYV9JDXA4pd0aSgbx\", \"sourceNodeId\": \"adv\", \"targetNodeId\": \"CC\", \"weight\": {\"event_id\": 1, \"user_id\": 1}, \"size\": {\"event_id\": 0.0, \"user_id\": 0.0}, \"aggregatedEdges\": []}, {\"id\": \"166JAUbTNLaMy8nGIhKFc\", \"sourceNodeId\": \"adv\", \"targetNodeId\": \"EV\", \"weight\": {\"event_id\": 21, \"user_id\": 21}, \"size\": {\"event_id\": 0.0, \"user_id\": 0.0}, \"aggregatedEdges\": []}, {\"id\": \"gZHsmPYKb0i0uaylYVlo1\", \"sourceNodeId\": \"adv\", \"targetNodeId\": \"PET\", \"weight\": {\"event_id\": 325, \"user_id\": 325}, \"size\": {\"event_id\": 0.0, \"user_id\": 0.0}, \"aggregatedEdges\": []}, {\"id\": \"xRydJ93QMYbSylVWwdQrm\", \"sourceNodeId\": \"adv\", \"targetNodeId\": \"SMP\", \"weight\": {\"event_id\": 2, \"user_id\": 2}, \"size\": {\"event_id\": 0.0, \"user_id\": 0.0}, \"aggregatedEdges\": []}, {\"id\": \"5x_ZC1TqhJW1HhmEVMZKF\", \"sourceNodeId\": \"adv\", \"targetNodeId\": \"SU\", \"weight\": {\"event_id\": 20, \"user_id\": 20}, \"size\": {\"event_id\": 0.0, \"user_id\": 0.0}, \"aggregatedEdges\": []}, {\"id\": \"kZUSZDIlKaceaWp4ZVudf\", \"sourceNodeId\": \"adv\", \"targetNodeId\": \"SUR\", \"weight\": {\"event_id\": 3, \"user_id\": 3}, \"size\": {\"event_id\": 0.0, \"user_id\": 0.0}, \"aggregatedEdges\": []}, {\"id\": \"wAP3gJfii3AotJ4DIM2FL\", \"sourceNodeId\": \"adv\", \"targetNodeId\": \"VOL\", \"weight\": {\"event_id\": 7, \"user_id\": 7}, \"size\": {\"event_id\": 0.0, \"user_id\": 0.0}, \"aggregatedEdges\": []}, {\"id\": \"H8EQxPuZVznm-I_undvRT\", \"sourceNodeId\": \"adv\", \"targetNodeId\": \"positive_target_retained\", \"weight\": {\"event_id\": 119, \"user_id\": 119}, \"size\": {\"event_id\": 0.0, \"user_id\": 0.0}, \"aggregatedEdges\": []}], \"normalizations\": [{\"id\": \"none\", \"name\": \"none\", \"type\": \"absolute\"}, {\"id\": \"full\", \"name\": \"full\", \"type\": \"relative\"}, {\"id\": \"node\", \"name\": \"node\", \"type\": \"relative\"}], \"selectedNormalizationId\": \"none\", \"columns\": [{\"id\": \"event_id\", \"name\": \"event_id\"}, {\"id\": \"user_id\", \"name\": \"user_id\"}], \"threshold\": {\"user_id\": 0.0, \"event_id\": 0.0}, \"selectedThresholdColumnId\": \"user_id\", \"selectedWeightsColumnId\": \"user_id\"}, \"settings\": {\"showEdgesWeightsOnCanvas\": true, \"convertWeightsToPercents\": false, \"doNotFilterTargetNodes\": true, \"showEdgesInfoOnHover\": true, \"showNodesNamesOnCanvas\": true, \"showNodesWithoutEdges\": false, \"openSidebarByDefault\": true}, \"recalculationChanges\": {\"disabledNodes\": [], \"nodesAggregation\": [], \"edgesAggregation\": []}, \"stateChanges\": {\"disabledNodes\": [], \"nodesAggregation\": [], \"edgesAggregation\": []}, \"useLayoutDump\": false}`\n",
       "    toHead(stateScript)\n",
       "\n",
       "    const noScript = h('noscript')\n",
       "    noScript.innerText = 'You need to enable JavaScript to run this app.'\n",
       "    toBody(noScript)\n",
       "\n",
       "    const appRoot = h('div')\n",
       "    appRoot.id = 'root'\n",
       "    toBody(appRoot)\n",
       "\n",
       "    const appScript = h('script')\n",
       "    appScript.id = 'rete-app-script'\n",
       "    appScript.src = `https://static.server.retentioneering.com/package/@rete/transition-graph/version/2/dist/transition-graph.umd.js?id=elV3L60D`\n",
       "    toBody(appScript)\n",
       "\n",
       "    const iframeElement = document.getElementById('iframe-elV3L60D')\n",
       "\n",
       "    if (iframeElement) {\n",
       "      iframeElement.title = TITLE\n",
       "\n",
       "      const iframeContentDocument = iframeElement.contentDocument;\n",
       "      iframeContentDocument.open()\n",
       "      iframeContentDocument.write('<!DOCTYPE html>' + iframeDocument.documentElement.outerHTML)\n",
       "      iframeContentDocument.close();\n",
       "    }\n",
       "  })()\n",
       "</script>"
      ],
      "text/plain": [
       "<IPython.core.display.HTML object>"
      ]
     },
     "metadata": {},
     "output_type": "display_data"
    },
    {
     "data": {
      "text/plain": [
       "<retentioneering.tooling.transition_graph.transition_graph.TransitionGraph at 0x7fd665e03e90>"
      ]
     },
     "execution_count": 6,
     "metadata": {},
     "output_type": "execute_result"
    }
   ],
   "source": [
    "# Get labeled eventstream (with positive_target and negative_target events)\n",
    "labeled_stream = result['eventstream_with_labels']\n",
    "\n",
    "# Add boundaries for visualization\n",
    "# viz_stream = labeled_stream.add_start_end_events()\n",
    "viz_stream = labeled_stream\n",
    "\n",
    "print(\"Creating transition graph with retention labels...\")\n",
    "\n",
    "# Create transition graph\n",
    "transition_graph = viz_stream.transition_graph(\n",
    "    width=1000,\n",
    "    height=600\n",
    ")\n",
    "\n",
    "transition_graph"
   ]
  },
  {
   "cell_type": "code",
   "execution_count": null,
   "metadata": {},
   "outputs": [
    {
     "name": "stdout",
     "output_type": "stream",
     "text": [
      "Creating step matrix...\n"
     ]
    },
    {
     "name": "stderr",
     "output_type": "stream",
     "text": [
      "2025-07-14 13:26:20,874 - urllib3.connectionpool - DEBUG - _make_request:544 - https://ftrack-1.server.retentioneering.com:443 \"POST /endpoint/event HTTP/1.1\" 204 0\n",
      "2025-07-14 13:26:20,874 - urllib3.connectionpool - DEBUG - _make_request:544 - https://ftrack-1.server.retentioneering.com:443 \"POST /endpoint/event HTTP/1.1\" 204 0\n",
      "2025-07-14 13:26:20,874 - urllib3.connectionpool - DEBUG - _make_request:544 - https://ftrack-1.server.retentioneering.com:443 \"POST /endpoint/event HTTP/1.1\" 204 0\n",
      "2025-07-14 13:26:20,874 - urllib3.connectionpool - DEBUG - _make_request:544 - https://ftrack-1.server.retentioneering.com:443 \"POST /endpoint/event HTTP/1.1\" 204 0\n",
      "2025-07-14 13:26:20,882 - urllib3.connectionpool - DEBUG - _make_request:544 - https://ftrack-1.server.retentioneering.com:443 \"POST /endpoint/event HTTP/1.1\" 204 0\n",
      "2025-07-14 13:26:20,882 - urllib3.connectionpool - DEBUG - _make_request:544 - https://ftrack-1.server.retentioneering.com:443 \"POST /endpoint/event HTTP/1.1\" 204 0\n",
      "2025-07-14 13:26:20,972 - urllib3.connectionpool - DEBUG - _make_request:544 - https://ftrack-1.server.retentioneering.com:443 \"POST /endpoint/event HTTP/1.1\" 204 0\n",
      "2025-07-14 13:26:20,972 - urllib3.connectionpool - DEBUG - _make_request:544 - https://ftrack-1.server.retentioneering.com:443 \"POST /endpoint/event HTTP/1.1\" 204 0\n"
     ]
    },
    {
     "data": {
      "text/plain": [
       "<retentioneering.tooling.step_matrix.step_matrix.StepMatrix at 0x7fd650ecf9d0>"
      ]
     },
     "execution_count": 10,
     "metadata": {},
     "output_type": "execute_result"
    },
    {
     "name": "stderr",
     "output_type": "stream",
     "text": [
      "2025-07-14 13:26:21,753 - urllib3.connectionpool - DEBUG - _make_request:544 - https://ftrack-1.server.retentioneering.com:443 \"POST /endpoint/event HTTP/1.1\" 204 0\n",
      "2025-07-14 13:26:21,768 - urllib3.connectionpool - DEBUG - _make_request:544 - https://ftrack-1.server.retentioneering.com:443 \"POST /endpoint/event HTTP/1.1\" 204 0\n",
      "2025-07-14 13:26:21,776 - urllib3.connectionpool - DEBUG - _make_request:544 - https://ftrack-1.server.retentioneering.com:443 \"POST /endpoint/event HTTP/1.1\" 204 0\n",
      "2025-07-14 13:26:21,777 - urllib3.connectionpool - DEBUG - _make_request:544 - https://ftrack-1.server.retentioneering.com:443 \"POST /endpoint/event HTTP/1.1\" 204 0\n"
     ]
    },
    {
     "data": {
      "image/png": "[encoded data removed]",
      "text/plain": [
       "<Figure size 432x504 with 3 Axes>"
      ]
     },
     "metadata": {
      "needs_background": "light"
     },
     "output_type": "display_data"
    },
    {
     "name": "stderr",
     "output_type": "stream",
     "text": [
      "2025-07-14 13:26:21,917 - urllib3.connectionpool - DEBUG - _make_request:544 - https://ftrack-1.server.retentioneering.com:443 \"POST /endpoint/event HTTP/1.1\" 204 0\n",
      "2025-07-14 13:26:21,920 - urllib3.connectionpool - DEBUG - _make_request:544 - https://ftrack-1.server.retentioneering.com:443 \"POST /endpoint/event HTTP/1.1\" 204 0\n"
     ]
    }
   ],
   "source": [
    "# Create step matrix\n",
    "print(\"Creating step matrix...\")\n",
    "\n",
    "step_matrix = viz_stream.step_matrix(\n",
    "    max_steps=8,\n",
    "    targets=['positive_target', 'negative_target']\n",
    ")\n",
    "\n",
    "step_matrix"
   ]
  },
  {
   "cell_type": "code",
   "execution_count": 8,
   "metadata": {},
   "outputs": [
    {
     "name": "stderr",
     "output_type": "stream",
     "text": [
      "2025-07-14 13:25:56,973 - urllib3.connectionpool - DEBUG - _make_request:544 - https://ftrack-1.server.retentioneering.com:443 \"POST /endpoint/event HTTP/1.1\" 204 0\n",
      "2025-07-14 13:25:56,974 - urllib3.connectionpool - DEBUG - _make_request:544 - https://ftrack-1.server.retentioneering.com:443 \"POST /endpoint/event HTTP/1.1\" 204 0\n"
     ]
    },
    {
     "name": "stdout",
     "output_type": "stream",
     "text": [
      "Creating cohort analysis...\n"
     ]
    },
    {
     "name": "stderr",
     "output_type": "stream",
     "text": [
      "2025-07-14 13:25:57,156 - urllib3.connectionpool - DEBUG - _make_request:544 - https://ftrack-1.server.retentioneering.com:443 \"POST /endpoint/event HTTP/1.1\" 204 0\n",
      "2025-07-14 13:25:57,161 - urllib3.connectionpool - DEBUG - _make_request:544 - https://ftrack-1.server.retentioneering.com:443 \"POST /endpoint/event HTTP/1.1\" 204 0\n",
      "2025-07-14 13:25:57,161 - urllib3.connectionpool - DEBUG - _make_request:544 - https://ftrack-1.server.retentioneering.com:443 \"POST /endpoint/event HTTP/1.1\" 204 0\n",
      "2025-07-14 13:25:57,166 - urllib3.connectionpool - DEBUG - _make_request:544 - https://ftrack-1.server.retentioneering.com:443 \"POST /endpoint/event HTTP/1.1\" 204 0\n",
      "2025-07-14 13:25:57,169 - urllib3.connectionpool - DEBUG - _make_request:544 - https://ftrack-1.server.retentioneering.com:443 \"POST /endpoint/event HTTP/1.1\" 204 0\n",
      "2025-07-14 13:25:57,169 - urllib3.connectionpool - DEBUG - _make_request:544 - https://ftrack-1.server.retentioneering.com:443 \"POST /endpoint/event HTTP/1.1\" 204 0\n",
      "2025-07-14 13:25:57,241 - urllib3.connectionpool - DEBUG - _make_request:544 - https://ftrack-1.server.retentioneering.com:443 \"POST /endpoint/event HTTP/1.1\" 204 0\n",
      "2025-07-14 13:25:57,242 - urllib3.connectionpool - DEBUG - _make_request:544 - https://ftrack-1.server.retentioneering.com:443 \"POST /endpoint/event HTTP/1.1\" 204 0\n",
      "2025-07-14 13:25:57,254 - matplotlib.colorbar - DEBUG - _get_ticker_locator_formatter:876 - locator: <matplotlib.ticker.AutoLocator object at 0x7fd63c56b650>\n"
     ]
    },
    {
     "data": {
      "text/plain": [
       "<retentioneering.tooling.cohorts.cohorts.Cohorts at 0x7fd65a770690>"
      ]
     },
     "execution_count": 8,
     "metadata": {},
     "output_type": "execute_result"
    },
    {
     "data": {
      "image/png": "[encoded data removed]",
      "text/plain": [
       "<Figure size 360x360 with 2 Axes>"
      ]
     },
     "metadata": {
      "needs_background": "light"
     },
     "output_type": "display_data"
    }
   ],
   "source": [
    "# Create cohort analysis\n",
    "print(\"Creating cohort analysis...\")\n",
    "\n",
    "cohorts = viz_stream.cohorts(\n",
    "    cohort_start_unit='M',\n",
    "    cohort_period=(1, 'M')\n",
    ")\n",
    "\n",
    "cohorts"
   ]
  },
  {
   "cell_type": "markdown",
   "metadata": {},
   "source": [
    "## Simple Results Summary"
   ]
  },
  {
   "cell_type": "code",
   "execution_count": null,
   "metadata": {},
   "outputs": [
    {
     "name": "stdout",
     "output_type": "stream",
     "text": [
      "RETENTION ANALYSIS SUMMARY\n",
      "==============================\n",
      "Analysis Date: 2024-01-01\n",
      "Retention Rate: 11.2%\n",
      "Total Supporters Analyzed: 194196\n",
      "Retained: 21709\n",
      "Not Retained: 172487\n",
      "\n",
      "⚠️ Retention rate could be improved\n",
      "\n",
      "Next steps:\n",
      "- Analyze supporter behavior patterns\n",
      "- Implement targeted engagement campaigns\n",
      "- Monitor retention trends monthly\n"
     ]
    },
    {
     "name": "stderr",
     "output_type": "stream",
     "text": [
      "2025-07-14 13:25:57,488 - urllib3.connectionpool - DEBUG - _make_request:544 - https://ftrack-1.server.retentioneering.com:443 \"POST /endpoint/event HTTP/1.1\" 204 0\n",
      "2025-07-14 13:25:57,490 - urllib3.connectionpool - DEBUG - _make_request:544 - https://ftrack-1.server.retentioneering.com:443 \"POST /endpoint/event HTTP/1.1\" 204 0\n",
      "2025-07-14 13:25:57,496 - urllib3.connectionpool - DEBUG - _make_request:544 - https://ftrack-1.server.retentioneering.com:443 \"POST /endpoint/event HTTP/1.1\" 204 0\n",
      "2025-07-14 13:25:57,563 - urllib3.connectionpool - DEBUG - _make_request:544 - https://ftrack-1.server.retentioneering.com:443 \"POST /endpoint/event HTTP/1.1\" 204 0\n",
      "2025-07-14 13:25:57,564 - urllib3.connectionpool - DEBUG - _make_request:544 - https://ftrack-1.server.retentioneering.com:443 \"POST /endpoint/event HTTP/1.1\" 204 0\n",
      "2025-07-14 13:25:57,568 - urllib3.connectionpool - DEBUG - _make_request:544 - https://ftrack-1.server.retentioneering.com:443 \"POST /endpoint/event HTTP/1.1\" 204 0\n"
     ]
    }
   ],
   "source": [
    "# Display summary\n",
    "print(\"RETENTION ANALYSIS SUMMARY\")\n",
    "print(\"=\"*30)\n",
    "print(f\"Analysis Date: {analysis_date.date()}\")\n",
    "print(f\"Retention Rate: {result['retention_rate']:.1f}%\")\n",
    "print(f\"Total Supporters Analyzed: {result['total_supporters_last_period']}\")\n",
    "print(f\"Retained: {result['supporters_retained']}\")\n",
    "print(f\"Not Retained: {result['supporters_not_retained']}\")\n",
    "\n",
    "# Performance assessment\n",
    "if result['retention_rate'] >= 60:\n",
    "    print(\"\\n✅ Good retention rate!\")\n",
    "else:\n",
    "    print(\"\\n⚠️ Retention rate could be improved\")\n",
    "\n",
    "print(\"\\nNext steps:\")\n",
    "print(\"- Analyze supporter behavior patterns\")\n",
    "print(\"- Implement targeted engagement campaigns\")\n",
    "print(\"- Monitor retention trends monthly\")"
   ]
  }
 ],
 "metadata": {
  "kernelspec": {
   "display_name": "nonprofit-engagement-model-DMmtMtjk-py3.11",
   "language": "python",
   "name": "python3"
  },
  "language_info": {
   "codemirror_mode": {
    "name": "ipython",
    "version": 3
   },
   "file_extension": ".py",
   "mimetype": "text/x-python",
   "name": "python",
   "nbconvert_exporter": "python",
   "pygments_lexer": "ipython3",
   "version": "3.11.13"
  }
 },
 "nbformat": 4,
 "nbformat_minor": 4
}
