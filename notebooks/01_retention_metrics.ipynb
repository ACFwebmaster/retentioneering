{
 "cells": [
  {
   "cell_type": "markdown",
   "metadata": {},
   "source": [
    "# 📊 Supporter Retention Analysis with Retentioneering\n",
    "\n",
    "Simple demonstration of calculating 6-month retention using native retentioneering data processors.\n",
    "\n",
    "---"
   ]
  },
  {
   "cell_type": "markdown",
   "metadata": {},
   "source": [
    "## Setup"
   ]
  },
  {
   "cell_type": "code",
   "execution_count": 1,
   "metadata": {},
   "outputs": [
    {
     "name": "stdout",
     "output_type": "stream",
     "text": [
      "Retentioneering version: 3.3.0\n"
     ]
    }
   ],
   "source": [
    "import pandas as pd\n",
    "import numpy as np\n",
    "from datetime import datetime, timedelta\n",
    "import warnings\n",
    "warnings.filterwarnings('ignore')\n",
    "\n",
    "import retentioneering\n",
    "from retentioneering.eventstream import Eventstream, EventstreamSchema\n",
    "\n",
    "print(f\"Retentioneering version: {retentioneering.__version__}\")"
   ]
  },
  {
   "cell_type": "code",
   "execution_count": 2,
   "metadata": {},
   "outputs": [
    {
     "name": "stdout",
     "output_type": "stream",
     "text": [
      "SixMonthRetentionProcessor imported successfully!\n"
     ]
    }
   ],
   "source": [
    "# Import our retention processor\n",
    "import sys\n",
    "sys.path.append('../')\n",
    "\n",
    "from src.retention_metrics.six_month_retention_processor import SixMonthRetentionProcessor\n",
    "\n",
    "print(\"SixMonthRetentionProcessor imported successfully!\")"
   ]
  },
  {
   "cell_type": "markdown",
   "metadata": {},
   "source": [
    "## Generate Demo Data"
   ]
  },
  {
   "cell_type": "code",
   "execution_count": 3,
   "metadata": {},
   "outputs": [
    {
     "name": "stderr",
     "output_type": "stream",
     "text": [
      "2025-07-14 13:46:27,052 - src.config.settings - INFO - __init__:130 - Configuration loaded for environment: development\n",
      "2025-07-14 13:46:27,053 - src.config.settings - INFO - __init__:131 - Debug mode: True\n",
      "2025-07-14 13:46:27,054 - src.config.settings - INFO - __init__:132 - Development mode: True\n",
      "2025-07-14 13:46:27,056 - src.data.extraction - INFO - __init__:43 - DataExtractor initialized\n",
      "2025-07-14 13:46:27,156 - src.data.extraction - DEBUG - _load_from_cache:508 - Loaded data from cache: data/raw/actions_2023-01-01_2024-12-31_none_none.pkl\n",
      "2025-07-14 13:46:27,157 - src.data.extraction - INFO - extract_supporter_actions:77 - Loaded supporter actions from cache: actions_2023-01-01_2024-12-31_none_none\n"
     ]
    },
    {
     "name": "stdout",
     "output_type": "stream",
     "text": [
      "Generated 630628 actions for 347613 supporters\n"
     ]
    },
    {
     "data": {
      "text/html": [
       "<div>\n",
       "<style scoped>\n",
       "    .dataframe tbody tr th:only-of-type {\n",
       "        vertical-align: middle;\n",
       "    }\n",
       "\n",
       "    .dataframe tbody tr th {\n",
       "        vertical-align: top;\n",
       "    }\n",
       "\n",
       "    .dataframe thead th {\n",
       "        text-align: right;\n",
       "    }\n",
       "</style>\n",
       "<table border=\"1\" class=\"dataframe\">\n",
       "  <thead>\n",
       "    <tr style=\"text-align: right;\">\n",
       "      <th></th>\n",
       "      <th>supporter_id</th>\n",
       "      <th>action_date</th>\n",
       "      <th>action_type</th>\n",
       "      <th>tags</th>\n",
       "      <th>supporter_level</th>\n",
       "    </tr>\n",
       "  </thead>\n",
       "  <tbody>\n",
       "    <tr>\n",
       "      <th>0</th>\n",
       "      <td>1140218</td>\n",
       "      <td>2023-01-27 03:48:06</td>\n",
       "      <td>VOL</td>\n",
       "      <td>A-VOL_EOI-Z-Z-</td>\n",
       "      <td>1</td>\n",
       "    </tr>\n",
       "    <tr>\n",
       "      <th>1</th>\n",
       "      <td>1553597</td>\n",
       "      <td>2023-03-16 03:39:47</td>\n",
       "      <td>VOL</td>\n",
       "      <td>A-VOL_EOI-Z-Z-</td>\n",
       "      <td>1</td>\n",
       "    </tr>\n",
       "    <tr>\n",
       "      <th>2</th>\n",
       "      <td>1561805</td>\n",
       "      <td>2023-04-10 23:08:41</td>\n",
       "      <td>VOL</td>\n",
       "      <td>A-VOL_EOI-Z-Z-</td>\n",
       "      <td>1</td>\n",
       "    </tr>\n",
       "    <tr>\n",
       "      <th>3</th>\n",
       "      <td>1578338</td>\n",
       "      <td>2023-07-05 06:48:11</td>\n",
       "      <td>VOL</td>\n",
       "      <td>A-VOL_EOI-Z-Z-</td>\n",
       "      <td>1</td>\n",
       "    </tr>\n",
       "    <tr>\n",
       "      <th>4</th>\n",
       "      <td>1590656</td>\n",
       "      <td>2023-07-05 07:01:42</td>\n",
       "      <td>VOL</td>\n",
       "      <td>A-VOL_EOI-Z-Z-</td>\n",
       "      <td>1</td>\n",
       "    </tr>\n",
       "  </tbody>\n",
       "</table>\n",
       "</div>"
      ],
      "text/plain": [
       "   supporter_id         action_date action_type            tags  \\\n",
       "0       1140218 2023-01-27 03:48:06         VOL  A-VOL_EOI-Z-Z-   \n",
       "1       1553597 2023-03-16 03:39:47         VOL  A-VOL_EOI-Z-Z-   \n",
       "2       1561805 2023-04-10 23:08:41         VOL  A-VOL_EOI-Z-Z-   \n",
       "3       1578338 2023-07-05 06:48:11         VOL  A-VOL_EOI-Z-Z-   \n",
       "4       1590656 2023-07-05 07:01:42         VOL  A-VOL_EOI-Z-Z-   \n",
       "\n",
       "   supporter_level  \n",
       "0                1  \n",
       "1                1  \n",
       "2                1  \n",
       "3                1  \n",
       "4                1  "
      ]
     },
     "execution_count": 3,
     "metadata": {},
     "output_type": "execute_result"
    }
   ],
   "source": [
    "USE_SQL_DATA = True\n",
    "\n",
    "if USE_SQL_DATA:\n",
    "    # Load data from SQL database\n",
    "    from src.data.extraction import DataExtractor\n",
    "    extractor = DataExtractor()\n",
    "    supporter_data = extractor.extract_supporter_actions(\n",
    "        start_date='2023-01-01',\n",
    "        end_date='2024-12-31',\n",
    "        use_cache=True\n",
    "    )\n",
    "\n",
    "else:\n",
    "    # Generate synthetic supporter data\n",
    "    np.random.seed(42)\n",
    "\n",
    "    action_types = ['donation', 'petition_signed', 'event_attended', 'newsletter_signup', 'volunteer_signup']\n",
    "    excluded_statuses = ['is_regular_giver', 'is_mid_value_donor']  # Status attributes to filter out\n",
    "\n",
    "    data = []\n",
    "    start_date = datetime(2023, 1, 1)\n",
    "\n",
    "    for supporter_id in range(1, 201):  # 200 supporters\n",
    "        n_actions = np.random.poisson(4) + 1\n",
    "        supporter_start = start_date + timedelta(days=np.random.randint(0, 365))\n",
    "        \n",
    "        for action_num in range(n_actions):\n",
    "            days_offset = np.random.exponential(30) * action_num\n",
    "            action_date = supporter_start + timedelta(days=int(days_offset))\n",
    "            \n",
    "            # Mix of real actions and status attributes\n",
    "            if np.random.random() < 0.1:\n",
    "                action_type = np.random.choice(excluded_statuses)\n",
    "            else:\n",
    "                action_type = np.random.choice(action_types)\n",
    "            \n",
    "            data.append({\n",
    "                'supporter_id': f'supporter_{supporter_id:03d}',\n",
    "                'action_type': action_type,\n",
    "                'action_date': action_date\n",
    "            })\n",
    "\n",
    "    supporter_data = pd.DataFrame(data)\n",
    "\n",
    "print(f\"Generated {len(supporter_data)} actions for {supporter_data['supporter_id'].nunique()} supporters\")\n",
    "supporter_data.head()"
   ]
  },
  {
   "cell_type": "markdown",
   "metadata": {},
   "source": [
    "## Create Eventstream"
   ]
  },
  {
   "cell_type": "code",
   "execution_count": 4,
   "metadata": {},
   "outputs": [
    {
     "name": "stderr",
     "output_type": "stream",
     "text": [
      "2025-07-14 13:46:27,279 - urllib3.connectionpool - DEBUG - _new_conn:1049 - Starting new HTTPS connection (2): ftrack-1.server.retentioneering.com:443\n",
      "2025-07-14 13:46:27,444 - urllib3.connectionpool - DEBUG - _make_request:544 - https://ftrack-1.server.retentioneering.com:443 \"POST /endpoint/event HTTP/1.1\" 204 0\n",
      "2025-07-14 13:46:28,193 - urllib3.connectionpool - DEBUG - _make_request:544 - https://ftrack-1.server.retentioneering.com:443 \"POST /endpoint/event HTTP/1.1\" 204 0\n",
      "2025-07-14 13:46:29,771 - urllib3.connectionpool - DEBUG - _make_request:544 - https://ftrack-1.server.retentioneering.com:443 \"POST /endpoint/event HTTP/1.1\" 204 0\n",
      "2025-07-14 13:46:29,772 - urllib3.connectionpool - DEBUG - _make_request:544 - https://ftrack-1.server.retentioneering.com:443 \"POST /endpoint/event HTTP/1.1\" 204 0\n",
      "2025-07-14 13:46:29,898 - urllib3.connectionpool - DEBUG - _new_conn:1049 - Starting new HTTPS connection (3): ftrack-1.server.retentioneering.com:443\n",
      "2025-07-14 13:46:29,900 - urllib3.connectionpool - DEBUG - _new_conn:1049 - Starting new HTTPS connection (4): ftrack-1.server.retentioneering.com:443\n",
      "2025-07-14 13:46:29,983 - urllib3.connectionpool - DEBUG - _new_conn:1049 - Starting new HTTPS connection (5): ftrack-1.server.retentioneering.com:443\n",
      "2025-07-14 13:46:29,984 - urllib3.connectionpool - DEBUG - _new_conn:1049 - Starting new HTTPS connection (6): ftrack-1.server.retentioneering.com:443\n",
      "2025-07-14 13:46:30,001 - urllib3.connectionpool - DEBUG - _new_conn:1049 - Starting new HTTPS connection (7): ftrack-1.server.retentioneering.com:443\n",
      "2025-07-14 13:46:30,003 - urllib3.connectionpool - DEBUG - _new_conn:1049 - Starting new HTTPS connection (8): ftrack-1.server.retentioneering.com:443\n",
      "2025-07-14 13:46:30,004 - urllib3.connectionpool - DEBUG - _new_conn:1049 - Starting new HTTPS connection (9): ftrack-1.server.retentioneering.com:443\n",
      "2025-07-14 13:46:30,088 - urllib3.connectionpool - DEBUG - _make_request:544 - https://ftrack-1.server.retentioneering.com:443 \"POST /endpoint/event HTTP/1.1\" 204 0\n",
      "2025-07-14 13:46:30,123 - urllib3.connectionpool - DEBUG - _new_conn:1049 - Starting new HTTPS connection (10): ftrack-1.server.retentioneering.com:443\n",
      "2025-07-14 13:46:30,152 - urllib3.connectionpool - DEBUG - _make_request:544 - https://ftrack-1.server.retentioneering.com:443 \"POST /endpoint/event HTTP/1.1\" 204 0\n"
     ]
    },
    {
     "name": "stdout",
     "output_type": "stream",
     "text": [
      "Eventstream created: 630628 events\n"
     ]
    },
    {
     "data": {
      "text/html": [
       "<div>\n",
       "<style scoped>\n",
       "    .dataframe tbody tr th:only-of-type {\n",
       "        vertical-align: middle;\n",
       "    }\n",
       "\n",
       "    .dataframe tbody tr th {\n",
       "        vertical-align: top;\n",
       "    }\n",
       "\n",
       "    .dataframe thead th {\n",
       "        text-align: right;\n",
       "    }\n",
       "</style>\n",
       "<table border=\"1\" class=\"dataframe\">\n",
       "  <thead>\n",
       "    <tr style=\"text-align: right;\">\n",
       "      <th></th>\n",
       "      <th></th>\n",
       "      <th>value</th>\n",
       "    </tr>\n",
       "    <tr>\n",
       "      <th>category</th>\n",
       "      <th>metric</th>\n",
       "      <th></th>\n",
       "    </tr>\n",
       "  </thead>\n",
       "  <tbody>\n",
       "    <tr>\n",
       "      <th rowspan=\"5\" valign=\"top\">overall</th>\n",
       "      <th>unique_users</th>\n",
       "      <td>347613</td>\n",
       "    </tr>\n",
       "    <tr>\n",
       "      <th>unique_events</th>\n",
       "      <td>15</td>\n",
       "    </tr>\n",
       "    <tr>\n",
       "      <th>eventstream_start</th>\n",
       "      <td>2023-01-01 00:01:02</td>\n",
       "    </tr>\n",
       "    <tr>\n",
       "      <th>eventstream_end</th>\n",
       "      <td>2024-12-30 23:42:11</td>\n",
       "    </tr>\n",
       "    <tr>\n",
       "      <th>eventstream_length</th>\n",
       "      <td>729 days 23:41:09</td>\n",
       "    </tr>\n",
       "    <tr>\n",
       "      <th rowspan=\"5\" valign=\"top\">path_length_time</th>\n",
       "      <th>mean</th>\n",
       "      <td>46 days 13:35:13</td>\n",
       "    </tr>\n",
       "    <tr>\n",
       "      <th>std</th>\n",
       "      <td>133 days 04:48:31</td>\n",
       "    </tr>\n",
       "    <tr>\n",
       "      <th>median</th>\n",
       "      <td>0 days 00:00:00</td>\n",
       "    </tr>\n",
       "    <tr>\n",
       "      <th>min</th>\n",
       "      <td>0 days 00:00:00</td>\n",
       "    </tr>\n",
       "    <tr>\n",
       "      <th>max</th>\n",
       "      <td>728 days 03:41:54</td>\n",
       "    </tr>\n",
       "    <tr>\n",
       "      <th rowspan=\"5\" valign=\"top\">path_length_steps</th>\n",
       "      <th>mean</th>\n",
       "      <td>1.81</td>\n",
       "    </tr>\n",
       "    <tr>\n",
       "      <th>std</th>\n",
       "      <td>3.05</td>\n",
       "    </tr>\n",
       "    <tr>\n",
       "      <th>median</th>\n",
       "      <td>1.0</td>\n",
       "    </tr>\n",
       "    <tr>\n",
       "      <th>min</th>\n",
       "      <td>1</td>\n",
       "    </tr>\n",
       "    <tr>\n",
       "      <th>max</th>\n",
       "      <td>109</td>\n",
       "    </tr>\n",
       "  </tbody>\n",
       "</table>\n",
       "</div>"
      ],
      "text/plain": [
       "                                                    value\n",
       "category          metric                                 \n",
       "overall           unique_users                     347613\n",
       "                  unique_events                        15\n",
       "                  eventstream_start   2023-01-01 00:01:02\n",
       "                  eventstream_end     2024-12-30 23:42:11\n",
       "                  eventstream_length    729 days 23:41:09\n",
       "path_length_time  mean                   46 days 13:35:13\n",
       "                  std                   133 days 04:48:31\n",
       "                  median                  0 days 00:00:00\n",
       "                  min                     0 days 00:00:00\n",
       "                  max                   728 days 03:41:54\n",
       "path_length_steps mean                               1.81\n",
       "                  std                                3.05\n",
       "                  median                              1.0\n",
       "                  min                                   1\n",
       "                  max                                 109"
      ]
     },
     "execution_count": 4,
     "metadata": {},
     "output_type": "execute_result"
    }
   ],
   "source": [
    "# Create retentioneering Eventstream\n",
    "raw_data_schema = {\n",
    "    'user_id': 'supporter_id',\n",
    "    'event_name': 'action_type',\n",
    "    'event_timestamp': 'action_date'\n",
    "}\n",
    "\n",
    "# schema = EventstreamSchema(\n",
    "#     user_id='supporter_id',\n",
    "#     event_type='action_type',\n",
    "#     event_timestamp='action_date'\n",
    "# )\n",
    "\n",
    "eventstream = Eventstream(supporter_data, raw_data_schema=raw_data_schema, add_start_end_events=False)\n",
    "print(f\"Eventstream created: {len(eventstream.to_dataframe())} events\")\n",
    "\n",
    "# Quick description\n",
    "eventstream.describe()"
   ]
  },
  {
   "cell_type": "markdown",
   "metadata": {},
   "source": [
    "## Calculate 6-Month Retention"
   ]
  },
  {
   "cell_type": "code",
   "execution_count": 5,
   "metadata": {},
   "outputs": [
    {
     "name": "stderr",
     "output_type": "stream",
     "text": [
      "2025-07-14 13:46:30,273 - src.retention_metrics.six_month_retention_processor - INFO - calculate_metric_1:62 - Starting 6-month retention calculation\n",
      "2025-07-14 13:46:30,274 - src.retention_metrics.six_month_retention_processor - DEBUG - _filter_eventstream_for_analysis:146 - Filtering eventstream for analysis period\n",
      "2025-07-14 13:46:30,277 - urllib3.connectionpool - DEBUG - _new_conn:1049 - Starting new HTTPS connection (11): ftrack-1.server.retentioneering.com:443\n",
      "2025-07-14 13:46:30,362 - urllib3.connectionpool - DEBUG - _new_conn:1049 - Starting new HTTPS connection (12): ftrack-1.server.retentioneering.com:443\n",
      "2025-07-14 13:46:30,363 - urllib3.connectionpool - DEBUG - _new_conn:1049 - Starting new HTTPS connection (13): ftrack-1.server.retentioneering.com:443\n",
      "2025-07-14 13:46:30,383 - urllib3.connectionpool - DEBUG - _make_request:544 - https://ftrack-1.server.retentioneering.com:443 \"POST /endpoint/event HTTP/1.1\" 204 0\n"
     ]
    },
    {
     "name": "stdout",
     "output_type": "stream",
     "text": [
      "Last period: 2023-07-05 to 2024-01-01\n",
      "Following period: 2024-01-01 to 2024-06-29\n"
     ]
    },
    {
     "name": "stderr",
     "output_type": "stream",
     "text": [
      "2025-07-14 13:46:30,524 - urllib3.connectionpool - DEBUG - _make_request:544 - https://ftrack-1.server.retentioneering.com:443 \"POST /endpoint/event HTTP/1.1\" 204 0\n",
      "2025-07-14 13:46:30,699 - urllib3.connectionpool - DEBUG - _make_request:544 - https://ftrack-1.server.retentioneering.com:443 \"POST /endpoint/event HTTP/1.1\" 204 0\n",
      "2025-07-14 13:46:30,699 - urllib3.connectionpool - DEBUG - _make_request:544 - https://ftrack-1.server.retentioneering.com:443 \"POST /endpoint/event HTTP/1.1\" 204 0\n",
      "2025-07-14 13:46:30,710 - src.retention_metrics.six_month_retention_processor - DEBUG - _filter_eventstream_for_analysis:171 - Filtered to 399475 events from 257614 supporters\n",
      "2025-07-14 13:46:30,788 - urllib3.connectionpool - DEBUG - _make_request:544 - https://ftrack-1.server.retentioneering.com:443 \"POST /endpoint/event HTTP/1.1\" 204 0\n",
      "2025-07-14 13:46:30,822 - urllib3.connectionpool - DEBUG - _make_request:544 - https://ftrack-1.server.retentioneering.com:443 \"POST /endpoint/event HTTP/1.1\" 204 0\n",
      "2025-07-14 13:46:30,822 - urllib3.connectionpool - DEBUG - _make_request:544 - https://ftrack-1.server.retentioneering.com:443 \"POST /endpoint/event HTTP/1.1\" 204 0\n",
      "2025-07-14 13:46:30,822 - urllib3.connectionpool - DEBUG - _make_request:544 - https://ftrack-1.server.retentioneering.com:443 \"POST /endpoint/event HTTP/1.1\" 204 0\n",
      "2025-07-14 13:46:30,858 - urllib3.connectionpool - DEBUG - _make_request:544 - https://ftrack-1.server.retentioneering.com:443 \"POST /endpoint/event HTTP/1.1\" 204 0\n",
      "2025-07-14 13:46:30,907 - urllib3.connectionpool - DEBUG - _make_request:544 - https://ftrack-1.server.retentioneering.com:443 \"POST /endpoint/event HTTP/1.1\" 204 0\n",
      "2025-07-14 13:46:30,969 - urllib3.connectionpool - DEBUG - _make_request:544 - https://ftrack-1.server.retentioneering.com:443 \"POST /endpoint/event HTTP/1.1\" 204 0\n",
      "2025-07-14 13:46:31,051 - urllib3.connectionpool - DEBUG - _make_request:544 - https://ftrack-1.server.retentioneering.com:443 \"POST /endpoint/event HTTP/1.1\" 204 0\n",
      "2025-07-14 13:46:31,079 - urllib3.connectionpool - DEBUG - _make_request:544 - https://ftrack-1.server.retentioneering.com:443 \"POST /endpoint/event HTTP/1.1\" 204 0\n",
      "2025-07-14 13:46:31,230 - urllib3.connectionpool - DEBUG - _make_request:544 - https://ftrack-1.server.retentioneering.com:443 \"POST /endpoint/event HTTP/1.1\" 204 0\n",
      "2025-07-14 13:46:31,231 - urllib3.connectionpool - DEBUG - _make_request:544 - https://ftrack-1.server.retentioneering.com:443 \"POST /endpoint/event HTTP/1.1\" 204 0\n",
      "2025-07-14 13:46:32,236 - urllib3.connectionpool - DEBUG - _make_request:544 - https://ftrack-1.server.retentioneering.com:443 \"POST /endpoint/event HTTP/1.1\" 204 0\n",
      "2025-07-14 13:46:32,236 - urllib3.connectionpool - DEBUG - _make_request:544 - https://ftrack-1.server.retentioneering.com:443 \"POST /endpoint/event HTTP/1.1\" 204 0\n",
      "2025-07-14 13:46:32,279 - src.retention_metrics.six_month_retention_processor - DEBUG - _get_supporters_in_period:256 - Found 194196 supporters active between 2023-07-05 and 2024-01-01\n",
      "2025-07-14 13:46:32,353 - src.retention_metrics.six_month_retention_processor - DEBUG - _get_supporters_in_period:256 - Found 85127 supporters active between 2024-01-01 and 2024-06-29\n",
      "2025-07-14 13:46:32,387 - src.retention_metrics.six_month_retention_processor - DEBUG - _create_simple_labeled_eventstream:269 - Creating simple labeled eventstream\n",
      "2025-07-14 13:46:32,403 - urllib3.connectionpool - DEBUG - _make_request:544 - https://ftrack-1.server.retentioneering.com:443 \"POST /endpoint/event HTTP/1.1\" 204 0\n",
      "2025-07-14 13:46:32,441 - urllib3.connectionpool - DEBUG - _make_request:544 - https://ftrack-1.server.retentioneering.com:443 \"POST /endpoint/event HTTP/1.1\" 204 0\n",
      "2025-07-14 13:46:32,467 - urllib3.connectionpool - DEBUG - _make_request:544 - https://ftrack-1.server.retentioneering.com:443 \"POST /endpoint/event HTTP/1.1\" 204 0\n",
      "2025-07-14 13:46:32,469 - urllib3.connectionpool - DEBUG - _make_request:544 - https://ftrack-1.server.retentioneering.com:443 \"POST /endpoint/event HTTP/1.1\" 204 0\n",
      "2025-07-14 13:46:32,517 - urllib3.connectionpool - DEBUG - _make_request:544 - https://ftrack-1.server.retentioneering.com:443 \"POST /endpoint/event HTTP/1.1\" 204 0\n",
      "2025-07-14 13:46:32,518 - urllib3.connectionpool - DEBUG - _make_request:544 - https://ftrack-1.server.retentioneering.com:443 \"POST /endpoint/event HTTP/1.1\" 204 0\n",
      "2025-07-14 13:46:32,547 - urllib3.connectionpool - DEBUG - _make_request:544 - https://ftrack-1.server.retentioneering.com:443 \"POST /endpoint/event HTTP/1.1\" 204 0\n",
      "2025-07-14 13:46:32,599 - urllib3.connectionpool - DEBUG - _make_request:544 - https://ftrack-1.server.retentioneering.com:443 \"POST /endpoint/event HTTP/1.1\" 204 0\n",
      "2025-07-14 13:46:32,600 - urllib3.connectionpool - DEBUG - _make_request:544 - https://ftrack-1.server.retentioneering.com:443 \"POST /endpoint/event HTTP/1.1\" 204 0\n",
      "2025-07-14 13:46:32,658 - urllib3.connectionpool - DEBUG - _make_request:544 - https://ftrack-1.server.retentioneering.com:443 \"POST /endpoint/event HTTP/1.1\" 204 0\n",
      "2025-07-14 13:46:32,704 - urllib3.connectionpool - DEBUG - _make_request:544 - https://ftrack-1.server.retentioneering.com:443 \"POST /endpoint/event HTTP/1.1\" 204 0\n",
      "2025-07-14 13:46:32,710 - urllib3.connectionpool - DEBUG - _make_request:544 - https://ftrack-1.server.retentioneering.com:443 \"POST /endpoint/event HTTP/1.1\" 204 0\n",
      "2025-07-14 13:46:34,425 - src.retention_metrics.six_month_retention_processor - DEBUG - _create_simple_labeled_eventstream:328 - Created labeled eventstream with 194196 retention events\n",
      "2025-07-14 13:46:34,844 - urllib3.connectionpool - DEBUG - _make_request:544 - https://ftrack-1.server.retentioneering.com:443 \"POST /endpoint/event HTTP/1.1\" 204 0\n",
      "2025-07-14 13:46:34,844 - urllib3.connectionpool - DEBUG - _make_request:544 - https://ftrack-1.server.retentioneering.com:443 \"POST /endpoint/event HTTP/1.1\" 204 0\n",
      "2025-07-14 13:46:36,408 - urllib3.connectionpool - DEBUG - _make_request:544 - https://ftrack-1.server.retentioneering.com:443 \"POST /endpoint/event HTTP/1.1\" 204 0\n",
      "2025-07-14 13:46:36,409 - urllib3.connectionpool - DEBUG - _make_request:544 - https://ftrack-1.server.retentioneering.com:443 \"POST /endpoint/event HTTP/1.1\" 204 0\n",
      "2025-07-14 13:46:36,628 - urllib3.connectionpool - DEBUG - _new_conn:1049 - Starting new HTTPS connection (14): ftrack-1.server.retentioneering.com:443\n",
      "2025-07-14 13:46:36,630 - urllib3.connectionpool - DEBUG - _new_conn:1049 - Starting new HTTPS connection (15): ftrack-1.server.retentioneering.com:443\n",
      "2025-07-14 13:46:36,695 - urllib3.connectionpool - DEBUG - _make_request:544 - https://ftrack-1.server.retentioneering.com:443 \"POST /endpoint/event HTTP/1.1\" 204 0\n",
      "2025-07-14 13:46:36,789 - urllib3.connectionpool - DEBUG - _make_request:544 - https://ftrack-1.server.retentioneering.com:443 \"POST /endpoint/event HTTP/1.1\" 204 0\n",
      "2025-07-14 13:46:36,789 - urllib3.connectionpool - DEBUG - _make_request:544 - https://ftrack-1.server.retentioneering.com:443 \"POST /endpoint/event HTTP/1.1\" 204 0\n",
      "2025-07-14 13:46:36,790 - urllib3.connectionpool - DEBUG - _make_request:544 - https://ftrack-1.server.retentioneering.com:443 \"POST /endpoint/event HTTP/1.1\" 204 0\n",
      "2025-07-14 13:46:36,790 - urllib3.connectionpool - DEBUG - _make_request:544 - https://ftrack-1.server.retentioneering.com:443 \"POST /endpoint/event HTTP/1.1\" 204 0\n",
      "2025-07-14 13:46:36,792 - urllib3.connectionpool - DEBUG - _make_request:544 - https://ftrack-1.server.retentioneering.com:443 \"POST /endpoint/event HTTP/1.1\" 204 0\n",
      "2025-07-14 13:46:36,792 - urllib3.connectionpool - DEBUG - _make_request:544 - https://ftrack-1.server.retentioneering.com:443 \"POST /endpoint/event HTTP/1.1\" 204 0\n",
      "2025-07-14 13:46:36,792 - urllib3.connectionpool - DEBUG - _make_request:544 - https://ftrack-1.server.retentioneering.com:443 \"POST /endpoint/event HTTP/1.1\" 204 0\n",
      "2025-07-14 13:46:36,793 - urllib3.connectionpool - DEBUG - _make_request:544 - https://ftrack-1.server.retentioneering.com:443 \"POST /endpoint/event HTTP/1.1\" 204 0\n",
      "2025-07-14 13:46:36,793 - urllib3.connectionpool - DEBUG - _make_request:544 - https://ftrack-1.server.retentioneering.com:443 \"POST /endpoint/event HTTP/1.1\" 204 0\n",
      "2025-07-14 13:46:36,794 - urllib3.connectionpool - DEBUG - _make_request:544 - https://ftrack-1.server.retentioneering.com:443 \"POST /endpoint/event HTTP/1.1\" 204 0\n",
      "2025-07-14 13:46:36,794 - urllib3.connectionpool - DEBUG - _make_request:544 - https://ftrack-1.server.retentioneering.com:443 \"POST /endpoint/event HTTP/1.1\" 204 0\n",
      "2025-07-14 13:46:36,815 - urllib3.connectionpool - DEBUG - _make_request:544 - https://ftrack-1.server.retentioneering.com:443 \"POST /endpoint/event HTTP/1.1\" 204 0\n",
      "2025-07-14 13:46:37,262 - urllib3.connectionpool - DEBUG - _make_request:544 - https://ftrack-1.server.retentioneering.com:443 \"POST /endpoint/event HTTP/1.1\" 204 0\n",
      "2025-07-14 13:46:37,263 - urllib3.connectionpool - DEBUG - _make_request:544 - https://ftrack-1.server.retentioneering.com:443 \"POST /endpoint/event HTTP/1.1\" 204 0\n",
      "2025-07-14 13:46:37,264 - urllib3.connectionpool - DEBUG - _make_request:544 - https://ftrack-1.server.retentioneering.com:443 \"POST /endpoint/event HTTP/1.1\" 204 0\n",
      "2025-07-14 13:46:37,265 - urllib3.connectionpool - DEBUG - _make_request:544 - https://ftrack-1.server.retentioneering.com:443 \"POST /endpoint/event HTTP/1.1\" 204 0\n",
      "2025-07-14 13:46:37,265 - urllib3.connectionpool - DEBUG - _make_request:544 - https://ftrack-1.server.retentioneering.com:443 \"POST /endpoint/event HTTP/1.1\" 204 0\n",
      "2025-07-14 13:46:37,266 - urllib3.connectionpool - DEBUG - _make_request:544 - https://ftrack-1.server.retentioneering.com:443 \"POST /endpoint/event HTTP/1.1\" 204 0\n",
      "2025-07-14 13:46:37,266 - urllib3.connectionpool - DEBUG - _make_request:544 - https://ftrack-1.server.retentioneering.com:443 \"POST /endpoint/event HTTP/1.1\" 204 0\n",
      "2025-07-14 13:46:37,266 - urllib3.connectionpool - DEBUG - _make_request:544 - https://ftrack-1.server.retentioneering.com:443 \"POST /endpoint/event HTTP/1.1\" 204 0\n",
      "2025-07-14 13:46:37,298 - urllib3.connectionpool - DEBUG - _make_request:544 - https://ftrack-1.server.retentioneering.com:443 \"POST /endpoint/event HTTP/1.1\" 204 0\n",
      "2025-07-14 13:46:37,364 - urllib3.connectionpool - DEBUG - _make_request:544 - https://ftrack-1.server.retentioneering.com:443 \"POST /endpoint/event HTTP/1.1\" 204 0\n",
      "2025-07-14 13:46:37,378 - urllib3.connectionpool - DEBUG - _make_request:544 - https://ftrack-1.server.retentioneering.com:443 \"POST /endpoint/event HTTP/1.1\" 204 0\n",
      "2025-07-14 13:46:37,423 - urllib3.connectionpool - DEBUG - _make_request:544 - https://ftrack-1.server.retentioneering.com:443 \"POST /endpoint/event HTTP/1.1\" 204 0\n",
      "2025-07-14 13:46:37,425 - urllib3.connectionpool - DEBUG - _make_request:544 - https://ftrack-1.server.retentioneering.com:443 \"POST /endpoint/event HTTP/1.1\" 204 0\n",
      "2025-07-14 13:46:37,782 - urllib3.connectionpool - DEBUG - _make_request:544 - https://ftrack-1.server.retentioneering.com:443 \"POST /endpoint/event HTTP/1.1\" 204 0\n",
      "2025-07-14 13:46:37,783 - urllib3.connectionpool - DEBUG - _make_request:544 - https://ftrack-1.server.retentioneering.com:443 \"POST /endpoint/event HTTP/1.1\" 204 0\n",
      "2025-07-14 13:46:37,784 - urllib3.connectionpool - DEBUG - _make_request:544 - https://ftrack-1.server.retentioneering.com:443 \"POST /endpoint/event HTTP/1.1\" 204 0\n",
      "2025-07-14 13:46:37,785 - urllib3.connectionpool - DEBUG - _make_request:544 - https://ftrack-1.server.retentioneering.com:443 \"POST /endpoint/event HTTP/1.1\" 204 0\n",
      "2025-07-14 13:46:37,785 - urllib3.connectionpool - DEBUG - _make_request:544 - https://ftrack-1.server.retentioneering.com:443 \"POST /endpoint/event HTTP/1.1\" 204 0\n",
      "2025-07-14 13:46:37,785 - urllib3.connectionpool - DEBUG - _make_request:544 - https://ftrack-1.server.retentioneering.com:443 \"POST /endpoint/event HTTP/1.1\" 204 0\n",
      "2025-07-14 13:46:37,786 - urllib3.connectionpool - DEBUG - _make_request:544 - https://ftrack-1.server.retentioneering.com:443 \"POST /endpoint/event HTTP/1.1\" 204 0\n",
      "2025-07-14 13:46:37,786 - urllib3.connectionpool - DEBUG - _make_request:544 - https://ftrack-1.server.retentioneering.com:443 \"POST /endpoint/event HTTP/1.1\" 204 0\n",
      "2025-07-14 13:46:37,788 - urllib3.connectionpool - DEBUG - _make_request:544 - https://ftrack-1.server.retentioneering.com:443 \"POST /endpoint/event HTTP/1.1\" 204 0\n",
      "2025-07-14 13:46:37,804 - urllib3.connectionpool - DEBUG - _make_request:544 - https://ftrack-1.server.retentioneering.com:443 \"POST /endpoint/event HTTP/1.1\" 204 0\n",
      "2025-07-14 13:46:39,127 - urllib3.connectionpool - DEBUG - _make_request:544 - https://ftrack-1.server.retentioneering.com:443 \"POST /endpoint/event HTTP/1.1\" 204 0\n",
      "2025-07-14 13:46:39,128 - urllib3.connectionpool - DEBUG - _make_request:544 - https://ftrack-1.server.retentioneering.com:443 \"POST /endpoint/event HTTP/1.1\" 204 0\n",
      "2025-07-14 13:46:39,466 - urllib3.connectionpool - DEBUG - _make_request:544 - https://ftrack-1.server.retentioneering.com:443 \"POST /endpoint/event HTTP/1.1\" 204 0\n",
      "2025-07-14 13:46:39,467 - urllib3.connectionpool - DEBUG - _make_request:544 - https://ftrack-1.server.retentioneering.com:443 \"POST /endpoint/event HTTP/1.1\" 204 0\n",
      "2025-07-14 13:46:39,479 - urllib3.connectionpool - DEBUG - _make_request:544 - https://ftrack-1.server.retentioneering.com:443 \"POST /endpoint/event HTTP/1.1\" 204 0\n",
      "2025-07-14 13:46:39,479 - urllib3.connectionpool - DEBUG - _make_request:544 - https://ftrack-1.server.retentioneering.com:443 \"POST /endpoint/event HTTP/1.1\" 204 0\n",
      "2025-07-14 13:46:39,530 - urllib3.connectionpool - DEBUG - _make_request:544 - https://ftrack-1.server.retentioneering.com:443 \"POST /endpoint/event HTTP/1.1\" 204 0\n",
      "2025-07-14 13:46:39,533 - urllib3.connectionpool - DEBUG - _make_request:544 - https://ftrack-1.server.retentioneering.com:443 \"POST /endpoint/event HTTP/1.1\" 204 0\n",
      "2025-07-14 13:46:40,355 - urllib3.connectionpool - DEBUG - _make_request:544 - https://ftrack-1.server.retentioneering.com:443 \"POST /endpoint/event HTTP/1.1\" 204 0\n",
      "2025-07-14 13:46:40,415 - urllib3.connectionpool - DEBUG - _make_request:544 - https://ftrack-1.server.retentioneering.com:443 \"POST /endpoint/event HTTP/1.1\" 204 0\n",
      "2025-07-14 13:46:40,456 - urllib3.connectionpool - DEBUG - _make_request:544 - https://ftrack-1.server.retentioneering.com:443 \"POST /endpoint/event HTTP/1.1\" 204 0\n",
      "2025-07-14 13:46:40,484 - urllib3.connectionpool - DEBUG - _make_request:544 - https://ftrack-1.server.retentioneering.com:443 \"POST /endpoint/event HTTP/1.1\" 204 0\n",
      "2025-07-14 13:46:40,484 - urllib3.connectionpool - DEBUG - _make_request:544 - https://ftrack-1.server.retentioneering.com:443 \"POST /endpoint/event HTTP/1.1\" 204 0\n",
      "2025-07-14 13:46:40,489 - urllib3.connectionpool - DEBUG - _make_request:544 - https://ftrack-1.server.retentioneering.com:443 \"POST /endpoint/event HTTP/1.1\" 204 0\n",
      "2025-07-14 13:46:40,576 - urllib3.connectionpool - DEBUG - _make_request:544 - https://ftrack-1.server.retentioneering.com:443 \"POST /endpoint/event HTTP/1.1\" 204 0\n",
      "2025-07-14 13:46:40,748 - urllib3.connectionpool - DEBUG - _make_request:544 - https://ftrack-1.server.retentioneering.com:443 \"POST /endpoint/event HTTP/1.1\" 204 0\n",
      "2025-07-14 13:46:40,748 - urllib3.connectionpool - DEBUG - _make_request:544 - https://ftrack-1.server.retentioneering.com:443 \"POST /endpoint/event HTTP/1.1\" 204 0\n",
      "2025-07-14 13:46:40,974 - src.retention_metrics.six_month_retention_processor - INFO - calculate_metric_1:124 - Retention calculation completed: 11.2% retention rate\n"
     ]
    },
    {
     "name": "stdout",
     "output_type": "stream",
     "text": [
      "\n",
      "========================================\n",
      "6-MONTH RETENTION RESULTS\n",
      "========================================\n",
      "Retention Rate: 11.2%\n",
      "Supporters Retained: 21709\n",
      "Supporters Not Retained: 172487\n",
      "Total Supporters: 194196\n"
     ]
    }
   ],
   "source": [
    "# Initialize processor\n",
    "processor = SixMonthRetentionProcessor(eventstream)\n",
    "\n",
    "# Define analysis periods\n",
    "analysis_date = datetime(2024, 1, 1)\n",
    "last_period_start = analysis_date - timedelta(days=180)\n",
    "last_period_end = analysis_date\n",
    "following_period_start = analysis_date\n",
    "following_period_end = analysis_date + timedelta(days=180)\n",
    "\n",
    "print(f\"Last period: {last_period_start.date()} to {last_period_end.date()}\")\n",
    "print(f\"Following period: {following_period_start.date()} to {following_period_end.date()}\")\n",
    "\n",
    "# Calculate retention\n",
    "result = processor.calculate_metric_1(\n",
    "    last_period_start=last_period_start,\n",
    "    last_period_end=last_period_end,\n",
    "    following_period_start=following_period_start,\n",
    "    following_period_end=following_period_end\n",
    ")\n",
    "\n",
    "print(\"\\n\" + \"=\"*40)\n",
    "print(\"6-MONTH RETENTION RESULTS\")\n",
    "print(\"=\"*40)\n",
    "print(f\"Retention Rate: {result['retention_rate']:.1f}%\")\n",
    "print(f\"Supporters Retained: {result['supporters_retained']}\")\n",
    "print(f\"Supporters Not Retained: {result['supporters_not_retained']}\")\n",
    "print(f\"Total Supporters: {result['total_supporters_last_period']}\")"
   ]
  },
  {
   "cell_type": "markdown",
   "metadata": {},
   "source": [
    "## Visualize with Retentioneering"
   ]
  },
  {
   "cell_type": "code",
   "execution_count": 6,
   "metadata": {},
   "outputs": [
    {
     "name": "stderr",
     "output_type": "stream",
     "text": [
      "2025-07-14 13:46:41,108 - urllib3.connectionpool - DEBUG - _make_request:544 - https://ftrack-1.server.retentioneering.com:443 \"POST /endpoint/event HTTP/1.1\" 204 0\n",
      "2025-07-14 13:46:41,181 - urllib3.connectionpool - DEBUG - _make_request:544 - https://ftrack-1.server.retentioneering.com:443 \"POST /endpoint/event HTTP/1.1\" 204 0\n"
     ]
    },
    {
     "name": "stdout",
     "output_type": "stream",
     "text": [
      "Creating transition graph with retention labels...\n"
     ]
    },
    {
     "name": "stderr",
     "output_type": "stream",
     "text": [
      "2025-07-14 13:46:41,186 - urllib3.connectionpool - DEBUG - _make_request:544 - https://ftrack-1.server.retentioneering.com:443 \"POST /endpoint/event HTTP/1.1\" 204 0\n",
      "2025-07-14 13:46:41,187 - urllib3.connectionpool - DEBUG - _make_request:544 - https://ftrack-1.server.retentioneering.com:443 \"POST /endpoint/event HTTP/1.1\" 204 0\n",
      "2025-07-14 13:46:41,187 - urllib3.connectionpool - DEBUG - _make_request:544 - https://ftrack-1.server.retentioneering.com:443 \"POST /endpoint/event HTTP/1.1\" 204 0\n",
      "2025-07-14 13:46:41,228 - urllib3.connectionpool - DEBUG - _make_request:544 - https://ftrack-1.server.retentioneering.com:443 \"POST /endpoint/event HTTP/1.1\" 204 0\n",
      "2025-07-14 13:46:41,234 - urllib3.connectionpool - DEBUG - _make_request:544 - https://ftrack-1.server.retentioneering.com:443 \"POST /endpoint/event HTTP/1.1\" 204 0\n",
      "2025-07-14 13:46:41,262 - urllib3.connectionpool - DEBUG - _make_request:544 - https://ftrack-1.server.retentioneering.com:443 \"POST /endpoint/event HTTP/1.1\" 204 0\n",
      "2025-07-14 13:46:41,262 - urllib3.connectionpool - DEBUG - _make_request:544 - https://ftrack-1.server.retentioneering.com:443 \"POST /endpoint/event HTTP/1.1\" 204 0\n",
      "2025-07-14 13:46:41,269 - urllib3.connectionpool - DEBUG - _make_request:544 - https://ftrack-1.server.retentioneering.com:443 \"POST /endpoint/event HTTP/1.1\" 204 0\n",
      "2025-07-14 13:46:41,275 - urllib3.connectionpool - DEBUG - _make_request:544 - https://ftrack-1.server.retentioneering.com:443 \"POST /endpoint/event HTTP/1.1\" 204 0\n",
      "2025-07-14 13:46:41,281 - urllib3.connectionpool - DEBUG - _make_request:544 - https://ftrack-1.server.retentioneering.com:443 \"POST /endpoint/event HTTP/1.1\" 204 0\n",
      "2025-07-14 13:46:41,282 - urllib3.connectionpool - DEBUG - _make_request:544 - https://ftrack-1.server.retentioneering.com:443 \"POST /endpoint/event HTTP/1.1\" 204 0\n",
      "2025-07-14 13:46:41,354 - urllib3.connectionpool - DEBUG - _make_request:544 - https://ftrack-1.server.retentioneering.com:443 \"POST /endpoint/event HTTP/1.1\" 204 0\n",
      "2025-07-14 13:46:41,354 - urllib3.connectionpool - DEBUG - _make_request:544 - https://ftrack-1.server.retentioneering.com:443 \"POST /endpoint/event HTTP/1.1\" 204 0\n",
      "2025-07-14 13:46:41,744 - urllib3.connectionpool - DEBUG - _make_request:544 - https://ftrack-1.server.retentioneering.com:443 \"POST /endpoint/event HTTP/1.1\" 204 0\n",
      "2025-07-14 13:46:41,813 - urllib3.connectionpool - DEBUG - _make_request:544 - https://ftrack-1.server.retentioneering.com:443 \"POST /endpoint/event HTTP/1.1\" 204 0\n",
      "2025-07-14 13:46:41,818 - urllib3.connectionpool - DEBUG - _make_request:544 - https://ftrack-1.server.retentioneering.com:443 \"POST /endpoint/event HTTP/1.1\" 204 0\n"
     ]
    },
    {
     "data": {
      "text/html": [
       "<iframe\n",
       "    id=\"iframe-el3PQRI5\"\n",
       "    allow=\"fullscreen\"\n",
       "    src=\"about:blank\"\n",
       "    style=\"width: 100%; width: 1000px; height: 60vh; height: 600px; min-height: 600px; box-sizing: border-box;\"\n",
       "    title=\"Loading ...\"\n",
       "></iframe>\n",
       "<script>\n",
       "  window.__RETE_HELPERS__ = window.__RETE_HELPERS__ || {\n",
       "    /**\n",
       "     * We render our widgets inside of iframes (to isolate javascript).\n",
       "     * The @jupyterlab/services library we use reads the basic URL parameters\n",
       "     * for the Jupyter Kernel Gateway and ws connections) from the DOM.\n",
       "     * These parameters are not present in the nested iframe.\n",
       "     * This function copies this configuration to the DOM of the current\n",
       "     * iframe so that PageConfig\n",
       "     * (https://github.com/jupyterlab/jupyterlab/blob/master/packages/coreutils/src/pageconfig.ts#L36)\n",
       "     * can retrieve them\n",
       "     *\n",
       "     * @param {Document} iframeDocument\n",
       "     * @param {Document} parentDocument\n",
       "     */\n",
       "    proxyNotebookEnv(iframeDocument, parentDocument) {\n",
       "      // For Jupyter Notebook\n",
       "      for (const [name, val] of Object.entries(parentDocument.body.dataset)) {\n",
       "        iframeDocument.body.dataset[name] = val\n",
       "      }\n",
       "\n",
       "      const id = 'jupyter-config-data'\n",
       "\n",
       "      // For Jupyter Lab\n",
       "      if (!iframeDocument.getElementById(id)) {\n",
       "        const currentConfigScript = parentDocument.getElementById(id)\n",
       "\n",
       "        if (currentConfigScript) {\n",
       "          const newConfigScript = iframeDocument.createElement('script')\n",
       "\n",
       "          newConfigScript.id = id\n",
       "          newConfigScript.text = currentConfigScript.text\n",
       "          if (currentConfigScript.type) {\n",
       "            newConfigScript.type = currentConfigScript.type\n",
       "          }\n",
       "\n",
       "          iframeDocument.body.appendChild(newConfigScript)\n",
       "        }\n",
       "      }\n",
       "    }\n",
       "  }\n",
       "</script><script>\n",
       "  (() => {\n",
       "    const TITLE = 'Retentioneering Transition Graph Application'\n",
       "\n",
       "    const iframeDocument = document.implementation.createHTMLDocument(TITLE)\n",
       "\n",
       "    const h = tag => iframeDocument.createElement(tag)\n",
       "    const toHead = element => iframeDocument.head.appendChild(element)\n",
       "    const toBody = element => iframeDocument.body.appendChild(element)\n",
       "\n",
       "    iframeDocument.documentElement.lang = 'en'\n",
       "\n",
       "    try {\n",
       "      window.__RETE_HELPERS__.proxyNotebookEnv(iframeDocument, window.top.document)\n",
       "    } catch (error) {\n",
       "      console.warn('Can not proxy environment', error)\n",
       "    }\n",
       "\n",
       "    const metaCharset = h('meta')\n",
       "    metaCharset.setAttribute('charset', 'UTF-8')\n",
       "    toHead(metaCharset)\n",
       "\n",
       "    const metaViewport = h('meta')\n",
       "    metaViewport.name = 'viewport'\n",
       "    metaViewport.content = 'width=device-width, initial-scale=1.0, maximum-scale=1.0, user-scalable=no'\n",
       "    toHead(metaViewport)\n",
       "\n",
       "    const metaThemeColor = h('meta')\n",
       "    metaThemeColor.name = 'theme-color'\n",
       "    metaThemeColor.content = '#000000'\n",
       "    toHead(metaThemeColor)\n",
       "\n",
       "    const stateScript = h('script')\n",
       "    stateScript.id = 'rete-state-script'\n",
       "    stateScript.type = 'application/json'\n",
       "    stateScript.text = `{\"env\": {\"id\": \"classic\", \"serverId\": \"e6404ba0-1f18-4160-a8ff-22e294ba6bc1\", \"kernelId\": \"v3058ac3977f727fc383c573e6a013e6a6e55186f0\", \"kernelName\": \"\", \"libVersion\": \"3.3.0\"}, \"tracker\": {\"eventstreamIndex\": 7, \"scope\": \"transition_graph\", \"hwid\": \"73bff793-afb2-439d-97dd-2957ccb479c5\"}, \"nodes\": {\"normalizations\": [{\"id\": \"none\", \"name\": \"none\", \"type\": \"absolute\"}, {\"id\": \"full\", \"name\": \"full\", \"type\": \"relative\"}, {\"id\": \"node\", \"name\": \"node\", \"type\": \"relative\"}], \"selectedNormalizationId\": \"none\", \"items\": [{\"id\": \"SUR\", \"name\": \"SUR\", \"size\": {\"event_id\": 4.664710333122022, \"user_id\": 4.689095721970797}, \"weight\": {\"event_id\": 4334, \"user_id\": 4304}, \"children\": [], \"targetId\": \"suit_node\"}, {\"id\": \"retained\", \"name\": \"retained\", \"size\": {\"event_id\": 7.329533138381628, \"user_id\": 7.475738621808556}, \"weight\": {\"event_id\": 21709, \"user_id\": 21709}, \"children\": [], \"targetId\": \"suit_node\"}, {\"id\": \"not_retained\", \"name\": \"not_retained\", \"size\": {\"event_id\": 30.454520357456904, \"user_id\": 31.61618350268978}, \"weight\": {\"event_id\": 172487, \"user_id\": 172487}, \"children\": [], \"targetId\": \"suit_node\"}, {\"id\": \"NOM\", \"name\": \"NOM\", \"size\": {\"event_id\": 4.000153371096705, \"user_id\": 4.000160105883357}, \"weight\": {\"event_id\": 1, \"user_id\": 1}, \"children\": [], \"targetId\": \"suit_node\"}, {\"id\": \"VOL\", \"name\": \"VOL\", \"size\": {\"event_id\": 4.305515224637533, \"user_id\": 4.286429425326616}, \"weight\": {\"event_id\": 1992, \"user_id\": 1789}, \"children\": [], \"targetId\": \"suit_node\"}, {\"id\": \"SU\", \"name\": \"SU\", \"size\": {\"event_id\": 34.0, \"user_id\": 34.0}, \"weight\": {\"event_id\": 195604, \"user_id\": 187376}, \"children\": [], \"targetId\": \"suit_node\"}, {\"id\": \"adv\", \"name\": \"adv\", \"size\": {\"event_id\": 4.170241917343204, \"user_id\": 4.177717530526855}, \"weight\": {\"event_id\": 1110, \"user_id\": 1110}, \"children\": [], \"targetId\": \"suit_node\"}, {\"id\": \"EV\", \"name\": \"EV\", \"size\": {\"event_id\": 5.804410952741253, \"user_id\": 5.190707454529929}, \"weight\": {\"event_id\": 11765, \"user_id\": 7437}, \"children\": [], \"targetId\": \"suit_node\"}, {\"id\": \"TND\", \"name\": \"TND\", \"size\": {\"event_id\": 4.006134843868224, \"user_id\": 4.00448296473401}, \"weight\": {\"event_id\": 40, \"user_id\": 28}, \"children\": [], \"targetId\": \"suit_node\"}, {\"id\": \"ADV\", \"name\": \"ADV\", \"size\": {\"event_id\": 19.387875503568434, \"user_id\": 10.28095380411579}, \"weight\": {\"event_id\": 100331, \"user_id\": 39230}, \"children\": [], \"targetId\": \"suit_node\"}, {\"id\": \"CC\", \"name\": \"CC\", \"size\": {\"event_id\": 4.0788327437066725, \"user_id\": 4.081493894628982}, \"weight\": {\"event_id\": 514, \"user_id\": 509}, \"children\": [], \"targetId\": \"suit_node\"}, {\"id\": \"PET\", \"name\": \"PET\", \"size\": {\"event_id\": 16.33824461667451, \"user_id\": 13.220818034326701}, \"weight\": {\"event_id\": 80447, \"user_id\": 57592}, \"children\": [], \"targetId\": \"suit_node\"}, {\"id\": \"SMP\", \"name\": \"SMP\", \"size\": {\"event_id\": 4.004754503997873, \"user_id\": 4.004963282384083}, \"weight\": {\"event_id\": 31, \"user_id\": 31}, \"children\": [], \"targetId\": \"suit_node\"}, {\"id\": \"positive_target_retained\", \"name\": \"positive_target_retained\", \"size\": {\"event_id\": 7.329533138381628, \"user_id\": 7.475738621808556}, \"weight\": {\"event_id\": 21709, \"user_id\": 21709}, \"children\": [], \"targetId\": \"suit_node\"}, {\"id\": \"PLE\", \"name\": \"PLE\", \"size\": {\"event_id\": 4.0127298010265635, \"user_id\": 4.0132887883186745}, \"weight\": {\"event_id\": 83, \"user_id\": 83}, \"children\": [], \"targetId\": \"suit_node\"}, {\"id\": \"CMP\", \"name\": \"CMP\", \"size\": {\"event_id\": 4.4943150446821125, \"user_id\": 4.4308449321151055}, \"weight\": {\"event_id\": 3223, \"user_id\": 2691}, \"children\": [], \"targetId\": \"suit_node\"}], \"columns\": [{\"id\": \"event_id\", \"name\": \"event_id\"}, {\"id\": \"user_id\", \"name\": \"user_id\"}], \"threshold\": {\"user_id\": 0.0, \"event_id\": 0.0}, \"selectedThresholdColumnId\": \"user_id\", \"selectedWeightsColumnId\": \"user_id\", \"targets\": [{\"id\": \"nice_node\", \"name\": \"Positive\", \"ignoreThreshold\": true, \"edgeDirection\": \"in\", \"position\": \"top-right\"}, {\"id\": \"bad_node\", \"name\": \"Negative\", \"ignoreThreshold\": true, \"edgeDirection\": \"in\", \"position\": \"bottom-right\"}, {\"id\": \"source_node\", \"name\": \"Source\", \"ignoreThreshold\": false, \"edgeDirection\": \"both\", \"position\": \"top-left\"}], \"defaultColumnId\": \"event_id\", \"sortField\": \"name\", \"sortOrder\": \"asc\"}, \"edges\": {\"items\": [{\"id\": \"MHhb3ILP4ELSj_ijQHTZb\", \"sourceNodeId\": \"ADV\", \"targetNodeId\": \"ADV\", \"weight\": {\"event_id\": 42200, \"user_id\": 16317}, \"size\": {\"event_id\": 0.3, \"user_id\": 0.11}, \"aggregatedEdges\": []}, {\"id\": \"_RctnglbCN56S_jAa7dOC\", \"sourceNodeId\": \"ADV\", \"targetNodeId\": \"CC\", \"weight\": {\"event_id\": 99, \"user_id\": 98}, \"size\": {\"event_id\": 0.0, \"user_id\": 0.0}, \"aggregatedEdges\": []}, {\"id\": \"ad1Lu30aNzQSgrx0xZ0Rg\", \"sourceNodeId\": \"ADV\", \"targetNodeId\": \"CMP\", \"weight\": {\"event_id\": 23, \"user_id\": 23}, \"size\": {\"event_id\": 0.0, \"user_id\": 0.0}, \"aggregatedEdges\": []}, {\"id\": \"mWbfVnoQbJATDLHOXkmbL\", \"sourceNodeId\": \"ADV\", \"targetNodeId\": \"EV\", \"weight\": {\"event_id\": 1499, \"user_id\": 1185}, \"size\": {\"event_id\": 0.01, \"user_id\": 0.01}, \"aggregatedEdges\": []}, {\"id\": \"LA1cSOW_9bASYEWDD_Esf\", \"sourceNodeId\": \"ADV\", \"targetNodeId\": \"PET\", \"weight\": {\"event_id\": 14817, \"user_id\": 10918}, \"size\": {\"event_id\": 0.1, \"user_id\": 0.08}, \"aggregatedEdges\": []}, {\"id\": \"bPu80RJFgwNpovrolQ-qS\", \"sourceNodeId\": \"ADV\", \"targetNodeId\": \"PLE\", \"weight\": {\"event_id\": 16, \"user_id\": 16}, \"size\": {\"event_id\": 0.0, \"user_id\": 0.0}, \"aggregatedEdges\": []}, {\"id\": \"RsSVfcKRMyPfec9tvYLX4\", \"sourceNodeId\": \"ADV\", \"targetNodeId\": \"SMP\", \"weight\": {\"event_id\": 13, \"user_id\": 13}, \"size\": {\"event_id\": 0.0, \"user_id\": 0.0}, \"aggregatedEdges\": []}, {\"id\": \"Ky1K--LyXKOaUSF8V46j-\", \"sourceNodeId\": \"ADV\", \"targetNodeId\": \"SU\", \"weight\": {\"event_id\": 3343, \"user_id\": 3047}, \"size\": {\"event_id\": 0.02, \"user_id\": 0.02}, \"aggregatedEdges\": []}, {\"id\": \"oW0i8k3Wx43OYlBzqbQIe\", \"sourceNodeId\": \"ADV\", \"targetNodeId\": \"SUR\", \"weight\": {\"event_id\": 222, \"user_id\": 217}, \"size\": {\"event_id\": 0.0, \"user_id\": 0.0}, \"aggregatedEdges\": []}, {\"id\": \"8LjLUaDjcpxI7r4k9c-wH\", \"sourceNodeId\": \"ADV\", \"targetNodeId\": \"TND\", \"weight\": {\"event_id\": 1, \"user_id\": 1}, \"size\": {\"event_id\": 0.0, \"user_id\": 0.0}, \"aggregatedEdges\": []}, {\"id\": \"hA9ZyWj968iCuM5JGLR4k\", \"sourceNodeId\": \"ADV\", \"targetNodeId\": \"VOL\", \"weight\": {\"event_id\": 262, \"user_id\": 255}, \"size\": {\"event_id\": 0.0, \"user_id\": 0.0}, \"aggregatedEdges\": []}, {\"id\": \"oCHbHzag9WFBh3jNvLWZ8\", \"sourceNodeId\": \"ADV\", \"targetNodeId\": \"adv\", \"weight\": {\"event_id\": 452, \"user_id\": 452}, \"size\": {\"event_id\": 0.0, \"user_id\": 0.0}, \"aggregatedEdges\": []}, {\"id\": \"VQsohBpWkdvWmMRRqQoo6\", \"sourceNodeId\": \"ADV\", \"targetNodeId\": \"not_retained\", \"weight\": {\"event_id\": 7709, \"user_id\": 7709}, \"size\": {\"event_id\": 0.05, \"user_id\": 0.05}, \"aggregatedEdges\": []}, {\"id\": \"AVQROfnsJpDXSUuPB9hHM\", \"sourceNodeId\": \"ADV\", \"targetNodeId\": \"positive_target_retained\", \"weight\": {\"event_id\": 7570, \"user_id\": 7570}, \"size\": {\"event_id\": 0.05, \"user_id\": 0.05}, \"aggregatedEdges\": []}, {\"id\": \"_azMvy1-U4Ego_Syzui2G\", \"sourceNodeId\": \"CC\", \"targetNodeId\": \"ADV\", \"weight\": {\"event_id\": 323, \"user_id\": 322}, \"size\": {\"event_id\": 0.0, \"user_id\": 0.0}, \"aggregatedEdges\": []}, {\"id\": \"TBxm1g5VYvDTAfVV4tUV0\", \"sourceNodeId\": \"CC\", \"targetNodeId\": \"EV\", \"weight\": {\"event_id\": 19, \"user_id\": 19}, \"size\": {\"event_id\": 0.0, \"user_id\": 0.0}, \"aggregatedEdges\": []}, {\"id\": \"eA-31PUQsOC5i6AMojNQG\", \"sourceNodeId\": \"CC\", \"targetNodeId\": \"PET\", \"weight\": {\"event_id\": 35, \"user_id\": 35}, \"size\": {\"event_id\": 0.0, \"user_id\": 0.0}, \"aggregatedEdges\": []}, {\"id\": \"A0Mw7XOsdL9OOQ_H9S3IV\", \"sourceNodeId\": \"CC\", \"targetNodeId\": \"SU\", \"weight\": {\"event_id\": 35, \"user_id\": 35}, \"size\": {\"event_id\": 0.0, \"user_id\": 0.0}, \"aggregatedEdges\": []}, {\"id\": \"lOgZ1UX_0QAgkQexcZnZH\", \"sourceNodeId\": \"CC\", \"targetNodeId\": \"SUR\", \"weight\": {\"event_id\": 2, \"user_id\": 2}, \"size\": {\"event_id\": 0.0, \"user_id\": 0.0}, \"aggregatedEdges\": []}, {\"id\": \"k3i7dt1GgMG3YZOIbxcMr\", \"sourceNodeId\": \"CC\", \"targetNodeId\": \"VOL\", \"weight\": {\"event_id\": 6, \"user_id\": 6}, \"size\": {\"event_id\": 0.0, \"user_id\": 0.0}, \"aggregatedEdges\": []}, {\"id\": \"1N0FC_W3obYtbwXdL3Skr\", \"sourceNodeId\": \"CC\", \"targetNodeId\": \"not_retained\", \"weight\": {\"event_id\": 28, \"user_id\": 28}, \"size\": {\"event_id\": 0.0, \"user_id\": 0.0}, \"aggregatedEdges\": []}, {\"id\": \"mS-20VLlCSd1KgzP91ONY\", \"sourceNodeId\": \"CC\", \"targetNodeId\": \"positive_target_retained\", \"weight\": {\"event_id\": 39, \"user_id\": 39}, \"size\": {\"event_id\": 0.0, \"user_id\": 0.0}, \"aggregatedEdges\": []}, {\"id\": \"FBauB4bYxFT6OYzvKAEns\", \"sourceNodeId\": \"CMP\", \"targetNodeId\": \"ADV\", \"weight\": {\"event_id\": 14, \"user_id\": 14}, \"size\": {\"event_id\": 0.0, \"user_id\": 0.0}, \"aggregatedEdges\": []}, {\"id\": \"cRBG_nvaxDbSe51awEBgx\", \"sourceNodeId\": \"CMP\", \"targetNodeId\": \"CMP\", \"weight\": {\"event_id\": 513, \"user_id\": 501}, \"size\": {\"event_id\": 0.0, \"user_id\": 0.0}, \"aggregatedEdges\": []}, {\"id\": \"WOcpQa_wN3Sq0_TvMipJl\", \"sourceNodeId\": \"CMP\", \"targetNodeId\": \"EV\", \"weight\": {\"event_id\": 159, \"user_id\": 157}, \"size\": {\"event_id\": 0.0, \"user_id\": 0.0}, \"aggregatedEdges\": []}, {\"id\": \"YY0_28oeV7SOInFdmY2Hg\", \"sourceNodeId\": \"CMP\", \"targetNodeId\": \"PET\", \"weight\": {\"event_id\": 8, \"user_id\": 8}, \"size\": {\"event_id\": 0.0, \"user_id\": 0.0}, \"aggregatedEdges\": []}, {\"id\": \"CFqx96qama1jeGhOUofhA\", \"sourceNodeId\": \"CMP\", \"targetNodeId\": \"SU\", \"weight\": {\"event_id\": 39, \"user_id\": 39}, \"size\": {\"event_id\": 0.0, \"user_id\": 0.0}, \"aggregatedEdges\": []}, {\"id\": \"LqaKWcq114VWV_uZobNN2\", \"sourceNodeId\": \"CMP\", \"targetNodeId\": \"VOL\", \"weight\": {\"event_id\": 2, \"user_id\": 2}, \"size\": {\"event_id\": 0.0, \"user_id\": 0.0}, \"aggregatedEdges\": []}, {\"id\": \"bPCfdhyDgaGr8kp_oyxhy\", \"sourceNodeId\": \"CMP\", \"targetNodeId\": \"adv\", \"weight\": {\"event_id\": 1, \"user_id\": 1}, \"size\": {\"event_id\": 0.0, \"user_id\": 0.0}, \"aggregatedEdges\": []}, {\"id\": \"6KhY-faoQcU-BA5KhHB-B\", \"sourceNodeId\": \"CMP\", \"targetNodeId\": \"not_retained\", \"weight\": {\"event_id\": 1748, \"user_id\": 1748}, \"size\": {\"event_id\": 0.01, \"user_id\": 0.01}, \"aggregatedEdges\": []}, {\"id\": \"4PgMox9bU4PiEcp4lyuRw\", \"sourceNodeId\": \"CMP\", \"targetNodeId\": \"positive_target_retained\", \"weight\": {\"event_id\": 58, \"user_id\": 58}, \"size\": {\"event_id\": 0.0, \"user_id\": 0.0}, \"aggregatedEdges\": []}, {\"id\": \"GmX9cZPqXzt68LBi0oyqV\", \"sourceNodeId\": \"EV\", \"targetNodeId\": \"ADV\", \"weight\": {\"event_id\": 1835, \"user_id\": 1469}, \"size\": {\"event_id\": 0.01, \"user_id\": 0.01}, \"aggregatedEdges\": []}, {\"id\": \"1qzW-tZvtRg_zkdoUFCRv\", \"sourceNodeId\": \"EV\", \"targetNodeId\": \"CC\", \"weight\": {\"event_id\": 35, \"user_id\": 35}, \"size\": {\"event_id\": 0.0, \"user_id\": 0.0}, \"aggregatedEdges\": []}, {\"id\": \"01besxyxjPkKjLIkqSFrI\", \"sourceNodeId\": \"EV\", \"targetNodeId\": \"CMP\", \"weight\": {\"event_id\": 40, \"user_id\": 40}, \"size\": {\"event_id\": 0.0, \"user_id\": 0.0}, \"aggregatedEdges\": []}, {\"id\": \"T9HY7wwAgwjtJSYegNKgh\", \"sourceNodeId\": \"EV\", \"targetNodeId\": \"EV\", \"weight\": {\"event_id\": 2675, \"user_id\": 1854}, \"size\": {\"event_id\": 0.02, \"user_id\": 0.01}, \"aggregatedEdges\": []}, {\"id\": \"x0ZEs3hRobUVW3zsrEDrE\", \"sourceNodeId\": \"EV\", \"targetNodeId\": \"PET\", \"weight\": {\"event_id\": 970, \"user_id\": 919}, \"size\": {\"event_id\": 0.01, \"user_id\": 0.01}, \"aggregatedEdges\": []}, {\"id\": \"cq1aaJjVVfGNx8DsA14Ru\", \"sourceNodeId\": \"EV\", \"targetNodeId\": \"PLE\", \"weight\": {\"event_id\": 20, \"user_id\": 20}, \"size\": {\"event_id\": 0.0, \"user_id\": 0.0}, \"aggregatedEdges\": []}, {\"id\": \"sNNKD503IgaXVoFzJjEav\", \"sourceNodeId\": \"EV\", \"targetNodeId\": \"SMP\", \"weight\": {\"event_id\": 2, \"user_id\": 2}, \"size\": {\"event_id\": 0.0, \"user_id\": 0.0}, \"aggregatedEdges\": []}, {\"id\": \"pT3e-id0yo9cHjfSsbpo5\", \"sourceNodeId\": \"EV\", \"targetNodeId\": \"SU\", \"weight\": {\"event_id\": 984, \"user_id\": 934}, \"size\": {\"event_id\": 0.01, \"user_id\": 0.01}, \"aggregatedEdges\": []}, {\"id\": \"8s7LbCQDpgQt69nOZtpAb\", \"sourceNodeId\": \"EV\", \"targetNodeId\": \"SUR\", \"weight\": {\"event_id\": 141, \"user_id\": 138}, \"size\": {\"event_id\": 0.0, \"user_id\": 0.0}, \"aggregatedEdges\": []}, {\"id\": \"Xv99umszCRSxJSnLsqnbh\", \"sourceNodeId\": \"EV\", \"targetNodeId\": \"TND\", \"weight\": {\"event_id\": 25, \"user_id\": 25}, \"size\": {\"event_id\": 0.0, \"user_id\": 0.0}, \"aggregatedEdges\": []}, {\"id\": \"CeIkRehtPMr-M-GQTGIdq\", \"sourceNodeId\": \"EV\", \"targetNodeId\": \"VOL\", \"weight\": {\"event_id\": 242, \"user_id\": 221}, \"size\": {\"event_id\": 0.0, \"user_id\": 0.0}, \"aggregatedEdges\": []}, {\"id\": \"T3_1mrDyxYwz1jfAC1DCm\", \"sourceNodeId\": \"EV\", \"targetNodeId\": \"adv\", \"weight\": {\"event_id\": 31, \"user_id\": 31}, \"size\": {\"event_id\": 0.0, \"user_id\": 0.0}, \"aggregatedEdges\": []}, {\"id\": \"b9QZarB_e2rRlLlZgDXlo\", \"sourceNodeId\": \"EV\", \"targetNodeId\": \"not_retained\", \"weight\": {\"event_id\": 2796, \"user_id\": 2796}, \"size\": {\"event_id\": 0.02, \"user_id\": 0.02}, \"aggregatedEdges\": []}, {\"id\": \"1ze0BUI6Uc_debhPSgqPm\", \"sourceNodeId\": \"EV\", \"targetNodeId\": \"positive_target_retained\", \"weight\": {\"event_id\": 674, \"user_id\": 674}, \"size\": {\"event_id\": 0.0, \"user_id\": 0.0}, \"aggregatedEdges\": []}, {\"id\": \"eeMh2IMIS1dhbc226DiUX\", \"sourceNodeId\": \"NOM\", \"targetNodeId\": \"not_retained\", \"weight\": {\"event_id\": 1, \"user_id\": 1}, \"size\": {\"event_id\": 0.0, \"user_id\": 0.0}, \"aggregatedEdges\": []}, {\"id\": \"7F7iSUMVktQQszPCExaE_\", \"sourceNodeId\": \"PET\", \"targetNodeId\": \"ADV\", \"weight\": {\"event_id\": 20511, \"user_id\": 14982}, \"size\": {\"event_id\": 0.14, \"user_id\": 0.11}, \"aggregatedEdges\": []}, {\"id\": \"m1laGr5KgNA4G_0Rn4R6Z\", \"sourceNodeId\": \"PET\", \"targetNodeId\": \"CC\", \"weight\": {\"event_id\": 168, \"user_id\": 168}, \"size\": {\"event_id\": 0.0, \"user_id\": 0.0}, \"aggregatedEdges\": []}, {\"id\": \"fNz7rhNbx05q7oANkQwkY\", \"sourceNodeId\": \"PET\", \"targetNodeId\": \"CMP\", \"weight\": {\"event_id\": 17, \"user_id\": 17}, \"size\": {\"event_id\": 0.0, \"user_id\": 0.0}, \"aggregatedEdges\": []}, {\"id\": \"0dkXMoNSaeoraF-hX2_E7\", \"sourceNodeId\": \"PET\", \"targetNodeId\": \"EV\", \"weight\": {\"event_id\": 821, \"user_id\": 758}, \"size\": {\"event_id\": 0.01, \"user_id\": 0.01}, \"aggregatedEdges\": []}, {\"id\": \"bqSqLzzzXXUFfqKjNkSTh\", \"sourceNodeId\": \"PET\", \"targetNodeId\": \"PET\", \"weight\": {\"event_id\": 8184, \"user_id\": 6948}, \"size\": {\"event_id\": 0.06, \"user_id\": 0.05}, \"aggregatedEdges\": []}, {\"id\": \"uC_5Gr7tzHHBGnvnO2lHW\", \"sourceNodeId\": \"PET\", \"targetNodeId\": \"PLE\", \"weight\": {\"event_id\": 4, \"user_id\": 4}, \"size\": {\"event_id\": 0.0, \"user_id\": 0.0}, \"aggregatedEdges\": []}, {\"id\": \"KaL3dKpMTIA3Bm5zpLexa\", \"sourceNodeId\": \"PET\", \"targetNodeId\": \"SMP\", \"weight\": {\"event_id\": 4, \"user_id\": 4}, \"size\": {\"event_id\": 0.0, \"user_id\": 0.0}, \"aggregatedEdges\": []}, {\"id\": \"E_geF0x7WY0P_SEwsdWqU\", \"sourceNodeId\": \"PET\", \"targetNodeId\": \"SU\", \"weight\": {\"event_id\": 2942, \"user_id\": 2868}, \"size\": {\"event_id\": 0.02, \"user_id\": 0.02}, \"aggregatedEdges\": []}, {\"id\": \"OB605HiZ2PC-NHUY7zzhp\", \"sourceNodeId\": \"PET\", \"targetNodeId\": \"SUR\", \"weight\": {\"event_id\": 168, \"user_id\": 167}, \"size\": {\"event_id\": 0.0, \"user_id\": 0.0}, \"aggregatedEdges\": []}, {\"id\": \"I9un_WJlFcfRd5vnftTXK\", \"sourceNodeId\": \"PET\", \"targetNodeId\": \"VOL\", \"weight\": {\"event_id\": 141, \"user_id\": 141}, \"size\": {\"event_id\": 0.0, \"user_id\": 0.0}, \"aggregatedEdges\": []}, {\"id\": \"XP5NkliKKjUGbfiQZM40R\", \"sourceNodeId\": \"PET\", \"targetNodeId\": \"adv\", \"weight\": {\"event_id\": 257, \"user_id\": 257}, \"size\": {\"event_id\": 0.0, \"user_id\": 0.0}, \"aggregatedEdges\": []}, {\"id\": \"epV20qOi6D774gUcEmz97\", \"sourceNodeId\": \"PET\", \"targetNodeId\": \"not_retained\", \"weight\": {\"event_id\": 14374, \"user_id\": 14374}, \"size\": {\"event_id\": 0.1, \"user_id\": 0.1}, \"aggregatedEdges\": []}, {\"id\": \"8nnUnxJfJFHUnmGUVlLU9\", \"sourceNodeId\": \"PET\", \"targetNodeId\": \"positive_target_retained\", \"weight\": {\"event_id\": 9875, \"user_id\": 9875}, \"size\": {\"event_id\": 0.07, \"user_id\": 0.07}, \"aggregatedEdges\": []}, {\"id\": \"x5V0JAIWBM7vXZ7sY52ns\", \"sourceNodeId\": \"PLE\", \"targetNodeId\": \"ADV\", \"weight\": {\"event_id\": 5, \"user_id\": 5}, \"size\": {\"event_id\": 0.0, \"user_id\": 0.0}, \"aggregatedEdges\": []}, {\"id\": \"q-8nMnWQzwLYtHI6OHAIV\", \"sourceNodeId\": \"PLE\", \"targetNodeId\": \"EV\", \"weight\": {\"event_id\": 31, \"user_id\": 31}, \"size\": {\"event_id\": 0.0, \"user_id\": 0.0}, \"aggregatedEdges\": []}, {\"id\": \"urirRamBmZ-vtVtnaW2OX\", \"sourceNodeId\": \"PLE\", \"targetNodeId\": \"PET\", \"weight\": {\"event_id\": 1, \"user_id\": 1}, \"size\": {\"event_id\": 0.0, \"user_id\": 0.0}, \"aggregatedEdges\": []}, {\"id\": \"HNQTQjxIgHHMn_NFbzuvh\", \"sourceNodeId\": \"PLE\", \"targetNodeId\": \"SU\", \"weight\": {\"event_id\": 3, \"user_id\": 3}, \"size\": {\"event_id\": 0.0, \"user_id\": 0.0}, \"aggregatedEdges\": []}, {\"id\": \"JhvHh2FUIYT8tlzfL3fPL\", \"sourceNodeId\": \"PLE\", \"targetNodeId\": \"SUR\", \"weight\": {\"event_id\": 15, \"user_id\": 15}, \"size\": {\"event_id\": 0.0, \"user_id\": 0.0}, \"aggregatedEdges\": []}, {\"id\": \"m2i7os_lnI7KD_3uQOEHA\", \"sourceNodeId\": \"PLE\", \"targetNodeId\": \"VOL\", \"weight\": {\"event_id\": 15, \"user_id\": 15}, \"size\": {\"event_id\": 0.0, \"user_id\": 0.0}, \"aggregatedEdges\": []}, {\"id\": \"iKAivv8BgE4LEb81zRFeF\", \"sourceNodeId\": \"PLE\", \"targetNodeId\": \"not_retained\", \"weight\": {\"event_id\": 5, \"user_id\": 5}, \"size\": {\"event_id\": 0.0, \"user_id\": 0.0}, \"aggregatedEdges\": []}, {\"id\": \"FDaI7pV_N3jzaFLOzu6y_\", \"sourceNodeId\": \"PLE\", \"targetNodeId\": \"positive_target_retained\", \"weight\": {\"event_id\": 6, \"user_id\": 6}, \"size\": {\"event_id\": 0.0, \"user_id\": 0.0}, \"aggregatedEdges\": []}, {\"id\": \"6psiILhfqflV8Ppgiz5K8\", \"sourceNodeId\": \"SMP\", \"targetNodeId\": \"ADV\", \"weight\": {\"event_id\": 12, \"user_id\": 12}, \"size\": {\"event_id\": 0.0, \"user_id\": 0.0}, \"aggregatedEdges\": []}, {\"id\": \"Oh0qocFTv6jJL08NMKeT2\", \"sourceNodeId\": \"SMP\", \"targetNodeId\": \"EV\", \"weight\": {\"event_id\": 1, \"user_id\": 1}, \"size\": {\"event_id\": 0.0, \"user_id\": 0.0}, \"aggregatedEdges\": []}, {\"id\": \"g2VoQUOrMr7d32bF-ykS3\", \"sourceNodeId\": \"SMP\", \"targetNodeId\": \"PET\", \"weight\": {\"event_id\": 5, \"user_id\": 5}, \"size\": {\"event_id\": 0.0, \"user_id\": 0.0}, \"aggregatedEdges\": []}, {\"id\": \"bGuWKMXkRFR6NtQlmNwyK\", \"sourceNodeId\": \"SMP\", \"targetNodeId\": \"SU\", \"weight\": {\"event_id\": 2, \"user_id\": 2}, \"size\": {\"event_id\": 0.0, \"user_id\": 0.0}, \"aggregatedEdges\": []}, {\"id\": \"Sc2qwjyOBbtkr040_Dazc\", \"sourceNodeId\": \"SMP\", \"targetNodeId\": \"VOL\", \"weight\": {\"event_id\": 1, \"user_id\": 1}, \"size\": {\"event_id\": 0.0, \"user_id\": 0.0}, \"aggregatedEdges\": []}, {\"id\": \"wRVyoRA9BvgETWqYMse15\", \"sourceNodeId\": \"SMP\", \"targetNodeId\": \"not_retained\", \"weight\": {\"event_id\": 1, \"user_id\": 1}, \"size\": {\"event_id\": 0.0, \"user_id\": 0.0}, \"aggregatedEdges\": []}, {\"id\": \"UGFEEtrO5QnU1FFyS05iy\", \"sourceNodeId\": \"SMP\", \"targetNodeId\": \"positive_target_retained\", \"weight\": {\"event_id\": 5, \"user_id\": 5}, \"size\": {\"event_id\": 0.0, \"user_id\": 0.0}, \"aggregatedEdges\": []}, {\"id\": \"vOTkx2irjK9J737r3PIhH\", \"sourceNodeId\": \"SU\", \"targetNodeId\": \"ADV\", \"weight\": {\"event_id\": 4749, \"user_id\": 4441}, \"size\": {\"event_id\": 0.03, \"user_id\": 0.03}, \"aggregatedEdges\": []}, {\"id\": \"YG9Rzw3pUkb5_fm8_QJRF\", \"sourceNodeId\": \"SU\", \"targetNodeId\": \"CC\", \"weight\": {\"event_id\": 46, \"user_id\": 46}, \"size\": {\"event_id\": 0.0, \"user_id\": 0.0}, \"aggregatedEdges\": []}, {\"id\": \"_PB2ZxnhXFPgqxNCxSUY6\", \"sourceNodeId\": \"SU\", \"targetNodeId\": \"CMP\", \"weight\": {\"event_id\": 111, \"user_id\": 110}, \"size\": {\"event_id\": 0.0, \"user_id\": 0.0}, \"aggregatedEdges\": []}, {\"id\": \"UjPCYTZtUdsARXsxr2u5P\", \"sourceNodeId\": \"SU\", \"targetNodeId\": \"EV\", \"weight\": {\"event_id\": 1787, \"user_id\": 1705}, \"size\": {\"event_id\": 0.01, \"user_id\": 0.01}, \"aggregatedEdges\": []}, {\"id\": \"2OWNlgt53h-r0ZmaK_hYW\", \"sourceNodeId\": \"SU\", \"targetNodeId\": \"PET\", \"weight\": {\"event_id\": 7912, \"user_id\": 7775}, \"size\": {\"event_id\": 0.06, \"user_id\": 0.05}, \"aggregatedEdges\": []}, {\"id\": \"UdPaFAG3rXCq0RlSNUb77\", \"sourceNodeId\": \"SU\", \"targetNodeId\": \"PLE\", \"weight\": {\"event_id\": 3, \"user_id\": 3}, \"size\": {\"event_id\": 0.0, \"user_id\": 0.0}, \"aggregatedEdges\": []}, {\"id\": \"5QznjNMxKCeGWmTUM_qGt\", \"sourceNodeId\": \"SU\", \"targetNodeId\": \"SMP\", \"weight\": {\"event_id\": 1, \"user_id\": 1}, \"size\": {\"event_id\": 0.0, \"user_id\": 0.0}, \"aggregatedEdges\": []}, {\"id\": \"2LUOaLac4xeOcdFrH2vn9\", \"sourceNodeId\": \"SU\", \"targetNodeId\": \"SU\", \"weight\": {\"event_id\": 6325, \"user_id\": 5899}, \"size\": {\"event_id\": 0.04, \"user_id\": 0.04}, \"aggregatedEdges\": []}, {\"id\": \"Wo27ylrw6MKMJdJh5Dshh\", \"sourceNodeId\": \"SU\", \"targetNodeId\": \"SUR\", \"weight\": {\"event_id\": 398, \"user_id\": 398}, \"size\": {\"event_id\": 0.0, \"user_id\": 0.0}, \"aggregatedEdges\": []}, {\"id\": \"GcIfWwo5leOj9omniTNkf\", \"sourceNodeId\": \"SU\", \"targetNodeId\": \"TND\", \"weight\": {\"event_id\": 1, \"user_id\": 1}, \"size\": {\"event_id\": 0.0, \"user_id\": 0.0}, \"aggregatedEdges\": []}, {\"id\": \"Jbp3YLPXyfLUvZaOqyni2\", \"sourceNodeId\": \"SU\", \"targetNodeId\": \"VOL\", \"weight\": {\"event_id\": 445, \"user_id\": 445}, \"size\": {\"event_id\": 0.0, \"user_id\": 0.0}, \"aggregatedEdges\": []}, {\"id\": \"OXSM0Z_tMGJkgqWQoCL3N\", \"sourceNodeId\": \"SU\", \"targetNodeId\": \"adv\", \"weight\": {\"event_id\": 83, \"user_id\": 83}, \"size\": {\"event_id\": 0.0, \"user_id\": 0.0}, \"aggregatedEdges\": []}, {\"id\": \"tVMks-JaGuy1Hqhi9eYeo\", \"sourceNodeId\": \"SU\", \"targetNodeId\": \"not_retained\", \"weight\": {\"event_id\": 141919, \"user_id\": 141919}, \"size\": {\"event_id\": 1.0, \"user_id\": 1.0}, \"aggregatedEdges\": []}, {\"id\": \"wt2Oxg-5NShkbmVdGX7Ck\", \"sourceNodeId\": \"SU\", \"targetNodeId\": \"positive_target_retained\", \"weight\": {\"event_id\": 3148, \"user_id\": 3148}, \"size\": {\"event_id\": 0.02, \"user_id\": 0.02}, \"aggregatedEdges\": []}, {\"id\": \"3KCcaoU-bV2IyY6i3_6Xw\", \"sourceNodeId\": \"SUR\", \"targetNodeId\": \"ADV\", \"weight\": {\"event_id\": 413, \"user_id\": 411}, \"size\": {\"event_id\": 0.0, \"user_id\": 0.0}, \"aggregatedEdges\": []}, {\"id\": \"qe2Xb2Tr4ys5a8QBvinwj\", \"sourceNodeId\": \"SUR\", \"targetNodeId\": \"CC\", \"weight\": {\"event_id\": 1, \"user_id\": 1}, \"size\": {\"event_id\": 0.0, \"user_id\": 0.0}, \"aggregatedEdges\": []}, {\"id\": \"w4rY_TVFO0tOoORWwgMBM\", \"sourceNodeId\": \"SUR\", \"targetNodeId\": \"CMP\", \"weight\": {\"event_id\": 3, \"user_id\": 3}, \"size\": {\"event_id\": 0.0, \"user_id\": 0.0}, \"aggregatedEdges\": []}, {\"id\": \"osSGuxc2tCcIlid2-4RWa\", \"sourceNodeId\": \"SUR\", \"targetNodeId\": \"EV\", \"weight\": {\"event_id\": 55, \"user_id\": 53}, \"size\": {\"event_id\": 0.0, \"user_id\": 0.0}, \"aggregatedEdges\": []}, {\"id\": \"BzsPVnoXUrhmz4Vez2otx\", \"sourceNodeId\": \"SUR\", \"targetNodeId\": \"PET\", \"weight\": {\"event_id\": 294, \"user_id\": 293}, \"size\": {\"event_id\": 0.0, \"user_id\": 0.0}, \"aggregatedEdges\": []}, {\"id\": \"Huwwfm4lSZjCewRT9R3ts\", \"sourceNodeId\": \"SUR\", \"targetNodeId\": \"PLE\", \"weight\": {\"event_id\": 25, \"user_id\": 25}, \"size\": {\"event_id\": 0.0, \"user_id\": 0.0}, \"aggregatedEdges\": []}, {\"id\": \"uQUChK8MmDhNa5p40n0Hc\", \"sourceNodeId\": \"SUR\", \"targetNodeId\": \"SU\", \"weight\": {\"event_id\": 55, \"user_id\": 54}, \"size\": {\"event_id\": 0.0, \"user_id\": 0.0}, \"aggregatedEdges\": []}, {\"id\": \"8lYGXCfa0nPR0-z6cnpzY\", \"sourceNodeId\": \"SUR\", \"targetNodeId\": \"SUR\", \"weight\": {\"event_id\": 10, \"user_id\": 10}, \"size\": {\"event_id\": 0.0, \"user_id\": 0.0}, \"aggregatedEdges\": []}, {\"id\": \"ibBMuNsPZu134iLzukalR\", \"sourceNodeId\": \"SUR\", \"targetNodeId\": \"VOL\", \"weight\": {\"event_id\": 46, \"user_id\": 46}, \"size\": {\"event_id\": 0.0, \"user_id\": 0.0}, \"aggregatedEdges\": []}, {\"id\": \"3uG3-Fw77478u99QeJqwN\", \"sourceNodeId\": \"SUR\", \"targetNodeId\": \"adv\", \"weight\": {\"event_id\": 8, \"user_id\": 8}, \"size\": {\"event_id\": 0.0, \"user_id\": 0.0}, \"aggregatedEdges\": []}, {\"id\": \"2nG-P4vrMwoB2MKUJny33\", \"sourceNodeId\": \"SUR\", \"targetNodeId\": \"not_retained\", \"weight\": {\"event_id\": 3262, \"user_id\": 3262}, \"size\": {\"event_id\": 0.02, \"user_id\": 0.02}, \"aggregatedEdges\": []}, {\"id\": \"FH3IBFS1oRtgG5L40ca1n\", \"sourceNodeId\": \"SUR\", \"targetNodeId\": \"positive_target_retained\", \"weight\": {\"event_id\": 37, \"user_id\": 37}, \"size\": {\"event_id\": 0.0, \"user_id\": 0.0}, \"aggregatedEdges\": []}, {\"id\": \"fYTMHo46hCGIn66OwdXNM\", \"sourceNodeId\": \"TND\", \"targetNodeId\": \"ADV\", \"weight\": {\"event_id\": 3, \"user_id\": 3}, \"size\": {\"event_id\": 0.0, \"user_id\": 0.0}, \"aggregatedEdges\": []}, {\"id\": \"pHusqjPgmRMOOE_r7Kgeq\", \"sourceNodeId\": \"TND\", \"targetNodeId\": \"EV\", \"weight\": {\"event_id\": 1, \"user_id\": 1}, \"size\": {\"event_id\": 0.0, \"user_id\": 0.0}, \"aggregatedEdges\": []}, {\"id\": \"gz2WmYB2runAL19p49qWw\", \"sourceNodeId\": \"TND\", \"targetNodeId\": \"PET\", \"weight\": {\"event_id\": 4, \"user_id\": 4}, \"size\": {\"event_id\": 0.0, \"user_id\": 0.0}, \"aggregatedEdges\": []}, {\"id\": \"pEM81py80UkoFSSEXWazu\", \"sourceNodeId\": \"TND\", \"targetNodeId\": \"TND\", \"weight\": {\"event_id\": 12, \"user_id\": 11}, \"size\": {\"event_id\": 0.0, \"user_id\": 0.0}, \"aggregatedEdges\": []}, {\"id\": \"Obqdv0b9JZ-Gy74sOHUTd\", \"sourceNodeId\": \"VOL\", \"targetNodeId\": \"ADV\", \"weight\": {\"event_id\": 356, \"user_id\": 346}, \"size\": {\"event_id\": 0.0, \"user_id\": 0.0}, \"aggregatedEdges\": []}, {\"id\": \"oS3GNZx6QT8E0lFQ3cuG6\", \"sourceNodeId\": \"VOL\", \"targetNodeId\": \"EV\", \"weight\": {\"event_id\": 243, \"user_id\": 230}, \"size\": {\"event_id\": 0.0, \"user_id\": 0.0}, \"aggregatedEdges\": []}, {\"id\": \"7Ok8cmKgdv7ZLXKP--_3b\", \"sourceNodeId\": \"VOL\", \"targetNodeId\": \"PET\", \"weight\": {\"event_id\": 171, \"user_id\": 169}, \"size\": {\"event_id\": 0.0, \"user_id\": 0.0}, \"aggregatedEdges\": []}, {\"id\": \"eLeYjJ3GC4B_53t5-qQOE\", \"sourceNodeId\": \"VOL\", \"targetNodeId\": \"PLE\", \"weight\": {\"event_id\": 5, \"user_id\": 5}, \"size\": {\"event_id\": 0.0, \"user_id\": 0.0}, \"aggregatedEdges\": []}, {\"id\": \"69-TqasJlwODPmV3ns9UV\", \"sourceNodeId\": \"VOL\", \"targetNodeId\": \"SMP\", \"weight\": {\"event_id\": 1, \"user_id\": 1}, \"size\": {\"event_id\": 0.0, \"user_id\": 0.0}, \"aggregatedEdges\": []}, {\"id\": \"rSagimPLV-4rHD2HPQibR\", \"sourceNodeId\": \"VOL\", \"targetNodeId\": \"SU\", \"weight\": {\"event_id\": 123, \"user_id\": 122}, \"size\": {\"event_id\": 0.0, \"user_id\": 0.0}, \"aggregatedEdges\": []}, {\"id\": \"jjrgDgc06wysl7pWILkva\", \"sourceNodeId\": \"VOL\", \"targetNodeId\": \"SUR\", \"weight\": {\"event_id\": 26, \"user_id\": 26}, \"size\": {\"event_id\": 0.0, \"user_id\": 0.0}, \"aggregatedEdges\": []}, {\"id\": \"SCapgACvvBxAFwTLooZJ2\", \"sourceNodeId\": \"VOL\", \"targetNodeId\": \"VOL\", \"weight\": {\"event_id\": 96, \"user_id\": 63}, \"size\": {\"event_id\": 0.0, \"user_id\": 0.0}, \"aggregatedEdges\": []}, {\"id\": \"MFGkPAMO4J85qKwEpdxBM\", \"sourceNodeId\": \"VOL\", \"targetNodeId\": \"adv\", \"weight\": {\"event_id\": 1, \"user_id\": 1}, \"size\": {\"event_id\": 0.0, \"user_id\": 0.0}, \"aggregatedEdges\": []}, {\"id\": \"36BMZCOaq5JCITymQkvXW\", \"sourceNodeId\": \"VOL\", \"targetNodeId\": \"not_retained\", \"weight\": {\"event_id\": 644, \"user_id\": 644}, \"size\": {\"event_id\": 0.0, \"user_id\": 0.0}, \"aggregatedEdges\": []}, {\"id\": \"QEfb0hty0pRVa1RSzh4mL\", \"sourceNodeId\": \"VOL\", \"targetNodeId\": \"positive_target_retained\", \"weight\": {\"event_id\": 103, \"user_id\": 103}, \"size\": {\"event_id\": 0.0, \"user_id\": 0.0}, \"aggregatedEdges\": []}, {\"id\": \"D9HQAAN0Rg9lD_jHfQ-YG\", \"sourceNodeId\": \"adv\", \"targetNodeId\": \"ADV\", \"weight\": {\"event_id\": 446, \"user_id\": 446}, \"size\": {\"event_id\": 0.0, \"user_id\": 0.0}, \"aggregatedEdges\": []}, {\"id\": \"I6yhnomCL44Y284f5snWG\", \"sourceNodeId\": \"adv\", \"targetNodeId\": \"EV\", \"weight\": {\"event_id\": 13, \"user_id\": 13}, \"size\": {\"event_id\": 0.0, \"user_id\": 0.0}, \"aggregatedEdges\": []}, {\"id\": \"Y-YxRIHPaGNb0Zc2FLfPU\", \"sourceNodeId\": \"adv\", \"targetNodeId\": \"PET\", \"weight\": {\"event_id\": 256, \"user_id\": 256}, \"size\": {\"event_id\": 0.0, \"user_id\": 0.0}, \"aggregatedEdges\": []}, {\"id\": \"nyV7BkcLhpuaFLA03S9UM\", \"sourceNodeId\": \"adv\", \"targetNodeId\": \"SMP\", \"weight\": {\"event_id\": 2, \"user_id\": 2}, \"size\": {\"event_id\": 0.0, \"user_id\": 0.0}, \"aggregatedEdges\": []}, {\"id\": \"qRRNHwZEYUOfstFLWznXT\", \"sourceNodeId\": \"adv\", \"targetNodeId\": \"SU\", \"weight\": {\"event_id\": 16, \"user_id\": 16}, \"size\": {\"event_id\": 0.0, \"user_id\": 0.0}, \"aggregatedEdges\": []}, {\"id\": \"bQoA7qOXlXevgkpmnCgvG\", \"sourceNodeId\": \"adv\", \"targetNodeId\": \"SUR\", \"weight\": {\"event_id\": 3, \"user_id\": 3}, \"size\": {\"event_id\": 0.0, \"user_id\": 0.0}, \"aggregatedEdges\": []}, {\"id\": \"vZszcf2KgW-HCIe3eU61z\", \"sourceNodeId\": \"adv\", \"targetNodeId\": \"VOL\", \"weight\": {\"event_id\": 7, \"user_id\": 7}, \"size\": {\"event_id\": 0.0, \"user_id\": 0.0}, \"aggregatedEdges\": []}, {\"id\": \"m8i2D3bvAxbCD3JodO6oE\", \"sourceNodeId\": \"adv\", \"targetNodeId\": \"positive_target_retained\", \"weight\": {\"event_id\": 194, \"user_id\": 194}, \"size\": {\"event_id\": 0.0, \"user_id\": 0.0}, \"aggregatedEdges\": []}, {\"id\": \"0m4GbSe59VriaD3DZSJiS\", \"sourceNodeId\": \"positive_target_retained\", \"targetNodeId\": \"retained\", \"weight\": {\"event_id\": 21709, \"user_id\": 21709}, \"size\": {\"event_id\": 0.15, \"user_id\": 0.15}, \"aggregatedEdges\": []}, {\"id\": \"9MGlD_L3idOCZexkV_6J8\", \"sourceNodeId\": \"retained\", \"targetNodeId\": \"ADV\", \"weight\": {\"event_id\": 7732, \"user_id\": 7732}, \"size\": {\"event_id\": 0.05, \"user_id\": 0.05}, \"aggregatedEdges\": []}, {\"id\": \"DGJQG2Ux70HTL_-_LByTM\", \"sourceNodeId\": \"retained\", \"targetNodeId\": \"CC\", \"weight\": {\"event_id\": 9, \"user_id\": 9}, \"size\": {\"event_id\": 0.0, \"user_id\": 0.0}, \"aggregatedEdges\": []}, {\"id\": \"SAIm1cBIhoLZhLuI3c0EO\", \"sourceNodeId\": \"retained\", \"targetNodeId\": \"CMP\", \"weight\": {\"event_id\": 7, \"user_id\": 7}, \"size\": {\"event_id\": 0.0, \"user_id\": 0.0}, \"aggregatedEdges\": []}, {\"id\": \"mtb7_M8PZvWUCU0OgxpFr\", \"sourceNodeId\": \"retained\", \"targetNodeId\": \"EV\", \"weight\": {\"event_id\": 404, \"user_id\": 404}, \"size\": {\"event_id\": 0.0, \"user_id\": 0.0}, \"aggregatedEdges\": []}, {\"id\": \"rez3g6Vm_gMvs-iGldLnY\", \"sourceNodeId\": \"retained\", \"targetNodeId\": \"PET\", \"weight\": {\"event_id\": 3991, \"user_id\": 3991}, \"size\": {\"event_id\": 0.03, \"user_id\": 0.03}, \"aggregatedEdges\": []}, {\"id\": \"4Z4jXD1KZI5ldoJyY6QCt\", \"sourceNodeId\": \"retained\", \"targetNodeId\": \"PLE\", \"weight\": {\"event_id\": 2, \"user_id\": 2}, \"size\": {\"event_id\": 0.0, \"user_id\": 0.0}, \"aggregatedEdges\": []}, {\"id\": \"4ASEfimt9wDtauS-dCipG\", \"sourceNodeId\": \"retained\", \"targetNodeId\": \"SMP\", \"weight\": {\"event_id\": 3, \"user_id\": 3}, \"size\": {\"event_id\": 0.0, \"user_id\": 0.0}, \"aggregatedEdges\": []}, {\"id\": \"h-yuK5yZLHkpCESpzkNPl\", \"sourceNodeId\": \"retained\", \"targetNodeId\": \"SU\", \"weight\": {\"event_id\": 502, \"user_id\": 502}, \"size\": {\"event_id\": 0.0, \"user_id\": 0.0}, \"aggregatedEdges\": []}, {\"id\": \"Aj4jPoS6SkRL390kFgh38\", \"sourceNodeId\": \"retained\", \"targetNodeId\": \"SUR\", \"weight\": {\"event_id\": 30, \"user_id\": 30}, \"size\": {\"event_id\": 0.0, \"user_id\": 0.0}, \"aggregatedEdges\": []}, {\"id\": \"uSPg7E-Xp-Knb92dNn0cO\", \"sourceNodeId\": \"retained\", \"targetNodeId\": \"VOL\", \"weight\": {\"event_id\": 72, \"user_id\": 72}, \"size\": {\"event_id\": 0.0, \"user_id\": 0.0}, \"aggregatedEdges\": []}, {\"id\": \"8S8lNWO3g1hMMwnYj8jG4\", \"sourceNodeId\": \"retained\", \"targetNodeId\": \"adv\", \"weight\": {\"event_id\": 142, \"user_id\": 142}, \"size\": {\"event_id\": 0.0, \"user_id\": 0.0}, \"aggregatedEdges\": []}], \"normalizations\": [{\"id\": \"none\", \"name\": \"none\", \"type\": \"absolute\"}, {\"id\": \"full\", \"name\": \"full\", \"type\": \"relative\"}, {\"id\": \"node\", \"name\": \"node\", \"type\": \"relative\"}], \"selectedNormalizationId\": \"none\", \"columns\": [{\"id\": \"event_id\", \"name\": \"event_id\"}, {\"id\": \"user_id\", \"name\": \"user_id\"}], \"threshold\": {\"user_id\": 0.0, \"event_id\": 0.0}, \"selectedThresholdColumnId\": \"user_id\", \"selectedWeightsColumnId\": \"user_id\"}, \"settings\": {\"showEdgesWeightsOnCanvas\": true, \"convertWeightsToPercents\": false, \"doNotFilterTargetNodes\": true, \"showEdgesInfoOnHover\": true, \"showNodesNamesOnCanvas\": true, \"showNodesWithoutEdges\": false, \"openSidebarByDefault\": true}, \"recalculationChanges\": {\"disabledNodes\": [], \"nodesAggregation\": [], \"edgesAggregation\": []}, \"stateChanges\": {\"disabledNodes\": [], \"nodesAggregation\": [], \"edgesAggregation\": []}, \"useLayoutDump\": false}`\n",
       "    toHead(stateScript)\n",
       "\n",
       "    const noScript = h('noscript')\n",
       "    noScript.innerText = 'You need to enable JavaScript to run this app.'\n",
       "    toBody(noScript)\n",
       "\n",
       "    const appRoot = h('div')\n",
       "    appRoot.id = 'root'\n",
       "    toBody(appRoot)\n",
       "\n",
       "    const appScript = h('script')\n",
       "    appScript.id = 'rete-app-script'\n",
       "    appScript.src = `https://static.server.retentioneering.com/package/@rete/transition-graph/version/2/dist/transition-graph.umd.js?id=el3PQRI5`\n",
       "    toBody(appScript)\n",
       "\n",
       "    const iframeElement = document.getElementById('iframe-el3PQRI5')\n",
       "\n",
       "    if (iframeElement) {\n",
       "      iframeElement.title = TITLE\n",
       "\n",
       "      const iframeContentDocument = iframeElement.contentDocument;\n",
       "      iframeContentDocument.open()\n",
       "      iframeContentDocument.write('<!DOCTYPE html>' + iframeDocument.documentElement.outerHTML)\n",
       "      iframeContentDocument.close();\n",
       "    }\n",
       "  })()\n",
       "</script>"
      ],
      "text/plain": [
       "<IPython.core.display.HTML object>"
      ]
     },
     "metadata": {},
     "output_type": "display_data"
    },
    {
     "data": {
      "text/plain": [
       "<retentioneering.tooling.transition_graph.transition_graph.TransitionGraph at 0x7f8dfb343a10>"
      ]
     },
     "execution_count": 6,
     "metadata": {},
     "output_type": "execute_result"
    }
   ],
   "source": [
    "# Get labeled eventstream (with positive_target and negative_target events)\n",
    "labeled_stream = result['eventstream_with_labels']\n",
    "\n",
    "# Add boundaries for visualization\n",
    "# viz_stream = labeled_stream.add_start_end_events()\n",
    "viz_stream = labeled_stream\n",
    "\n",
    "print(\"Creating transition graph with retention labels...\")\n",
    "\n",
    "# Create transition graph\n",
    "transition_graph = viz_stream.transition_graph(\n",
    "    width=1000,\n",
    "    height=600\n",
    ")\n",
    "\n",
    "transition_graph"
   ]
  },
  {
   "cell_type": "code",
   "execution_count": null,
   "metadata": {},
   "outputs": [
    {
     "name": "stdout",
     "output_type": "stream",
     "text": [
      "Creating step matrix...\n"
     ]
    },
    {
     "name": "stderr",
     "output_type": "stream",
     "text": [
      "2025-07-14 13:47:13,139 - urllib3.connectionpool - DEBUG - _make_request:544 - https://ftrack-1.server.retentioneering.com:443 \"POST /endpoint/event HTTP/1.1\" 204 0\n",
      "2025-07-14 13:47:13,139 - urllib3.connectionpool - DEBUG - _make_request:544 - https://ftrack-1.server.retentioneering.com:443 \"POST /endpoint/event HTTP/1.1\" 204 0\n",
      "2025-07-14 13:47:13,147 - urllib3.connectionpool - DEBUG - _make_request:544 - https://ftrack-1.server.retentioneering.com:443 \"POST /endpoint/event HTTP/1.1\" 204 0\n",
      "2025-07-14 13:47:13,155 - urllib3.connectionpool - DEBUG - _make_request:544 - https://ftrack-1.server.retentioneering.com:443 \"POST /endpoint/event HTTP/1.1\" 204 0\n",
      "2025-07-14 13:47:13,155 - urllib3.connectionpool - DEBUG - _make_request:544 - https://ftrack-1.server.retentioneering.com:443 \"POST /endpoint/event HTTP/1.1\" 204 0\n",
      "2025-07-14 13:47:13,155 - urllib3.connectionpool - DEBUG - _make_request:544 - https://ftrack-1.server.retentioneering.com:443 \"POST /endpoint/event HTTP/1.1\" 204 0\n",
      "2025-07-14 13:47:13,215 - urllib3.connectionpool - DEBUG - _make_request:544 - https://ftrack-1.server.retentioneering.com:443 \"POST /endpoint/event HTTP/1.1\" 204 0\n",
      "2025-07-14 13:47:13,217 - urllib3.connectionpool - DEBUG - _make_request:544 - https://ftrack-1.server.retentioneering.com:443 \"POST /endpoint/event HTTP/1.1\" 204 0\n"
     ]
    },
    {
     "data": {
      "text/plain": [
       "<retentioneering.tooling.step_matrix.step_matrix.StepMatrix at 0x7f8e18fbc990>"
      ]
     },
     "execution_count": 10,
     "metadata": {},
     "output_type": "execute_result"
    },
    {
     "name": "stderr",
     "output_type": "stream",
     "text": [
      "2025-07-14 13:47:14,033 - urllib3.connectionpool - DEBUG - _make_request:544 - https://ftrack-1.server.retentioneering.com:443 \"POST /endpoint/event HTTP/1.1\" 204 0\n",
      "2025-07-14 13:47:14,034 - urllib3.connectionpool - DEBUG - _make_request:544 - https://ftrack-1.server.retentioneering.com:443 \"POST /endpoint/event HTTP/1.1\" 204 0\n",
      "2025-07-14 13:47:14,034 - urllib3.connectionpool - DEBUG - _make_request:544 - https://ftrack-1.server.retentioneering.com:443 \"POST /endpoint/event HTTP/1.1\" 204 0\n",
      "2025-07-14 13:47:14,036 - urllib3.connectionpool - DEBUG - _make_request:544 - https://ftrack-1.server.retentioneering.com:443 \"POST /endpoint/event HTTP/1.1\" 204 0\n"
     ]
    },
    {
     "data": {
      "image/png": "[encoded data removed]",
      "text/plain": [
       "<Figure size 288x504 with 2 Axes>"
      ]
     },
     "metadata": {
      "needs_background": "light"
     },
     "output_type": "display_data"
    },
    {
     "name": "stderr",
     "output_type": "stream",
     "text": [
      "2025-07-14 13:47:14,276 - urllib3.connectionpool - DEBUG - _make_request:544 - https://ftrack-1.server.retentioneering.com:443 \"POST /endpoint/event HTTP/1.1\" 204 0\n",
      "2025-07-14 13:47:14,278 - urllib3.connectionpool - DEBUG - _make_request:544 - https://ftrack-1.server.retentioneering.com:443 \"POST /endpoint/event HTTP/1.1\" 204 0\n"
     ]
    }
   ],
   "source": [
    "# Create step matrix\n",
    "print(\"Creating step matrix...\")\n",
    "\n",
    "step_matrix = viz_stream.step_matrix(\n",
    "    max_steps=5,\n",
    "    targets=['positive_target_retained']\n",
    ")\n",
    "\n",
    "step_matrix"
   ]
  },
  {
   "cell_type": "code",
   "execution_count": 11,
   "metadata": {},
   "outputs": [
    {
     "name": "stdout",
     "output_type": "stream",
     "text": [
      "Creating cohort analysis...\n"
     ]
    },
    {
     "name": "stderr",
     "output_type": "stream",
     "text": [
      "2025-07-14 13:47:37,210 - urllib3.connectionpool - DEBUG - _make_request:544 - https://ftrack-1.server.retentioneering.com:443 \"POST /endpoint/event HTTP/1.1\" 204 0\n",
      "2025-07-14 13:47:37,222 - urllib3.connectionpool - DEBUG - _make_request:544 - https://ftrack-1.server.retentioneering.com:443 \"POST /endpoint/event HTTP/1.1\" 204 0\n",
      "2025-07-14 13:47:37,222 - urllib3.connectionpool - DEBUG - _make_request:544 - https://ftrack-1.server.retentioneering.com:443 \"POST /endpoint/event HTTP/1.1\" 204 0\n",
      "2025-07-14 13:47:37,223 - urllib3.connectionpool - DEBUG - _make_request:544 - https://ftrack-1.server.retentioneering.com:443 \"POST /endpoint/event HTTP/1.1\" 204 0\n",
      "2025-07-14 13:47:37,223 - urllib3.connectionpool - DEBUG - _make_request:544 - https://ftrack-1.server.retentioneering.com:443 \"POST /endpoint/event HTTP/1.1\" 204 0\n",
      "2025-07-14 13:47:37,223 - urllib3.connectionpool - DEBUG - _make_request:544 - https://ftrack-1.server.retentioneering.com:443 \"POST /endpoint/event HTTP/1.1\" 204 0\n",
      "2025-07-14 13:47:37,296 - urllib3.connectionpool - DEBUG - _make_request:544 - https://ftrack-1.server.retentioneering.com:443 \"POST /endpoint/event HTTP/1.1\" 204 0\n",
      "2025-07-14 13:47:37,296 - urllib3.connectionpool - DEBUG - _make_request:544 - https://ftrack-1.server.retentioneering.com:443 \"POST /endpoint/event HTTP/1.1\" 204 0\n",
      "2025-07-14 13:47:37,393 - matplotlib.colorbar - DEBUG - _get_ticker_locator_formatter:876 - locator: <matplotlib.ticker.AutoLocator object at 0x7f8dfa9d6ad0>\n"
     ]
    },
    {
     "data": {
      "text/plain": [
       "<retentioneering.tooling.cohorts.cohorts.Cohorts at 0x7f8dff415f10>"
      ]
     },
     "execution_count": 11,
     "metadata": {},
     "output_type": "execute_result"
    },
    {
     "data": {
      "image/png": "[encoded data removed]",
      "text/plain": [
       "<Figure size 360x360 with 2 Axes>"
      ]
     },
     "metadata": {
      "needs_background": "light"
     },
     "output_type": "display_data"
    },
    {
     "name": "stderr",
     "output_type": "stream",
     "text": [
      "2025-07-14 13:47:37,625 - urllib3.connectionpool - DEBUG - _make_request:544 - https://ftrack-1.server.retentioneering.com:443 \"POST /endpoint/event HTTP/1.1\" 204 0\n",
      "2025-07-14 13:47:37,627 - urllib3.connectionpool - DEBUG - _make_request:544 - https://ftrack-1.server.retentioneering.com:443 \"POST /endpoint/event HTTP/1.1\" 204 0\n",
      "2025-07-14 13:47:37,635 - urllib3.connectionpool - DEBUG - _make_request:544 - https://ftrack-1.server.retentioneering.com:443 \"POST /endpoint/event HTTP/1.1\" 204 0\n",
      "2025-07-14 13:47:37,705 - urllib3.connectionpool - DEBUG - _make_request:544 - https://ftrack-1.server.retentioneering.com:443 \"POST /endpoint/event HTTP/1.1\" 204 0\n",
      "2025-07-14 13:47:37,707 - urllib3.connectionpool - DEBUG - _make_request:544 - https://ftrack-1.server.retentioneering.com:443 \"POST /endpoint/event HTTP/1.1\" 204 0\n",
      "2025-07-14 13:47:37,708 - urllib3.connectionpool - DEBUG - _make_request:544 - https://ftrack-1.server.retentioneering.com:443 \"POST /endpoint/event HTTP/1.1\" 204 0\n"
     ]
    }
   ],
   "source": [
    "# Create cohort analysis\n",
    "print(\"Creating cohort analysis...\")\n",
    "\n",
    "cohorts = viz_stream.cohorts(\n",
    "    cohort_start_unit='M',\n",
    "    cohort_period=(1, 'M')\n",
    ")\n",
    "\n",
    "cohorts"
   ]
  },
  {
   "cell_type": "markdown",
   "metadata": {},
   "source": [
    "## Simple Results Summary"
   ]
  },
  {
   "cell_type": "code",
   "execution_count": 12,
   "metadata": {},
   "outputs": [
    {
     "name": "stdout",
     "output_type": "stream",
     "text": [
      "RETENTION ANALYSIS SUMMARY\n",
      "==============================\n",
      "Analysis Date: 2024-01-01\n",
      "Retention Rate: 11.2%\n",
      "Total Supporters Analyzed: 194196\n",
      "Retained: 21709\n",
      "Not Retained: 172487\n",
      "\n",
      "⚠️ Retention rate could be improved\n",
      "\n",
      "Next steps:\n",
      "- Analyze supporter behavior patterns\n",
      "- Implement targeted engagement campaigns\n",
      "- Monitor retention trends monthly\n"
     ]
    }
   ],
   "source": [
    "# Display summary\n",
    "print(\"RETENTION ANALYSIS SUMMARY\")\n",
    "print(\"=\"*30)\n",
    "print(f\"Analysis Date: {analysis_date.date()}\")\n",
    "print(f\"Retention Rate: {result['retention_rate']:.1f}%\")\n",
    "print(f\"Total Supporters Analyzed: {result['total_supporters_last_period']}\")\n",
    "print(f\"Retained: {result['supporters_retained']}\")\n",
    "print(f\"Not Retained: {result['supporters_not_retained']}\")\n",
    "\n",
    "# Performance assessment\n",
    "if result['retention_rate'] >= 60:\n",
    "    print(\"\\n✅ Good retention rate!\")\n",
    "else:\n",
    "    print(\"\\n⚠️ Retention rate could be improved\")\n",
    "\n",
    "print(\"\\nNext steps:\")\n",
    "print(\"- Analyze supporter behavior patterns\")\n",
    "print(\"- Implement targeted engagement campaigns\")\n",
    "print(\"- Monitor retention trends monthly\")"
   ]
  }
 ],
 "metadata": {
  "kernelspec": {
   "display_name": "nonprofit-engagement-model-DMmtMtjk-py3.11",
   "language": "python",
   "name": "python3"
  },
  "language_info": {
   "codemirror_mode": {
    "name": "ipython",
    "version": 3
   },
   "file_extension": ".py",
   "mimetype": "text/x-python",
   "name": "python",
   "nbconvert_exporter": "python",
   "pygments_lexer": "ipython3",
   "version": "3.11.13"
  }
 },
 "nbformat": 4,
 "nbformat_minor": 4
}
